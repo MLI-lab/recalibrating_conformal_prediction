{
 "cells": [
  {
   "cell_type": "markdown",
   "metadata": {},
   "source": [
    "# Test-time recalibration of conformal predictors\n",
    "This notebook reproduces the figures in the paper."
   ]
  },
  {
   "cell_type": "code",
   "execution_count": 1,
   "metadata": {},
   "outputs": [],
   "source": [
    "from pathlib import Path\n",
    "import numpy as np\n",
    "import pandas as pd\n",
    "\n",
    "import plotly\n",
    "import plotly.express as px"
   ]
  },
  {
   "cell_type": "code",
   "execution_count": 2,
   "metadata": {},
   "outputs": [],
   "source": [
    "def update_yaxes_matches(fig: plotly.graph_objs._figure.Figure, num_facets: int):\n",
    "    r\"\"\"update yaxes matches for independent facet customization\"\"\"\n",
    "    fig.layout['yaxis'].matches = 'y1'\n",
    "    for i in range(2,num_facets+1):\n",
    "        fig.layout[f'yaxis{i}'].matches = f'y{i}'"
   ]
  },
  {
   "cell_type": "markdown",
   "metadata": {},
   "source": [
    "## TPS under distribution shift for fixed $\\alpha=0.1$"
   ]
  },
  {
   "cell_type": "markdown",
   "metadata": {},
   "source": [
    "### Figure 2"
   ]
  },
  {
   "cell_type": "code",
   "execution_count": 3,
   "metadata": {},
   "outputs": [],
   "source": [
    "tps_bars_data_file = \"../experiments/cache/tps_recalibration_results.csv\"\n",
    "\n",
    "# parameters\n",
    "arch = 'resnet50'\n",
    "alpha = 0.1\n",
    "\n",
    "use_classes_of_dataset = None"
   ]
  },
  {
   "cell_type": "code",
   "execution_count": 4,
   "metadata": {},
   "outputs": [],
   "source": [
    "tps_bars_df = pd.read_csv(tps_bars_data_file)\n",
    "\n",
    "tps_bars_df = tps_bars_df.drop(columns=[\"Classifier\"])\n",
    "tps_bars_df = tps_bars_df.query(\"alpha == @alpha and Dataset != 'nonliving26'\")\n",
    "tps_bars_df = tps_bars_df.sort_values(by=['shift_type', 'Dataset', 'alpha', 'Method'], ascending=[False, False, True, True], ignore_index=True)"
   ]
  },
  {
   "cell_type": "code",
   "execution_count": 16,
   "metadata": {},
   "outputs": [
    {
     "data": {
      "application/vnd.plotly.v1+json": {
       "config": {
        "plotlyServerURL": "https://plot.ly"
       },
       "data": [
        {
         "alignmentgroup": "True",
         "hovertemplate": "Dataset=ImageNetV2<br>Method=%{x}<br>achieved coverage=%{y}<extra></extra>",
         "legendgroup": "",
         "marker": {
          "color": "#636efa",
          "pattern": {
           "shape": ""
          }
         },
         "name": "",
         "offsetgroup": "",
         "orientation": "v",
         "showlegend": false,
         "textposition": "auto",
         "type": "bar",
         "x": [
          "ACR",
          "CHR",
          "CHR-",
          "DCR",
          "PCR",
          "QTC",
          "QTC-SC",
          "QTC-ST"
         ],
         "xaxis": "x4",
         "y": [
          0.877,
          0.88,
          0.88,
          0.874,
          0.885,
          0.894,
          0.883,
          0.844
         ],
         "yaxis": "y4"
        },
        {
         "alignmentgroup": "True",
         "hovertemplate": "Dataset=ImageNet-Sketch<br>Method=%{x}<br>achieved coverage=%{y}<extra></extra>",
         "legendgroup": "",
         "marker": {
          "color": "#636efa",
          "pattern": {
           "shape": ""
          }
         },
         "name": "",
         "offsetgroup": "",
         "orientation": "v",
         "showlegend": false,
         "textposition": "auto",
         "type": "bar",
         "x": [
          "ACR",
          "CHR",
          "CHR-",
          "DCR",
          "PCR",
          "QTC",
          "QTC-SC",
          "QTC-ST"
         ],
         "xaxis": "x5",
         "y": [
          0.646,
          0.607,
          0.642,
          0.656,
          0.468,
          0.844,
          0.799,
          0.54
         ],
         "yaxis": "y5"
        },
        {
         "alignmentgroup": "True",
         "hovertemplate": "Dataset=ImageNet-R<br>Method=%{x}<br>achieved coverage=%{y}<extra></extra>",
         "legendgroup": "",
         "marker": {
          "color": "#636efa",
          "pattern": {
           "shape": ""
          }
         },
         "name": "",
         "offsetgroup": "",
         "orientation": "v",
         "showlegend": false,
         "textposition": "auto",
         "type": "bar",
         "x": [
          "ACR",
          "CHR",
          "CHR-",
          "DCR",
          "PCR",
          "QTC",
          "QTC-SC",
          "QTC-ST"
         ],
         "xaxis": "x6",
         "y": [
          0.561,
          0.536,
          0.542,
          0.568,
          0.357,
          0.729,
          0.746,
          0.518
         ],
         "yaxis": "y6"
        },
        {
         "alignmentgroup": "True",
         "hovertemplate": "Dataset=entity13<br>Method=%{x}<br>achieved coverage=%{y}<extra></extra>",
         "legendgroup": "",
         "marker": {
          "color": "#636efa",
          "pattern": {
           "shape": ""
          }
         },
         "name": "",
         "offsetgroup": "",
         "orientation": "v",
         "showlegend": false,
         "textposition": "auto",
         "type": "bar",
         "x": [
          "ACR",
          "CHR",
          "CHR-",
          "DCR",
          "PCR",
          "QTC",
          "QTC-SC",
          "QTC-ST"
         ],
         "xaxis": "x",
         "y": [
          0.766,
          0.779,
          0.775,
          0.767,
          0.786,
          0.812,
          0.916,
          0.772
         ],
         "yaxis": "y"
        },
        {
         "alignmentgroup": "True",
         "hovertemplate": "Dataset=entity30<br>Method=%{x}<br>achieved coverage=%{y}<extra></extra>",
         "legendgroup": "",
         "marker": {
          "color": "#636efa",
          "pattern": {
           "shape": ""
          }
         },
         "name": "",
         "offsetgroup": "",
         "orientation": "v",
         "showlegend": false,
         "textposition": "auto",
         "type": "bar",
         "x": [
          "ACR",
          "CHR",
          "CHR-",
          "DCR",
          "PCR",
          "QTC",
          "QTC-SC",
          "QTC-ST"
         ],
         "xaxis": "x2",
         "y": [
          0.719,
          0.75,
          0.742,
          0.728,
          0.731,
          0.791,
          0.89,
          0.771
         ],
         "yaxis": "y2"
        },
        {
         "alignmentgroup": "True",
         "hovertemplate": "Dataset=living17<br>Method=%{x}<br>achieved coverage=%{y}<extra></extra>",
         "legendgroup": "",
         "marker": {
          "color": "#636efa",
          "pattern": {
           "shape": ""
          }
         },
         "name": "",
         "offsetgroup": "",
         "orientation": "v",
         "showlegend": false,
         "textposition": "auto",
         "type": "bar",
         "x": [
          "ACR",
          "CHR",
          "CHR-",
          "DCR",
          "PCR",
          "QTC",
          "QTC-SC",
          "QTC-ST"
         ],
         "xaxis": "x3",
         "y": [
          0.699,
          0.734,
          0.711,
          0.703,
          0.714,
          0.754,
          0.929,
          0.755
         ],
         "yaxis": "y3"
        }
       ],
       "layout": {
        "annotations": [
         {
          "showarrow": false,
          "text": "entity13",
          "x": 0.13999999999999999,
          "xanchor": "center",
          "xref": "paper",
          "y": 0.425,
          "yanchor": "bottom",
          "yref": "paper"
         },
         {
          "showarrow": false,
          "text": "entity30",
          "x": 0.49999999999999994,
          "xanchor": "center",
          "xref": "paper",
          "y": 0.425,
          "yanchor": "bottom",
          "yref": "paper"
         },
         {
          "showarrow": false,
          "text": "living17",
          "x": 0.86,
          "xanchor": "center",
          "xref": "paper",
          "y": 0.425,
          "yanchor": "bottom",
          "yref": "paper"
         },
         {
          "showarrow": false,
          "text": "ImageNetV2",
          "x": 0.13999999999999999,
          "xanchor": "center",
          "xref": "paper",
          "y": 1,
          "yanchor": "bottom",
          "yref": "paper"
         },
         {
          "showarrow": false,
          "text": "ImageNet-Sketch",
          "x": 0.49999999999999994,
          "xanchor": "center",
          "xref": "paper",
          "y": 1,
          "yanchor": "bottom",
          "yref": "paper"
         },
         {
          "showarrow": false,
          "text": "ImageNet-R",
          "x": 0.86,
          "xanchor": "center",
          "xref": "paper",
          "y": 1,
          "yanchor": "bottom",
          "yref": "paper"
         }
        ],
        "barmode": "group",
        "height": 800,
        "legend": {
         "tracegroupgap": 0
        },
        "shapes": [
         {
          "line": {
           "color": "red",
           "dash": "dash",
           "width": 2
          },
          "opacity": 1,
          "type": "line",
          "x0": 0,
          "x1": 1,
          "xref": "x domain",
          "y0": 0.9,
          "y1": 0.9,
          "yref": "y"
         },
         {
          "line": {
           "color": "red",
           "dash": "dash",
           "width": 2
          },
          "opacity": 1,
          "type": "line",
          "x0": 0,
          "x1": 1,
          "xref": "x2 domain",
          "y0": 0.9,
          "y1": 0.9,
          "yref": "y2"
         },
         {
          "line": {
           "color": "red",
           "dash": "dash",
           "width": 2
          },
          "opacity": 1,
          "type": "line",
          "x0": 0,
          "x1": 1,
          "xref": "x3 domain",
          "y0": 0.9,
          "y1": 0.9,
          "yref": "y3"
         },
         {
          "line": {
           "color": "red",
           "dash": "dash",
           "width": 2
          },
          "opacity": 1,
          "type": "line",
          "x0": 0,
          "x1": 1,
          "xref": "x4 domain",
          "y0": 0.9,
          "y1": 0.9,
          "yref": "y4"
         },
         {
          "line": {
           "color": "red",
           "dash": "dash",
           "width": 2
          },
          "opacity": 1,
          "type": "line",
          "x0": 0,
          "x1": 1,
          "xref": "x5 domain",
          "y0": 0.9,
          "y1": 0.9,
          "yref": "y5"
         },
         {
          "line": {
           "color": "red",
           "dash": "dash",
           "width": 2
          },
          "opacity": 1,
          "type": "line",
          "x0": 0,
          "x1": 1,
          "xref": "x6 domain",
          "y0": 0.9,
          "y1": 0.9,
          "yref": "y6"
         }
        ],
        "template": {
         "data": {
          "bar": [
           {
            "error_x": {
             "color": "#2a3f5f"
            },
            "error_y": {
             "color": "#2a3f5f"
            },
            "marker": {
             "line": {
              "color": "#E5ECF6",
              "width": 0.5
             },
             "pattern": {
              "fillmode": "overlay",
              "size": 10,
              "solidity": 0.2
             }
            },
            "type": "bar"
           }
          ],
          "barpolar": [
           {
            "marker": {
             "line": {
              "color": "#E5ECF6",
              "width": 0.5
             },
             "pattern": {
              "fillmode": "overlay",
              "size": 10,
              "solidity": 0.2
             }
            },
            "type": "barpolar"
           }
          ],
          "carpet": [
           {
            "aaxis": {
             "endlinecolor": "#2a3f5f",
             "gridcolor": "white",
             "linecolor": "white",
             "minorgridcolor": "white",
             "startlinecolor": "#2a3f5f"
            },
            "baxis": {
             "endlinecolor": "#2a3f5f",
             "gridcolor": "white",
             "linecolor": "white",
             "minorgridcolor": "white",
             "startlinecolor": "#2a3f5f"
            },
            "type": "carpet"
           }
          ],
          "choropleth": [
           {
            "colorbar": {
             "outlinewidth": 0,
             "ticks": ""
            },
            "type": "choropleth"
           }
          ],
          "contour": [
           {
            "colorbar": {
             "outlinewidth": 0,
             "ticks": ""
            },
            "colorscale": [
             [
              0,
              "#0d0887"
             ],
             [
              0.1111111111111111,
              "#46039f"
             ],
             [
              0.2222222222222222,
              "#7201a8"
             ],
             [
              0.3333333333333333,
              "#9c179e"
             ],
             [
              0.4444444444444444,
              "#bd3786"
             ],
             [
              0.5555555555555556,
              "#d8576b"
             ],
             [
              0.6666666666666666,
              "#ed7953"
             ],
             [
              0.7777777777777778,
              "#fb9f3a"
             ],
             [
              0.8888888888888888,
              "#fdca26"
             ],
             [
              1,
              "#f0f921"
             ]
            ],
            "type": "contour"
           }
          ],
          "contourcarpet": [
           {
            "colorbar": {
             "outlinewidth": 0,
             "ticks": ""
            },
            "type": "contourcarpet"
           }
          ],
          "heatmap": [
           {
            "colorbar": {
             "outlinewidth": 0,
             "ticks": ""
            },
            "colorscale": [
             [
              0,
              "#0d0887"
             ],
             [
              0.1111111111111111,
              "#46039f"
             ],
             [
              0.2222222222222222,
              "#7201a8"
             ],
             [
              0.3333333333333333,
              "#9c179e"
             ],
             [
              0.4444444444444444,
              "#bd3786"
             ],
             [
              0.5555555555555556,
              "#d8576b"
             ],
             [
              0.6666666666666666,
              "#ed7953"
             ],
             [
              0.7777777777777778,
              "#fb9f3a"
             ],
             [
              0.8888888888888888,
              "#fdca26"
             ],
             [
              1,
              "#f0f921"
             ]
            ],
            "type": "heatmap"
           }
          ],
          "heatmapgl": [
           {
            "colorbar": {
             "outlinewidth": 0,
             "ticks": ""
            },
            "colorscale": [
             [
              0,
              "#0d0887"
             ],
             [
              0.1111111111111111,
              "#46039f"
             ],
             [
              0.2222222222222222,
              "#7201a8"
             ],
             [
              0.3333333333333333,
              "#9c179e"
             ],
             [
              0.4444444444444444,
              "#bd3786"
             ],
             [
              0.5555555555555556,
              "#d8576b"
             ],
             [
              0.6666666666666666,
              "#ed7953"
             ],
             [
              0.7777777777777778,
              "#fb9f3a"
             ],
             [
              0.8888888888888888,
              "#fdca26"
             ],
             [
              1,
              "#f0f921"
             ]
            ],
            "type": "heatmapgl"
           }
          ],
          "histogram": [
           {
            "marker": {
             "pattern": {
              "fillmode": "overlay",
              "size": 10,
              "solidity": 0.2
             }
            },
            "type": "histogram"
           }
          ],
          "histogram2d": [
           {
            "colorbar": {
             "outlinewidth": 0,
             "ticks": ""
            },
            "colorscale": [
             [
              0,
              "#0d0887"
             ],
             [
              0.1111111111111111,
              "#46039f"
             ],
             [
              0.2222222222222222,
              "#7201a8"
             ],
             [
              0.3333333333333333,
              "#9c179e"
             ],
             [
              0.4444444444444444,
              "#bd3786"
             ],
             [
              0.5555555555555556,
              "#d8576b"
             ],
             [
              0.6666666666666666,
              "#ed7953"
             ],
             [
              0.7777777777777778,
              "#fb9f3a"
             ],
             [
              0.8888888888888888,
              "#fdca26"
             ],
             [
              1,
              "#f0f921"
             ]
            ],
            "type": "histogram2d"
           }
          ],
          "histogram2dcontour": [
           {
            "colorbar": {
             "outlinewidth": 0,
             "ticks": ""
            },
            "colorscale": [
             [
              0,
              "#0d0887"
             ],
             [
              0.1111111111111111,
              "#46039f"
             ],
             [
              0.2222222222222222,
              "#7201a8"
             ],
             [
              0.3333333333333333,
              "#9c179e"
             ],
             [
              0.4444444444444444,
              "#bd3786"
             ],
             [
              0.5555555555555556,
              "#d8576b"
             ],
             [
              0.6666666666666666,
              "#ed7953"
             ],
             [
              0.7777777777777778,
              "#fb9f3a"
             ],
             [
              0.8888888888888888,
              "#fdca26"
             ],
             [
              1,
              "#f0f921"
             ]
            ],
            "type": "histogram2dcontour"
           }
          ],
          "mesh3d": [
           {
            "colorbar": {
             "outlinewidth": 0,
             "ticks": ""
            },
            "type": "mesh3d"
           }
          ],
          "parcoords": [
           {
            "line": {
             "colorbar": {
              "outlinewidth": 0,
              "ticks": ""
             }
            },
            "type": "parcoords"
           }
          ],
          "pie": [
           {
            "automargin": true,
            "type": "pie"
           }
          ],
          "scatter": [
           {
            "fillpattern": {
             "fillmode": "overlay",
             "size": 10,
             "solidity": 0.2
            },
            "type": "scatter"
           }
          ],
          "scatter3d": [
           {
            "line": {
             "colorbar": {
              "outlinewidth": 0,
              "ticks": ""
             }
            },
            "marker": {
             "colorbar": {
              "outlinewidth": 0,
              "ticks": ""
             }
            },
            "type": "scatter3d"
           }
          ],
          "scattercarpet": [
           {
            "marker": {
             "colorbar": {
              "outlinewidth": 0,
              "ticks": ""
             }
            },
            "type": "scattercarpet"
           }
          ],
          "scattergeo": [
           {
            "marker": {
             "colorbar": {
              "outlinewidth": 0,
              "ticks": ""
             }
            },
            "type": "scattergeo"
           }
          ],
          "scattergl": [
           {
            "marker": {
             "colorbar": {
              "outlinewidth": 0,
              "ticks": ""
             }
            },
            "type": "scattergl"
           }
          ],
          "scattermapbox": [
           {
            "marker": {
             "colorbar": {
              "outlinewidth": 0,
              "ticks": ""
             }
            },
            "type": "scattermapbox"
           }
          ],
          "scatterpolar": [
           {
            "marker": {
             "colorbar": {
              "outlinewidth": 0,
              "ticks": ""
             }
            },
            "type": "scatterpolar"
           }
          ],
          "scatterpolargl": [
           {
            "marker": {
             "colorbar": {
              "outlinewidth": 0,
              "ticks": ""
             }
            },
            "type": "scatterpolargl"
           }
          ],
          "scatterternary": [
           {
            "marker": {
             "colorbar": {
              "outlinewidth": 0,
              "ticks": ""
             }
            },
            "type": "scatterternary"
           }
          ],
          "surface": [
           {
            "colorbar": {
             "outlinewidth": 0,
             "ticks": ""
            },
            "colorscale": [
             [
              0,
              "#0d0887"
             ],
             [
              0.1111111111111111,
              "#46039f"
             ],
             [
              0.2222222222222222,
              "#7201a8"
             ],
             [
              0.3333333333333333,
              "#9c179e"
             ],
             [
              0.4444444444444444,
              "#bd3786"
             ],
             [
              0.5555555555555556,
              "#d8576b"
             ],
             [
              0.6666666666666666,
              "#ed7953"
             ],
             [
              0.7777777777777778,
              "#fb9f3a"
             ],
             [
              0.8888888888888888,
              "#fdca26"
             ],
             [
              1,
              "#f0f921"
             ]
            ],
            "type": "surface"
           }
          ],
          "table": [
           {
            "cells": {
             "fill": {
              "color": "#EBF0F8"
             },
             "line": {
              "color": "white"
             }
            },
            "header": {
             "fill": {
              "color": "#C8D4E3"
             },
             "line": {
              "color": "white"
             }
            },
            "type": "table"
           }
          ]
         },
         "layout": {
          "annotationdefaults": {
           "arrowcolor": "#2a3f5f",
           "arrowhead": 0,
           "arrowwidth": 1
          },
          "autotypenumbers": "strict",
          "coloraxis": {
           "colorbar": {
            "outlinewidth": 0,
            "ticks": ""
           }
          },
          "colorscale": {
           "diverging": [
            [
             0,
             "#8e0152"
            ],
            [
             0.1,
             "#c51b7d"
            ],
            [
             0.2,
             "#de77ae"
            ],
            [
             0.3,
             "#f1b6da"
            ],
            [
             0.4,
             "#fde0ef"
            ],
            [
             0.5,
             "#f7f7f7"
            ],
            [
             0.6,
             "#e6f5d0"
            ],
            [
             0.7,
             "#b8e186"
            ],
            [
             0.8,
             "#7fbc41"
            ],
            [
             0.9,
             "#4d9221"
            ],
            [
             1,
             "#276419"
            ]
           ],
           "sequential": [
            [
             0,
             "#0d0887"
            ],
            [
             0.1111111111111111,
             "#46039f"
            ],
            [
             0.2222222222222222,
             "#7201a8"
            ],
            [
             0.3333333333333333,
             "#9c179e"
            ],
            [
             0.4444444444444444,
             "#bd3786"
            ],
            [
             0.5555555555555556,
             "#d8576b"
            ],
            [
             0.6666666666666666,
             "#ed7953"
            ],
            [
             0.7777777777777778,
             "#fb9f3a"
            ],
            [
             0.8888888888888888,
             "#fdca26"
            ],
            [
             1,
             "#f0f921"
            ]
           ],
           "sequentialminus": [
            [
             0,
             "#0d0887"
            ],
            [
             0.1111111111111111,
             "#46039f"
            ],
            [
             0.2222222222222222,
             "#7201a8"
            ],
            [
             0.3333333333333333,
             "#9c179e"
            ],
            [
             0.4444444444444444,
             "#bd3786"
            ],
            [
             0.5555555555555556,
             "#d8576b"
            ],
            [
             0.6666666666666666,
             "#ed7953"
            ],
            [
             0.7777777777777778,
             "#fb9f3a"
            ],
            [
             0.8888888888888888,
             "#fdca26"
            ],
            [
             1,
             "#f0f921"
            ]
           ]
          },
          "colorway": [
           "#636efa",
           "#EF553B",
           "#00cc96",
           "#ab63fa",
           "#FFA15A",
           "#19d3f3",
           "#FF6692",
           "#B6E880",
           "#FF97FF",
           "#FECB52"
          ],
          "font": {
           "color": "#2a3f5f"
          },
          "geo": {
           "bgcolor": "white",
           "lakecolor": "white",
           "landcolor": "#E5ECF6",
           "showlakes": true,
           "showland": true,
           "subunitcolor": "white"
          },
          "hoverlabel": {
           "align": "left"
          },
          "hovermode": "closest",
          "mapbox": {
           "style": "light"
          },
          "paper_bgcolor": "white",
          "plot_bgcolor": "#E5ECF6",
          "polar": {
           "angularaxis": {
            "gridcolor": "white",
            "linecolor": "white",
            "ticks": ""
           },
           "bgcolor": "#E5ECF6",
           "radialaxis": {
            "gridcolor": "white",
            "linecolor": "white",
            "ticks": ""
           }
          },
          "scene": {
           "xaxis": {
            "backgroundcolor": "#E5ECF6",
            "gridcolor": "white",
            "gridwidth": 2,
            "linecolor": "white",
            "showbackground": true,
            "ticks": "",
            "zerolinecolor": "white"
           },
           "yaxis": {
            "backgroundcolor": "#E5ECF6",
            "gridcolor": "white",
            "gridwidth": 2,
            "linecolor": "white",
            "showbackground": true,
            "ticks": "",
            "zerolinecolor": "white"
           },
           "zaxis": {
            "backgroundcolor": "#E5ECF6",
            "gridcolor": "white",
            "gridwidth": 2,
            "linecolor": "white",
            "showbackground": true,
            "ticks": "",
            "zerolinecolor": "white"
           }
          },
          "shapedefaults": {
           "line": {
            "color": "#2a3f5f"
           }
          },
          "ternary": {
           "aaxis": {
            "gridcolor": "white",
            "linecolor": "white",
            "ticks": ""
           },
           "baxis": {
            "gridcolor": "white",
            "linecolor": "white",
            "ticks": ""
           },
           "bgcolor": "#E5ECF6",
           "caxis": {
            "gridcolor": "white",
            "linecolor": "white",
            "ticks": ""
           }
          },
          "title": {
           "x": 0.05
          },
          "xaxis": {
           "automargin": true,
           "gridcolor": "white",
           "linecolor": "white",
           "ticks": "",
           "title": {
            "standoff": 15
           },
           "zerolinecolor": "white",
           "zerolinewidth": 2
          },
          "yaxis": {
           "automargin": true,
           "gridcolor": "white",
           "linecolor": "white",
           "ticks": "",
           "title": {
            "standoff": 15
           },
           "zerolinecolor": "white",
           "zerolinewidth": 2
          }
         }
        },
        "title": {
         "text": "TPS coverage under distribution shift w/ recalibration"
        },
        "xaxis": {
         "anchor": "y",
         "domain": [
          0,
          0.27999999999999997
         ],
         "title": {
          "text": "Method"
         }
        },
        "xaxis2": {
         "anchor": "y2",
         "domain": [
          0.36,
          0.6399999999999999
         ],
         "matches": "x",
         "title": {
          "text": "Method"
         }
        },
        "xaxis3": {
         "anchor": "y3",
         "domain": [
          0.72,
          1
         ],
         "matches": "x",
         "title": {
          "text": "Method"
         }
        },
        "xaxis4": {
         "anchor": "y4",
         "domain": [
          0,
          0.27999999999999997
         ],
         "matches": "x",
         "showticklabels": false
        },
        "xaxis5": {
         "anchor": "y5",
         "domain": [
          0.36,
          0.6399999999999999
         ],
         "matches": "x",
         "showticklabels": false
        },
        "xaxis6": {
         "anchor": "y6",
         "domain": [
          0.72,
          1
         ],
         "matches": "x",
         "showticklabels": false
        },
        "yaxis": {
         "anchor": "x",
         "domain": [
          0,
          0.425
         ],
         "range": [
          0.58,
          0.93
         ],
         "showticklabels": true,
         "title": {
          "text": "achieved coverage"
         }
        },
        "yaxis2": {
         "anchor": "x2",
         "domain": [
          0,
          0.425
         ],
         "range": [
          0.53,
          0.93
         ],
         "showticklabels": true
        },
        "yaxis3": {
         "anchor": "x3",
         "domain": [
          0,
          0.425
         ],
         "range": [
          0.52,
          0.93
         ],
         "showticklabels": true
        },
        "yaxis4": {
         "anchor": "x4",
         "domain": [
          0.575,
          1
         ],
         "range": [
          0.8,
          0.91
         ],
         "showticklabels": true,
         "title": {
          "text": "achieved coverage"
         }
        },
        "yaxis5": {
         "anchor": "x5",
         "domain": [
          0.575,
          1
         ],
         "range": [
          0.35,
          0.93
         ],
         "showticklabels": true
        },
        "yaxis6": {
         "anchor": "x6",
         "domain": [
          0.575,
          1
         ],
         "range": [
          0.3,
          0.95
         ],
         "showticklabels": true
        }
       }
      },
      "text/html": [
       "<div>                            <div id=\"3d695d90-fcb9-4768-9e2d-09b93886018f\" class=\"plotly-graph-div\" style=\"height:800px; width:100%;\"></div>            <script type=\"text/javascript\">                require([\"plotly\"], function(Plotly) {                    window.PLOTLYENV=window.PLOTLYENV || {};                                    if (document.getElementById(\"3d695d90-fcb9-4768-9e2d-09b93886018f\")) {                    Plotly.newPlot(                        \"3d695d90-fcb9-4768-9e2d-09b93886018f\",                        [{\"alignmentgroup\":\"True\",\"hovertemplate\":\"Dataset=ImageNetV2<br>Method=%{x}<br>achieved coverage=%{y}<extra></extra>\",\"legendgroup\":\"\",\"marker\":{\"color\":\"#636efa\",\"pattern\":{\"shape\":\"\"}},\"name\":\"\",\"offsetgroup\":\"\",\"orientation\":\"v\",\"showlegend\":false,\"textposition\":\"auto\",\"x\":[\"ACR\",\"CHR\",\"CHR-\",\"DCR\",\"PCR\",\"QTC\",\"QTC-SC\",\"QTC-ST\"],\"xaxis\":\"x4\",\"y\":[0.877,0.88,0.88,0.874,0.885,0.894,0.883,0.844],\"yaxis\":\"y4\",\"type\":\"bar\"},{\"alignmentgroup\":\"True\",\"hovertemplate\":\"Dataset=ImageNet-Sketch<br>Method=%{x}<br>achieved coverage=%{y}<extra></extra>\",\"legendgroup\":\"\",\"marker\":{\"color\":\"#636efa\",\"pattern\":{\"shape\":\"\"}},\"name\":\"\",\"offsetgroup\":\"\",\"orientation\":\"v\",\"showlegend\":false,\"textposition\":\"auto\",\"x\":[\"ACR\",\"CHR\",\"CHR-\",\"DCR\",\"PCR\",\"QTC\",\"QTC-SC\",\"QTC-ST\"],\"xaxis\":\"x5\",\"y\":[0.646,0.607,0.642,0.656,0.468,0.844,0.799,0.54],\"yaxis\":\"y5\",\"type\":\"bar\"},{\"alignmentgroup\":\"True\",\"hovertemplate\":\"Dataset=ImageNet-R<br>Method=%{x}<br>achieved coverage=%{y}<extra></extra>\",\"legendgroup\":\"\",\"marker\":{\"color\":\"#636efa\",\"pattern\":{\"shape\":\"\"}},\"name\":\"\",\"offsetgroup\":\"\",\"orientation\":\"v\",\"showlegend\":false,\"textposition\":\"auto\",\"x\":[\"ACR\",\"CHR\",\"CHR-\",\"DCR\",\"PCR\",\"QTC\",\"QTC-SC\",\"QTC-ST\"],\"xaxis\":\"x6\",\"y\":[0.561,0.536,0.542,0.568,0.357,0.729,0.746,0.518],\"yaxis\":\"y6\",\"type\":\"bar\"},{\"alignmentgroup\":\"True\",\"hovertemplate\":\"Dataset=entity13<br>Method=%{x}<br>achieved coverage=%{y}<extra></extra>\",\"legendgroup\":\"\",\"marker\":{\"color\":\"#636efa\",\"pattern\":{\"shape\":\"\"}},\"name\":\"\",\"offsetgroup\":\"\",\"orientation\":\"v\",\"showlegend\":false,\"textposition\":\"auto\",\"x\":[\"ACR\",\"CHR\",\"CHR-\",\"DCR\",\"PCR\",\"QTC\",\"QTC-SC\",\"QTC-ST\"],\"xaxis\":\"x\",\"y\":[0.766,0.779,0.775,0.767,0.786,0.812,0.916,0.772],\"yaxis\":\"y\",\"type\":\"bar\"},{\"alignmentgroup\":\"True\",\"hovertemplate\":\"Dataset=entity30<br>Method=%{x}<br>achieved coverage=%{y}<extra></extra>\",\"legendgroup\":\"\",\"marker\":{\"color\":\"#636efa\",\"pattern\":{\"shape\":\"\"}},\"name\":\"\",\"offsetgroup\":\"\",\"orientation\":\"v\",\"showlegend\":false,\"textposition\":\"auto\",\"x\":[\"ACR\",\"CHR\",\"CHR-\",\"DCR\",\"PCR\",\"QTC\",\"QTC-SC\",\"QTC-ST\"],\"xaxis\":\"x2\",\"y\":[0.719,0.75,0.742,0.728,0.731,0.791,0.89,0.771],\"yaxis\":\"y2\",\"type\":\"bar\"},{\"alignmentgroup\":\"True\",\"hovertemplate\":\"Dataset=living17<br>Method=%{x}<br>achieved coverage=%{y}<extra></extra>\",\"legendgroup\":\"\",\"marker\":{\"color\":\"#636efa\",\"pattern\":{\"shape\":\"\"}},\"name\":\"\",\"offsetgroup\":\"\",\"orientation\":\"v\",\"showlegend\":false,\"textposition\":\"auto\",\"x\":[\"ACR\",\"CHR\",\"CHR-\",\"DCR\",\"PCR\",\"QTC\",\"QTC-SC\",\"QTC-ST\"],\"xaxis\":\"x3\",\"y\":[0.699,0.734,0.711,0.703,0.714,0.754,0.929,0.755],\"yaxis\":\"y3\",\"type\":\"bar\"}],                        {\"template\":{\"data\":{\"histogram2dcontour\":[{\"type\":\"histogram2dcontour\",\"colorbar\":{\"outlinewidth\":0,\"ticks\":\"\"},\"colorscale\":[[0.0,\"#0d0887\"],[0.1111111111111111,\"#46039f\"],[0.2222222222222222,\"#7201a8\"],[0.3333333333333333,\"#9c179e\"],[0.4444444444444444,\"#bd3786\"],[0.5555555555555556,\"#d8576b\"],[0.6666666666666666,\"#ed7953\"],[0.7777777777777778,\"#fb9f3a\"],[0.8888888888888888,\"#fdca26\"],[1.0,\"#f0f921\"]]}],\"choropleth\":[{\"type\":\"choropleth\",\"colorbar\":{\"outlinewidth\":0,\"ticks\":\"\"}}],\"histogram2d\":[{\"type\":\"histogram2d\",\"colorbar\":{\"outlinewidth\":0,\"ticks\":\"\"},\"colorscale\":[[0.0,\"#0d0887\"],[0.1111111111111111,\"#46039f\"],[0.2222222222222222,\"#7201a8\"],[0.3333333333333333,\"#9c179e\"],[0.4444444444444444,\"#bd3786\"],[0.5555555555555556,\"#d8576b\"],[0.6666666666666666,\"#ed7953\"],[0.7777777777777778,\"#fb9f3a\"],[0.8888888888888888,\"#fdca26\"],[1.0,\"#f0f921\"]]}],\"heatmap\":[{\"type\":\"heatmap\",\"colorbar\":{\"outlinewidth\":0,\"ticks\":\"\"},\"colorscale\":[[0.0,\"#0d0887\"],[0.1111111111111111,\"#46039f\"],[0.2222222222222222,\"#7201a8\"],[0.3333333333333333,\"#9c179e\"],[0.4444444444444444,\"#bd3786\"],[0.5555555555555556,\"#d8576b\"],[0.6666666666666666,\"#ed7953\"],[0.7777777777777778,\"#fb9f3a\"],[0.8888888888888888,\"#fdca26\"],[1.0,\"#f0f921\"]]}],\"heatmapgl\":[{\"type\":\"heatmapgl\",\"colorbar\":{\"outlinewidth\":0,\"ticks\":\"\"},\"colorscale\":[[0.0,\"#0d0887\"],[0.1111111111111111,\"#46039f\"],[0.2222222222222222,\"#7201a8\"],[0.3333333333333333,\"#9c179e\"],[0.4444444444444444,\"#bd3786\"],[0.5555555555555556,\"#d8576b\"],[0.6666666666666666,\"#ed7953\"],[0.7777777777777778,\"#fb9f3a\"],[0.8888888888888888,\"#fdca26\"],[1.0,\"#f0f921\"]]}],\"contourcarpet\":[{\"type\":\"contourcarpet\",\"colorbar\":{\"outlinewidth\":0,\"ticks\":\"\"}}],\"contour\":[{\"type\":\"contour\",\"colorbar\":{\"outlinewidth\":0,\"ticks\":\"\"},\"colorscale\":[[0.0,\"#0d0887\"],[0.1111111111111111,\"#46039f\"],[0.2222222222222222,\"#7201a8\"],[0.3333333333333333,\"#9c179e\"],[0.4444444444444444,\"#bd3786\"],[0.5555555555555556,\"#d8576b\"],[0.6666666666666666,\"#ed7953\"],[0.7777777777777778,\"#fb9f3a\"],[0.8888888888888888,\"#fdca26\"],[1.0,\"#f0f921\"]]}],\"surface\":[{\"type\":\"surface\",\"colorbar\":{\"outlinewidth\":0,\"ticks\":\"\"},\"colorscale\":[[0.0,\"#0d0887\"],[0.1111111111111111,\"#46039f\"],[0.2222222222222222,\"#7201a8\"],[0.3333333333333333,\"#9c179e\"],[0.4444444444444444,\"#bd3786\"],[0.5555555555555556,\"#d8576b\"],[0.6666666666666666,\"#ed7953\"],[0.7777777777777778,\"#fb9f3a\"],[0.8888888888888888,\"#fdca26\"],[1.0,\"#f0f921\"]]}],\"mesh3d\":[{\"type\":\"mesh3d\",\"colorbar\":{\"outlinewidth\":0,\"ticks\":\"\"}}],\"scatter\":[{\"fillpattern\":{\"fillmode\":\"overlay\",\"size\":10,\"solidity\":0.2},\"type\":\"scatter\"}],\"parcoords\":[{\"type\":\"parcoords\",\"line\":{\"colorbar\":{\"outlinewidth\":0,\"ticks\":\"\"}}}],\"scatterpolargl\":[{\"type\":\"scatterpolargl\",\"marker\":{\"colorbar\":{\"outlinewidth\":0,\"ticks\":\"\"}}}],\"bar\":[{\"error_x\":{\"color\":\"#2a3f5f\"},\"error_y\":{\"color\":\"#2a3f5f\"},\"marker\":{\"line\":{\"color\":\"#E5ECF6\",\"width\":0.5},\"pattern\":{\"fillmode\":\"overlay\",\"size\":10,\"solidity\":0.2}},\"type\":\"bar\"}],\"scattergeo\":[{\"type\":\"scattergeo\",\"marker\":{\"colorbar\":{\"outlinewidth\":0,\"ticks\":\"\"}}}],\"scatterpolar\":[{\"type\":\"scatterpolar\",\"marker\":{\"colorbar\":{\"outlinewidth\":0,\"ticks\":\"\"}}}],\"histogram\":[{\"marker\":{\"pattern\":{\"fillmode\":\"overlay\",\"size\":10,\"solidity\":0.2}},\"type\":\"histogram\"}],\"scattergl\":[{\"type\":\"scattergl\",\"marker\":{\"colorbar\":{\"outlinewidth\":0,\"ticks\":\"\"}}}],\"scatter3d\":[{\"type\":\"scatter3d\",\"line\":{\"colorbar\":{\"outlinewidth\":0,\"ticks\":\"\"}},\"marker\":{\"colorbar\":{\"outlinewidth\":0,\"ticks\":\"\"}}}],\"scattermapbox\":[{\"type\":\"scattermapbox\",\"marker\":{\"colorbar\":{\"outlinewidth\":0,\"ticks\":\"\"}}}],\"scatterternary\":[{\"type\":\"scatterternary\",\"marker\":{\"colorbar\":{\"outlinewidth\":0,\"ticks\":\"\"}}}],\"scattercarpet\":[{\"type\":\"scattercarpet\",\"marker\":{\"colorbar\":{\"outlinewidth\":0,\"ticks\":\"\"}}}],\"carpet\":[{\"aaxis\":{\"endlinecolor\":\"#2a3f5f\",\"gridcolor\":\"white\",\"linecolor\":\"white\",\"minorgridcolor\":\"white\",\"startlinecolor\":\"#2a3f5f\"},\"baxis\":{\"endlinecolor\":\"#2a3f5f\",\"gridcolor\":\"white\",\"linecolor\":\"white\",\"minorgridcolor\":\"white\",\"startlinecolor\":\"#2a3f5f\"},\"type\":\"carpet\"}],\"table\":[{\"cells\":{\"fill\":{\"color\":\"#EBF0F8\"},\"line\":{\"color\":\"white\"}},\"header\":{\"fill\":{\"color\":\"#C8D4E3\"},\"line\":{\"color\":\"white\"}},\"type\":\"table\"}],\"barpolar\":[{\"marker\":{\"line\":{\"color\":\"#E5ECF6\",\"width\":0.5},\"pattern\":{\"fillmode\":\"overlay\",\"size\":10,\"solidity\":0.2}},\"type\":\"barpolar\"}],\"pie\":[{\"automargin\":true,\"type\":\"pie\"}]},\"layout\":{\"autotypenumbers\":\"strict\",\"colorway\":[\"#636efa\",\"#EF553B\",\"#00cc96\",\"#ab63fa\",\"#FFA15A\",\"#19d3f3\",\"#FF6692\",\"#B6E880\",\"#FF97FF\",\"#FECB52\"],\"font\":{\"color\":\"#2a3f5f\"},\"hovermode\":\"closest\",\"hoverlabel\":{\"align\":\"left\"},\"paper_bgcolor\":\"white\",\"plot_bgcolor\":\"#E5ECF6\",\"polar\":{\"bgcolor\":\"#E5ECF6\",\"angularaxis\":{\"gridcolor\":\"white\",\"linecolor\":\"white\",\"ticks\":\"\"},\"radialaxis\":{\"gridcolor\":\"white\",\"linecolor\":\"white\",\"ticks\":\"\"}},\"ternary\":{\"bgcolor\":\"#E5ECF6\",\"aaxis\":{\"gridcolor\":\"white\",\"linecolor\":\"white\",\"ticks\":\"\"},\"baxis\":{\"gridcolor\":\"white\",\"linecolor\":\"white\",\"ticks\":\"\"},\"caxis\":{\"gridcolor\":\"white\",\"linecolor\":\"white\",\"ticks\":\"\"}},\"coloraxis\":{\"colorbar\":{\"outlinewidth\":0,\"ticks\":\"\"}},\"colorscale\":{\"sequential\":[[0.0,\"#0d0887\"],[0.1111111111111111,\"#46039f\"],[0.2222222222222222,\"#7201a8\"],[0.3333333333333333,\"#9c179e\"],[0.4444444444444444,\"#bd3786\"],[0.5555555555555556,\"#d8576b\"],[0.6666666666666666,\"#ed7953\"],[0.7777777777777778,\"#fb9f3a\"],[0.8888888888888888,\"#fdca26\"],[1.0,\"#f0f921\"]],\"sequentialminus\":[[0.0,\"#0d0887\"],[0.1111111111111111,\"#46039f\"],[0.2222222222222222,\"#7201a8\"],[0.3333333333333333,\"#9c179e\"],[0.4444444444444444,\"#bd3786\"],[0.5555555555555556,\"#d8576b\"],[0.6666666666666666,\"#ed7953\"],[0.7777777777777778,\"#fb9f3a\"],[0.8888888888888888,\"#fdca26\"],[1.0,\"#f0f921\"]],\"diverging\":[[0,\"#8e0152\"],[0.1,\"#c51b7d\"],[0.2,\"#de77ae\"],[0.3,\"#f1b6da\"],[0.4,\"#fde0ef\"],[0.5,\"#f7f7f7\"],[0.6,\"#e6f5d0\"],[0.7,\"#b8e186\"],[0.8,\"#7fbc41\"],[0.9,\"#4d9221\"],[1,\"#276419\"]]},\"xaxis\":{\"gridcolor\":\"white\",\"linecolor\":\"white\",\"ticks\":\"\",\"title\":{\"standoff\":15},\"zerolinecolor\":\"white\",\"automargin\":true,\"zerolinewidth\":2},\"yaxis\":{\"gridcolor\":\"white\",\"linecolor\":\"white\",\"ticks\":\"\",\"title\":{\"standoff\":15},\"zerolinecolor\":\"white\",\"automargin\":true,\"zerolinewidth\":2},\"scene\":{\"xaxis\":{\"backgroundcolor\":\"#E5ECF6\",\"gridcolor\":\"white\",\"linecolor\":\"white\",\"showbackground\":true,\"ticks\":\"\",\"zerolinecolor\":\"white\",\"gridwidth\":2},\"yaxis\":{\"backgroundcolor\":\"#E5ECF6\",\"gridcolor\":\"white\",\"linecolor\":\"white\",\"showbackground\":true,\"ticks\":\"\",\"zerolinecolor\":\"white\",\"gridwidth\":2},\"zaxis\":{\"backgroundcolor\":\"#E5ECF6\",\"gridcolor\":\"white\",\"linecolor\":\"white\",\"showbackground\":true,\"ticks\":\"\",\"zerolinecolor\":\"white\",\"gridwidth\":2}},\"shapedefaults\":{\"line\":{\"color\":\"#2a3f5f\"}},\"annotationdefaults\":{\"arrowcolor\":\"#2a3f5f\",\"arrowhead\":0,\"arrowwidth\":1},\"geo\":{\"bgcolor\":\"white\",\"landcolor\":\"#E5ECF6\",\"subunitcolor\":\"white\",\"showland\":true,\"showlakes\":true,\"lakecolor\":\"white\"},\"title\":{\"x\":0.05},\"mapbox\":{\"style\":\"light\"}}},\"xaxis\":{\"anchor\":\"y\",\"domain\":[0.0,0.27999999999999997],\"title\":{\"text\":\"Method\"}},\"yaxis\":{\"anchor\":\"x\",\"domain\":[0.0,0.425],\"title\":{\"text\":\"achieved coverage\"},\"showticklabels\":true,\"range\":[0.58,0.93]},\"xaxis2\":{\"anchor\":\"y2\",\"domain\":[0.36,0.6399999999999999],\"matches\":\"x\",\"title\":{\"text\":\"Method\"}},\"yaxis2\":{\"anchor\":\"x2\",\"domain\":[0.0,0.425],\"showticklabels\":true,\"range\":[0.53,0.93]},\"xaxis3\":{\"anchor\":\"y3\",\"domain\":[0.72,1.0],\"matches\":\"x\",\"title\":{\"text\":\"Method\"}},\"yaxis3\":{\"anchor\":\"x3\",\"domain\":[0.0,0.425],\"showticklabels\":true,\"range\":[0.52,0.93]},\"xaxis4\":{\"anchor\":\"y4\",\"domain\":[0.0,0.27999999999999997],\"matches\":\"x\",\"showticklabels\":false},\"yaxis4\":{\"anchor\":\"x4\",\"domain\":[0.575,1.0],\"title\":{\"text\":\"achieved coverage\"},\"showticklabels\":true,\"range\":[0.8,0.91]},\"xaxis5\":{\"anchor\":\"y5\",\"domain\":[0.36,0.6399999999999999],\"matches\":\"x\",\"showticklabels\":false},\"yaxis5\":{\"anchor\":\"x5\",\"domain\":[0.575,1.0],\"showticklabels\":true,\"range\":[0.35,0.93]},\"xaxis6\":{\"anchor\":\"y6\",\"domain\":[0.72,1.0],\"matches\":\"x\",\"showticklabels\":false},\"yaxis6\":{\"anchor\":\"x6\",\"domain\":[0.575,1.0],\"showticklabels\":true,\"range\":[0.3,0.95]},\"annotations\":[{\"showarrow\":false,\"text\":\"entity13\",\"x\":0.13999999999999999,\"xanchor\":\"center\",\"xref\":\"paper\",\"y\":0.425,\"yanchor\":\"bottom\",\"yref\":\"paper\"},{\"showarrow\":false,\"text\":\"entity30\",\"x\":0.49999999999999994,\"xanchor\":\"center\",\"xref\":\"paper\",\"y\":0.425,\"yanchor\":\"bottom\",\"yref\":\"paper\"},{\"showarrow\":false,\"text\":\"living17\",\"x\":0.86,\"xanchor\":\"center\",\"xref\":\"paper\",\"y\":0.425,\"yanchor\":\"bottom\",\"yref\":\"paper\"},{\"showarrow\":false,\"text\":\"ImageNetV2\",\"x\":0.13999999999999999,\"xanchor\":\"center\",\"xref\":\"paper\",\"y\":1.0,\"yanchor\":\"bottom\",\"yref\":\"paper\"},{\"showarrow\":false,\"text\":\"ImageNet-Sketch\",\"x\":0.49999999999999994,\"xanchor\":\"center\",\"xref\":\"paper\",\"y\":1.0,\"yanchor\":\"bottom\",\"yref\":\"paper\"},{\"showarrow\":false,\"text\":\"ImageNet-R\",\"x\":0.86,\"xanchor\":\"center\",\"xref\":\"paper\",\"y\":1.0,\"yanchor\":\"bottom\",\"yref\":\"paper\"}],\"legend\":{\"tracegroupgap\":0},\"title\":{\"text\":\"TPS coverage under distribution shift w/ recalibration\"},\"barmode\":\"group\",\"shapes\":[{\"line\":{\"color\":\"red\",\"dash\":\"dash\",\"width\":2},\"opacity\":1,\"type\":\"line\",\"x0\":0,\"x1\":1,\"xref\":\"x domain\",\"y0\":0.9,\"y1\":0.9,\"yref\":\"y\"},{\"line\":{\"color\":\"red\",\"dash\":\"dash\",\"width\":2},\"opacity\":1,\"type\":\"line\",\"x0\":0,\"x1\":1,\"xref\":\"x2 domain\",\"y0\":0.9,\"y1\":0.9,\"yref\":\"y2\"},{\"line\":{\"color\":\"red\",\"dash\":\"dash\",\"width\":2},\"opacity\":1,\"type\":\"line\",\"x0\":0,\"x1\":1,\"xref\":\"x3 domain\",\"y0\":0.9,\"y1\":0.9,\"yref\":\"y3\"},{\"line\":{\"color\":\"red\",\"dash\":\"dash\",\"width\":2},\"opacity\":1,\"type\":\"line\",\"x0\":0,\"x1\":1,\"xref\":\"x4 domain\",\"y0\":0.9,\"y1\":0.9,\"yref\":\"y4\"},{\"line\":{\"color\":\"red\",\"dash\":\"dash\",\"width\":2},\"opacity\":1,\"type\":\"line\",\"x0\":0,\"x1\":1,\"xref\":\"x5 domain\",\"y0\":0.9,\"y1\":0.9,\"yref\":\"y5\"},{\"line\":{\"color\":\"red\",\"dash\":\"dash\",\"width\":2},\"opacity\":1,\"type\":\"line\",\"x0\":0,\"x1\":1,\"xref\":\"x6 domain\",\"y0\":0.9,\"y1\":0.9,\"yref\":\"y6\"}],\"height\":800},                        {\"responsive\": true}                    ).then(function(){\n",
       "                            \n",
       "var gd = document.getElementById('3d695d90-fcb9-4768-9e2d-09b93886018f');\n",
       "var x = new MutationObserver(function (mutations, observer) {{\n",
       "        var display = window.getComputedStyle(gd).display;\n",
       "        if (!display || display === 'none') {{\n",
       "            console.log([gd, 'removed!']);\n",
       "            Plotly.purge(gd);\n",
       "            observer.disconnect();\n",
       "        }}\n",
       "}});\n",
       "\n",
       "// Listen for the removal of the full notebook cells\n",
       "var notebookContainer = gd.closest('#notebook-container');\n",
       "if (notebookContainer) {{\n",
       "    x.observe(notebookContainer, {childList: true});\n",
       "}}\n",
       "\n",
       "// Listen for the clearing of the current output cell\n",
       "var outputEl = gd.closest('.output');\n",
       "if (outputEl) {{\n",
       "    x.observe(outputEl, {childList: true});\n",
       "}}\n",
       "\n",
       "                        })                };                });            </script>        </div>"
      ]
     },
     "metadata": {},
     "output_type": "display_data"
    }
   ],
   "source": [
    "fig = px.bar(\n",
    "    tps_bars_df,\n",
    "    x='Method', y='predicted_coverage', \n",
    "    barmode='group',\n",
    "    # facet_row='shift_type', \n",
    "    facet_row_spacing=0.15,\n",
    "    facet_col='Dataset', facet_col_wrap=3, facet_col_spacing=0.08,\n",
    "    category_orders={\n",
    "        \"Dataset\": [\"ImageNetV2\", \"ImageNet-Sketch\", \"ImageNet-R\", \"entity13\", \"entity30\", \"living17\"]\n",
    "    },\n",
    "    # range_y=[0.5, 0.92],\n",
    "    title=\"TPS coverage under distribution shift w/ recalibration\",\n",
    "    labels = {'predicted_coverage': 'achieved coverage'},\n",
    "    # template=\"simple_white\"\n",
    ")\n",
    "\n",
    "fig.for_each_annotation(lambda a: a.update(text=a.text.split(\"=\")[-1]))\n",
    "\n",
    "\n",
    "fig.update_yaxes(matches=None, showticklabels=True)\n",
    "# fig.update_yaxes(showticklabels=True)\n",
    "# update_yaxes_matches(fig, num_facets=6)\n",
    "\n",
    "fig.update_yaxes(range=[0.80, 0.91], selector=3)\n",
    "fig.update_yaxes(range=[0.35, 0.93], selector=4)\n",
    "fig.update_yaxes(range=[0.30, 0.95], selector=5)\n",
    "fig.update_yaxes(range=[0.58, 0.93], selector=0)\n",
    "fig.update_yaxes(range=[0.53, 0.93], selector=1)\n",
    "fig.update_yaxes(range=[0.52, 0.93], selector=2)\n",
    "# fig.layout['yaxis'].update(range=[0.855, 0.9], matches=None)\n",
    "# fig.update_traces(textposition=\"bottom right\")\n",
    "\n",
    "\n",
    "fig.add_hline(\n",
    "    y=0.9, line_dash=\"dash\", line_color='red', line_width=2, opacity=1,\n",
    "    # annotation_text=r\"$1-\\alpha$\",\n",
    "    # annotation_position=\"top left\"\n",
    ")\n",
    "\n",
    "fig.update_layout(height=800)\n",
    "\n",
    "fig.show()"
   ]
  },
  {
   "cell_type": "markdown",
   "metadata": {},
   "source": [
    "## TPS-APS under distribution shift for varying $\\alpha$"
   ]
  },
  {
   "cell_type": "markdown",
   "metadata": {},
   "source": [
    "### Figure 3"
   ]
  },
  {
   "cell_type": "code",
   "execution_count": 18,
   "metadata": {},
   "outputs": [],
   "source": [
    "# parameters\n",
    "arch = 'resnet50'\n",
    "alpha = 0.1\n",
    "\n",
    "kreg = 2\n",
    "lamda = 0.2\n",
    "\n",
    "use_classes_of_dataset = None\n",
    "use_platt_scaling = False"
   ]
  },
  {
   "cell_type": "code",
   "execution_count": 32,
   "metadata": {},
   "outputs": [],
   "source": [
    "rcp_lines_df = pd.read_csv(\"/root/dockspace/clean_recalibrating_cp/experiments/cache/recalibration_results.csv\")"
   ]
  },
  {
   "cell_type": "code",
   "execution_count": 35,
   "metadata": {},
   "outputs": [
    {
     "data": {
      "application/vnd.plotly.v1+json": {
       "config": {
        "plotlyServerURL": "https://plot.ly"
       },
       "data": [
        {
         "hovertemplate": "Method=$y=x$<br>ConformalPredictor=TPS<br>Dataset=ImageNetV2<br>$1-\\alpha$=%{x}<br>achieved coverage=%{y}<extra></extra>",
         "legendgroup": "$y=x$",
         "line": {
          "color": "#636efa",
          "dash": "solid"
         },
         "marker": {
          "symbol": "circle"
         },
         "mode": "markers+lines",
         "name": "$y=x$",
         "orientation": "v",
         "showlegend": true,
         "type": "scatter",
         "x": [
          0.8,
          0.85,
          0.9,
          0.925,
          0.95,
          0.975,
          0.99
         ],
         "xaxis": "x7",
         "y": [
          0.8,
          0.85,
          0.9,
          0.925,
          0.95,
          0.975,
          0.99
         ],
         "yaxis": "y7"
        },
        {
         "hovertemplate": "Method=$y=x$<br>ConformalPredictor=TPS<br>Dataset=ImageNet-Sketch<br>$1-\\alpha$=%{x}<br>achieved coverage=%{y}<extra></extra>",
         "legendgroup": "$y=x$",
         "line": {
          "color": "#636efa",
          "dash": "solid"
         },
         "marker": {
          "symbol": "circle"
         },
         "mode": "markers+lines",
         "name": "$y=x$",
         "orientation": "v",
         "showlegend": false,
         "type": "scatter",
         "x": [
          0.8,
          0.85,
          0.9,
          0.925,
          0.95,
          0.975,
          0.99
         ],
         "xaxis": "x8",
         "y": [
          0.8,
          0.85,
          0.9,
          0.925,
          0.95,
          0.975,
          0.99
         ],
         "yaxis": "y8"
        },
        {
         "hovertemplate": "Method=$y=x$<br>ConformalPredictor=TPS<br>Dataset=ImageNet-R<br>$1-\\alpha$=%{x}<br>achieved coverage=%{y}<extra></extra>",
         "legendgroup": "$y=x$",
         "line": {
          "color": "#636efa",
          "dash": "solid"
         },
         "marker": {
          "symbol": "circle"
         },
         "mode": "markers+lines",
         "name": "$y=x$",
         "orientation": "v",
         "showlegend": false,
         "type": "scatter",
         "x": [
          0.8,
          0.85,
          0.9,
          0.925,
          0.95,
          0.975,
          0.99
         ],
         "xaxis": "x9",
         "y": [
          0.8,
          0.85,
          0.9,
          0.925,
          0.95,
          0.975,
          0.99
         ],
         "yaxis": "y9"
        },
        {
         "hovertemplate": "Method=$y=x$<br>ConformalPredictor=APS<br>Dataset=ImageNetV2<br>$1-\\alpha$=%{x}<br>achieved coverage=%{y}<extra></extra>",
         "legendgroup": "$y=x$",
         "line": {
          "color": "#636efa",
          "dash": "solid"
         },
         "marker": {
          "symbol": "circle"
         },
         "mode": "markers+lines",
         "name": "$y=x$",
         "orientation": "v",
         "showlegend": false,
         "type": "scatter",
         "x": [
          0.8,
          0.85,
          0.9,
          0.925,
          0.95,
          0.975,
          0.99
         ],
         "xaxis": "x4",
         "y": [
          0.8,
          0.85,
          0.9,
          0.925,
          0.95,
          0.975,
          0.99
         ],
         "yaxis": "y4"
        },
        {
         "hovertemplate": "Method=$y=x$<br>ConformalPredictor=APS<br>Dataset=ImageNet-Sketch<br>$1-\\alpha$=%{x}<br>achieved coverage=%{y}<extra></extra>",
         "legendgroup": "$y=x$",
         "line": {
          "color": "#636efa",
          "dash": "solid"
         },
         "marker": {
          "symbol": "circle"
         },
         "mode": "markers+lines",
         "name": "$y=x$",
         "orientation": "v",
         "showlegend": false,
         "type": "scatter",
         "x": [
          0.8,
          0.85,
          0.9,
          0.925,
          0.95,
          0.975,
          0.99
         ],
         "xaxis": "x5",
         "y": [
          0.8,
          0.85,
          0.9,
          0.925,
          0.95,
          0.975,
          0.99
         ],
         "yaxis": "y5"
        },
        {
         "hovertemplate": "Method=$y=x$<br>ConformalPredictor=APS<br>Dataset=ImageNet-R<br>$1-\\alpha$=%{x}<br>achieved coverage=%{y}<extra></extra>",
         "legendgroup": "$y=x$",
         "line": {
          "color": "#636efa",
          "dash": "solid"
         },
         "marker": {
          "symbol": "circle"
         },
         "mode": "markers+lines",
         "name": "$y=x$",
         "orientation": "v",
         "showlegend": false,
         "type": "scatter",
         "x": [
          0.8,
          0.85,
          0.9,
          0.925,
          0.95,
          0.975,
          0.99
         ],
         "xaxis": "x6",
         "y": [
          0.8,
          0.85,
          0.9,
          0.925,
          0.95,
          0.975,
          0.99
         ],
         "yaxis": "y6"
        },
        {
         "hovertemplate": "Method=$y=x$<br>ConformalPredictor=RAPS<br>Dataset=ImageNetV2<br>$1-\\alpha$=%{x}<br>achieved coverage=%{y}<extra></extra>",
         "legendgroup": "$y=x$",
         "line": {
          "color": "#636efa",
          "dash": "solid"
         },
         "marker": {
          "symbol": "circle"
         },
         "mode": "markers+lines",
         "name": "$y=x$",
         "orientation": "v",
         "showlegend": false,
         "type": "scatter",
         "x": [
          0.8,
          0.85,
          0.9,
          0.925,
          0.95,
          0.975,
          0.99
         ],
         "xaxis": "x",
         "y": [
          0.8,
          0.85,
          0.9,
          0.925,
          0.95,
          0.975,
          0.99
         ],
         "yaxis": "y"
        },
        {
         "hovertemplate": "Method=$y=x$<br>ConformalPredictor=RAPS<br>Dataset=ImageNet-Sketch<br>$1-\\alpha$=%{x}<br>achieved coverage=%{y}<extra></extra>",
         "legendgroup": "$y=x$",
         "line": {
          "color": "#636efa",
          "dash": "solid"
         },
         "marker": {
          "symbol": "circle"
         },
         "mode": "markers+lines",
         "name": "$y=x$",
         "orientation": "v",
         "showlegend": false,
         "type": "scatter",
         "x": [
          0.8,
          0.85,
          0.9,
          0.925,
          0.95,
          0.975,
          0.99
         ],
         "xaxis": "x2",
         "y": [
          0.8,
          0.85,
          0.9,
          0.925,
          0.95,
          0.975,
          0.99
         ],
         "yaxis": "y2"
        },
        {
         "hovertemplate": "Method=$y=x$<br>ConformalPredictor=RAPS<br>Dataset=ImageNet-R<br>$1-\\alpha$=%{x}<br>achieved coverage=%{y}<extra></extra>",
         "legendgroup": "$y=x$",
         "line": {
          "color": "#636efa",
          "dash": "solid"
         },
         "marker": {
          "symbol": "circle"
         },
         "mode": "markers+lines",
         "name": "$y=x$",
         "orientation": "v",
         "showlegend": false,
         "type": "scatter",
         "x": [
          0.8,
          0.85,
          0.9,
          0.925,
          0.95,
          0.975,
          0.99
         ],
         "xaxis": "x3",
         "y": [
          0.8,
          0.85,
          0.9,
          0.925,
          0.95,
          0.975,
          0.99
         ],
         "yaxis": "y3"
        },
        {
         "hovertemplate": "Method=original<br>ConformalPredictor=TPS<br>Dataset=ImageNetV2<br>$1-\\alpha$=%{x}<br>achieved coverage=%{y}<extra></extra>",
         "legendgroup": "original",
         "line": {
          "color": "#EF553B",
          "dash": "solid"
         },
         "marker": {
          "symbol": "circle"
         },
         "mode": "markers+lines",
         "name": "original",
         "orientation": "v",
         "showlegend": true,
         "type": "scatter",
         "x": [
          0.8,
          0.85,
          0.9,
          0.925,
          0.95,
          0.975,
          0.99
         ],
         "xaxis": "x7",
         "y": [
          0.676,
          0.742,
          0.812,
          0.853,
          0.898,
          0.943,
          0.976
         ],
         "yaxis": "y7"
        },
        {
         "hovertemplate": "Method=original<br>ConformalPredictor=TPS<br>Dataset=ImageNet-Sketch<br>$1-\\alpha$=%{x}<br>achieved coverage=%{y}<extra></extra>",
         "legendgroup": "original",
         "line": {
          "color": "#EF553B",
          "dash": "solid"
         },
         "marker": {
          "symbol": "circle"
         },
         "mode": "markers+lines",
         "name": "original",
         "orientation": "v",
         "showlegend": false,
         "type": "scatter",
         "x": [
          0.8,
          0.85,
          0.9,
          0.925,
          0.95,
          0.975,
          0.99
         ],
         "xaxis": "x8",
         "y": [
          0.252,
          0.307,
          0.38,
          0.434,
          0.508,
          0.64,
          0.797
         ],
         "yaxis": "y8"
        },
        {
         "hovertemplate": "Method=original<br>ConformalPredictor=TPS<br>Dataset=ImageNet-R<br>$1-\\alpha$=%{x}<br>achieved coverage=%{y}<extra></extra>",
         "legendgroup": "original",
         "line": {
          "color": "#EF553B",
          "dash": "solid"
         },
         "marker": {
          "symbol": "circle"
         },
         "mode": "markers+lines",
         "name": "original",
         "orientation": "v",
         "showlegend": false,
         "type": "scatter",
         "x": [
          0.8,
          0.85,
          0.9,
          0.925,
          0.95,
          0.975,
          0.99
         ],
         "xaxis": "x9",
         "y": [
          0.241,
          0.287,
          0.343,
          0.388,
          0.451,
          0.56,
          0.705
         ],
         "yaxis": "y9"
        },
        {
         "hovertemplate": "Method=original<br>ConformalPredictor=APS<br>Dataset=ImageNetV2<br>$1-\\alpha$=%{x}<br>achieved coverage=%{y}<extra></extra>",
         "legendgroup": "original",
         "line": {
          "color": "#EF553B",
          "dash": "solid"
         },
         "marker": {
          "symbol": "circle"
         },
         "mode": "markers+lines",
         "name": "original",
         "orientation": "v",
         "showlegend": false,
         "type": "scatter",
         "x": [
          0.8,
          0.85,
          0.9,
          0.925,
          0.95,
          0.975,
          0.99
         ],
         "xaxis": "x4",
         "y": [
          0.755,
          0.814,
          0.863,
          0.894,
          0.927,
          0.961,
          0.985
         ],
         "yaxis": "y4"
        },
        {
         "hovertemplate": "Method=original<br>ConformalPredictor=APS<br>Dataset=ImageNet-Sketch<br>$1-\\alpha$=%{x}<br>achieved coverage=%{y}<extra></extra>",
         "legendgroup": "original",
         "line": {
          "color": "#EF553B",
          "dash": "solid"
         },
         "marker": {
          "symbol": "circle"
         },
         "mode": "markers+lines",
         "name": "original",
         "orientation": "v",
         "showlegend": false,
         "type": "scatter",
         "x": [
          0.8,
          0.85,
          0.9,
          0.925,
          0.95,
          0.975,
          0.99
         ],
         "xaxis": "x5",
         "y": [
          0.496,
          0.559,
          0.638,
          0.69,
          0.759,
          0.852,
          0.94
         ],
         "yaxis": "y5"
        },
        {
         "hovertemplate": "Method=original<br>ConformalPredictor=APS<br>Dataset=ImageNet-R<br>$1-\\alpha$=%{x}<br>achieved coverage=%{y}<extra></extra>",
         "legendgroup": "original",
         "line": {
          "color": "#EF553B",
          "dash": "solid"
         },
         "marker": {
          "symbol": "circle"
         },
         "mode": "markers+lines",
         "name": "original",
         "orientation": "v",
         "showlegend": false,
         "type": "scatter",
         "x": [
          0.8,
          0.85,
          0.9,
          0.925,
          0.95,
          0.975,
          0.99
         ],
         "xaxis": "x6",
         "y": [
          0.443,
          0.494,
          0.564,
          0.611,
          0.672,
          0.771,
          0.875
         ],
         "yaxis": "y6"
        },
        {
         "hovertemplate": "Method=original<br>ConformalPredictor=RAPS<br>Dataset=ImageNetV2<br>$1-\\alpha$=%{x}<br>achieved coverage=%{y}<extra></extra>",
         "legendgroup": "original",
         "line": {
          "color": "#EF553B",
          "dash": "solid"
         },
         "marker": {
          "symbol": "circle"
         },
         "mode": "markers+lines",
         "name": "original",
         "orientation": "v",
         "showlegend": false,
         "type": "scatter",
         "x": [
          0.8,
          0.85,
          0.9,
          0.925,
          0.95,
          0.975,
          0.99
         ],
         "xaxis": "x",
         "y": [
          0.705,
          0.75,
          0.803,
          0.844,
          0.884,
          0.932,
          0.966
         ],
         "yaxis": "y"
        },
        {
         "hovertemplate": "Method=original<br>ConformalPredictor=RAPS<br>Dataset=ImageNet-Sketch<br>$1-\\alpha$=%{x}<br>achieved coverage=%{y}<extra></extra>",
         "legendgroup": "original",
         "line": {
          "color": "#EF553B",
          "dash": "solid"
         },
         "marker": {
          "symbol": "circle"
         },
         "mode": "markers+lines",
         "name": "original",
         "orientation": "v",
         "showlegend": false,
         "type": "scatter",
         "x": [
          0.8,
          0.85,
          0.9,
          0.925,
          0.95,
          0.975,
          0.99
         ],
         "xaxis": "x2",
         "y": [
          0.326,
          0.343,
          0.379,
          0.414,
          0.465,
          0.539,
          0.641
         ],
         "yaxis": "y2"
        },
        {
         "hovertemplate": "Method=original<br>ConformalPredictor=RAPS<br>Dataset=ImageNet-R<br>$1-\\alpha$=%{x}<br>achieved coverage=%{y}<extra></extra>",
         "legendgroup": "original",
         "line": {
          "color": "#EF553B",
          "dash": "solid"
         },
         "marker": {
          "symbol": "circle"
         },
         "mode": "markers+lines",
         "name": "original",
         "orientation": "v",
         "showlegend": false,
         "type": "scatter",
         "x": [
          0.8,
          0.85,
          0.9,
          0.925,
          0.95,
          0.975,
          0.99
         ],
         "xaxis": "x3",
         "y": [
          0.306,
          0.32,
          0.346,
          0.369,
          0.408,
          0.473,
          0.568
         ],
         "yaxis": "y3"
        },
        {
         "hovertemplate": "Method=QTC<br>ConformalPredictor=TPS<br>Dataset=ImageNetV2<br>$1-\\alpha$=%{x}<br>achieved coverage=%{y}<extra></extra>",
         "legendgroup": "QTC",
         "line": {
          "color": "#00cc96",
          "dash": "solid"
         },
         "marker": {
          "symbol": "circle"
         },
         "mode": "markers+lines",
         "name": "QTC",
         "orientation": "v",
         "showlegend": true,
         "type": "scatter",
         "x": [
          0.8,
          0.85,
          0.9,
          0.925,
          0.95,
          0.975,
          0.99
         ],
         "xaxis": "x7",
         "y": [
          0.782,
          0.838,
          0.894,
          0.92,
          0.944,
          0.971,
          0.991
         ],
         "yaxis": "y7"
        },
        {
         "hovertemplate": "Method=QTC<br>ConformalPredictor=TPS<br>Dataset=ImageNet-Sketch<br>$1-\\alpha$=%{x}<br>achieved coverage=%{y}<extra></extra>",
         "legendgroup": "QTC",
         "line": {
          "color": "#00cc96",
          "dash": "solid"
         },
         "marker": {
          "symbol": "circle"
         },
         "mode": "markers+lines",
         "name": "QTC",
         "orientation": "v",
         "showlegend": false,
         "type": "scatter",
         "x": [
          0.8,
          0.85,
          0.9,
          0.925,
          0.95,
          0.975,
          0.99
         ],
         "xaxis": "x8",
         "y": [
          0.678,
          0.749,
          0.844,
          0.895,
          0.954,
          0.99,
          0.999
         ],
         "yaxis": "y8"
        },
        {
         "hovertemplate": "Method=QTC<br>ConformalPredictor=TPS<br>Dataset=ImageNet-R<br>$1-\\alpha$=%{x}<br>achieved coverage=%{y}<extra></extra>",
         "legendgroup": "QTC",
         "line": {
          "color": "#00cc96",
          "dash": "solid"
         },
         "marker": {
          "symbol": "circle"
         },
         "mode": "markers+lines",
         "name": "QTC",
         "orientation": "v",
         "showlegend": false,
         "type": "scatter",
         "x": [
          0.8,
          0.85,
          0.9,
          0.925,
          0.95,
          0.975,
          0.99
         ],
         "xaxis": "x9",
         "y": [
          0.585,
          0.645,
          0.729,
          0.789,
          0.848,
          0.935,
          0.987
         ],
         "yaxis": "y9"
        },
        {
         "hovertemplate": "Method=QTC<br>ConformalPredictor=APS<br>Dataset=ImageNetV2<br>$1-\\alpha$=%{x}<br>achieved coverage=%{y}<extra></extra>",
         "legendgroup": "QTC",
         "line": {
          "color": "#00cc96",
          "dash": "solid"
         },
         "marker": {
          "symbol": "circle"
         },
         "mode": "markers+lines",
         "name": "QTC",
         "orientation": "v",
         "showlegend": false,
         "type": "scatter",
         "x": [
          0.8,
          0.85,
          0.9,
          0.925,
          0.95,
          0.975,
          0.99
         ],
         "xaxis": "x4",
         "y": [
          0.843,
          0.883,
          0.922,
          0.943,
          0.963,
          0.98,
          0.994
         ],
         "yaxis": "y4"
        },
        {
         "hovertemplate": "Method=QTC<br>ConformalPredictor=APS<br>Dataset=ImageNet-Sketch<br>$1-\\alpha$=%{x}<br>achieved coverage=%{y}<extra></extra>",
         "legendgroup": "QTC",
         "line": {
          "color": "#00cc96",
          "dash": "solid"
         },
         "marker": {
          "symbol": "circle"
         },
         "mode": "markers+lines",
         "name": "QTC",
         "orientation": "v",
         "showlegend": false,
         "type": "scatter",
         "x": [
          0.8,
          0.85,
          0.9,
          0.925,
          0.95,
          0.975,
          0.99
         ],
         "xaxis": "x5",
         "y": [
          0.884,
          0.919,
          0.957,
          0.974,
          0.986,
          0.995,
          1
         ],
         "yaxis": "y5"
        },
        {
         "hovertemplate": "Method=QTC<br>ConformalPredictor=APS<br>Dataset=ImageNet-R<br>$1-\\alpha$=%{x}<br>achieved coverage=%{y}<extra></extra>",
         "legendgroup": "QTC",
         "line": {
          "color": "#00cc96",
          "dash": "solid"
         },
         "marker": {
          "symbol": "circle"
         },
         "mode": "markers+lines",
         "name": "QTC",
         "orientation": "v",
         "showlegend": false,
         "type": "scatter",
         "x": [
          0.8,
          0.85,
          0.9,
          0.925,
          0.95,
          0.975,
          0.99
         ],
         "xaxis": "x6",
         "y": [
          0.791,
          0.837,
          0.888,
          0.919,
          0.947,
          0.971,
          0.991
         ],
         "yaxis": "y6"
        },
        {
         "hovertemplate": "Method=QTC<br>ConformalPredictor=RAPS<br>Dataset=ImageNetV2<br>$1-\\alpha$=%{x}<br>achieved coverage=%{y}<extra></extra>",
         "legendgroup": "QTC",
         "line": {
          "color": "#00cc96",
          "dash": "solid"
         },
         "marker": {
          "symbol": "circle"
         },
         "mode": "markers+lines",
         "name": "QTC",
         "orientation": "v",
         "showlegend": false,
         "type": "scatter",
         "x": [
          0.8,
          0.85,
          0.9,
          0.925,
          0.95,
          0.975,
          0.99
         ],
         "xaxis": "x",
         "y": [
          0.779,
          0.828,
          0.88,
          0.905,
          0.933,
          0.961,
          0.985
         ],
         "yaxis": "y"
        },
        {
         "hovertemplate": "Method=QTC<br>ConformalPredictor=RAPS<br>Dataset=ImageNet-Sketch<br>$1-\\alpha$=%{x}<br>achieved coverage=%{y}<extra></extra>",
         "legendgroup": "QTC",
         "line": {
          "color": "#00cc96",
          "dash": "solid"
         },
         "marker": {
          "symbol": "circle"
         },
         "mode": "markers+lines",
         "name": "QTC",
         "orientation": "v",
         "showlegend": false,
         "type": "scatter",
         "x": [
          0.8,
          0.85,
          0.9,
          0.925,
          0.95,
          0.975,
          0.99
         ],
         "xaxis": "x2",
         "y": [
          0.563,
          0.609,
          0.672,
          0.71,
          0.761,
          0.839,
          0.927
         ],
         "yaxis": "y2"
        },
        {
         "hovertemplate": "Method=QTC<br>ConformalPredictor=RAPS<br>Dataset=ImageNet-R<br>$1-\\alpha$=%{x}<br>achieved coverage=%{y}<extra></extra>",
         "legendgroup": "QTC",
         "line": {
          "color": "#00cc96",
          "dash": "solid"
         },
         "marker": {
          "symbol": "circle"
         },
         "mode": "markers+lines",
         "name": "QTC",
         "orientation": "v",
         "showlegend": false,
         "type": "scatter",
         "x": [
          0.8,
          0.85,
          0.9,
          0.925,
          0.95,
          0.975,
          0.99
         ],
         "xaxis": "x3",
         "y": [
          0.489,
          0.528,
          0.582,
          0.623,
          0.665,
          0.741,
          0.819
         ],
         "yaxis": "y3"
        },
        {
         "hovertemplate": "Method=QTC-SC<br>ConformalPredictor=TPS<br>Dataset=ImageNetV2<br>$1-\\alpha$=%{x}<br>achieved coverage=%{y}<extra></extra>",
         "legendgroup": "QTC-SC",
         "line": {
          "color": "#ab63fa",
          "dash": "solid"
         },
         "marker": {
          "symbol": "circle"
         },
         "mode": "markers+lines",
         "name": "QTC-SC",
         "orientation": "v",
         "showlegend": true,
         "type": "scatter",
         "x": [
          0.8,
          0.85,
          0.9,
          0.925,
          0.95,
          0.975,
          0.99
         ],
         "xaxis": "x7",
         "y": [
          0.768,
          0.823,
          0.883,
          0.909,
          0.935,
          0.965,
          0.985
         ],
         "yaxis": "y7"
        },
        {
         "hovertemplate": "Method=QTC-SC<br>ConformalPredictor=TPS<br>Dataset=ImageNet-Sketch<br>$1-\\alpha$=%{x}<br>achieved coverage=%{y}<extra></extra>",
         "legendgroup": "QTC-SC",
         "line": {
          "color": "#ab63fa",
          "dash": "solid"
         },
         "marker": {
          "symbol": "circle"
         },
         "mode": "markers+lines",
         "name": "QTC-SC",
         "orientation": "v",
         "showlegend": false,
         "type": "scatter",
         "x": [
          0.8,
          0.85,
          0.9,
          0.925,
          0.95,
          0.975,
          0.99
         ],
         "xaxis": "x8",
         "y": [
          0.655,
          0.712,
          0.799,
          0.848,
          0.895,
          0.953,
          0.983
         ],
         "yaxis": "y8"
        },
        {
         "hovertemplate": "Method=QTC-SC<br>ConformalPredictor=TPS<br>Dataset=ImageNet-R<br>$1-\\alpha$=%{x}<br>achieved coverage=%{y}<extra></extra>",
         "legendgroup": "QTC-SC",
         "line": {
          "color": "#ab63fa",
          "dash": "solid"
         },
         "marker": {
          "symbol": "circle"
         },
         "mode": "markers+lines",
         "name": "QTC-SC",
         "orientation": "v",
         "showlegend": false,
         "type": "scatter",
         "x": [
          0.8,
          0.85,
          0.9,
          0.925,
          0.95,
          0.975,
          0.99
         ],
         "xaxis": "x9",
         "y": [
          0.586,
          0.646,
          0.746,
          0.802,
          0.872,
          0.965,
          0.99
         ],
         "yaxis": "y9"
        },
        {
         "hovertemplate": "Method=QTC-SC<br>ConformalPredictor=APS<br>Dataset=ImageNetV2<br>$1-\\alpha$=%{x}<br>achieved coverage=%{y}<extra></extra>",
         "legendgroup": "QTC-SC",
         "line": {
          "color": "#ab63fa",
          "dash": "solid"
         },
         "marker": {
          "symbol": "circle"
         },
         "mode": "markers+lines",
         "name": "QTC-SC",
         "orientation": "v",
         "showlegend": false,
         "type": "scatter",
         "x": [
          0.8,
          0.85,
          0.9,
          0.925,
          0.95,
          0.975,
          0.99
         ],
         "xaxis": "x4",
         "y": [
          0.83,
          0.874,
          0.914,
          0.934,
          0.956,
          0.977,
          0.99
         ],
         "yaxis": "y4"
        },
        {
         "hovertemplate": "Method=QTC-SC<br>ConformalPredictor=APS<br>Dataset=ImageNet-Sketch<br>$1-\\alpha$=%{x}<br>achieved coverage=%{y}<extra></extra>",
         "legendgroup": "QTC-SC",
         "line": {
          "color": "#ab63fa",
          "dash": "solid"
         },
         "marker": {
          "symbol": "circle"
         },
         "mode": "markers+lines",
         "name": "QTC-SC",
         "orientation": "v",
         "showlegend": false,
         "type": "scatter",
         "x": [
          0.8,
          0.85,
          0.9,
          0.925,
          0.95,
          0.975,
          0.99
         ],
         "xaxis": "x5",
         "y": [
          0.866,
          0.902,
          0.94,
          0.959,
          0.975,
          0.986,
          0.992
         ],
         "yaxis": "y5"
        },
        {
         "hovertemplate": "Method=QTC-SC<br>ConformalPredictor=APS<br>Dataset=ImageNet-R<br>$1-\\alpha$=%{x}<br>achieved coverage=%{y}<extra></extra>",
         "legendgroup": "QTC-SC",
         "line": {
          "color": "#ab63fa",
          "dash": "solid"
         },
         "marker": {
          "symbol": "circle"
         },
         "mode": "markers+lines",
         "name": "QTC-SC",
         "orientation": "v",
         "showlegend": false,
         "type": "scatter",
         "x": [
          0.8,
          0.85,
          0.9,
          0.925,
          0.95,
          0.975,
          0.99
         ],
         "xaxis": "x6",
         "y": [
          0.792,
          0.839,
          0.898,
          0.927,
          0.953,
          0.981,
          0.992
         ],
         "yaxis": "y6"
        },
        {
         "hovertemplate": "Method=QTC-SC<br>ConformalPredictor=RAPS<br>Dataset=ImageNetV2<br>$1-\\alpha$=%{x}<br>achieved coverage=%{y}<extra></extra>",
         "legendgroup": "QTC-SC",
         "line": {
          "color": "#ab63fa",
          "dash": "solid"
         },
         "marker": {
          "symbol": "circle"
         },
         "mode": "markers+lines",
         "name": "QTC-SC",
         "orientation": "v",
         "showlegend": false,
         "type": "scatter",
         "x": [
          0.8,
          0.85,
          0.9,
          0.925,
          0.95,
          0.975,
          0.99
         ],
         "xaxis": "x",
         "y": [
          0.768,
          0.813,
          0.87,
          0.894,
          0.923,
          0.955,
          0.98
         ],
         "yaxis": "y"
        },
        {
         "hovertemplate": "Method=QTC-SC<br>ConformalPredictor=RAPS<br>Dataset=ImageNet-Sketch<br>$1-\\alpha$=%{x}<br>achieved coverage=%{y}<extra></extra>",
         "legendgroup": "QTC-SC",
         "line": {
          "color": "#ab63fa",
          "dash": "solid"
         },
         "marker": {
          "symbol": "circle"
         },
         "mode": "markers+lines",
         "name": "QTC-SC",
         "orientation": "v",
         "showlegend": false,
         "type": "scatter",
         "x": [
          0.8,
          0.85,
          0.9,
          0.925,
          0.95,
          0.975,
          0.99
         ],
         "xaxis": "x2",
         "y": [
          0.548,
          0.588,
          0.642,
          0.674,
          0.71,
          0.759,
          0.819
         ],
         "yaxis": "y2"
        },
        {
         "hovertemplate": "Method=QTC-SC<br>ConformalPredictor=RAPS<br>Dataset=ImageNet-R<br>$1-\\alpha$=%{x}<br>achieved coverage=%{y}<extra></extra>",
         "legendgroup": "QTC-SC",
         "line": {
          "color": "#ab63fa",
          "dash": "solid"
         },
         "marker": {
          "symbol": "circle"
         },
         "mode": "markers+lines",
         "name": "QTC-SC",
         "orientation": "v",
         "showlegend": false,
         "type": "scatter",
         "x": [
          0.8,
          0.85,
          0.9,
          0.925,
          0.95,
          0.975,
          0.99
         ],
         "xaxis": "x3",
         "y": [
          0.49,
          0.529,
          0.591,
          0.633,
          0.68,
          0.776,
          0.847
         ],
         "yaxis": "y3"
        },
        {
         "hovertemplate": "Method=QTC-ST<br>ConformalPredictor=TPS<br>Dataset=ImageNetV2<br>$1-\\alpha$=%{x}<br>achieved coverage=%{y}<extra></extra>",
         "legendgroup": "QTC-ST",
         "line": {
          "color": "#FFA15A",
          "dash": "solid"
         },
         "marker": {
          "symbol": "circle"
         },
         "mode": "markers+lines",
         "name": "QTC-ST",
         "orientation": "v",
         "showlegend": true,
         "type": "scatter",
         "x": [
          0.8,
          0.85,
          0.9,
          0.925,
          0.95,
          0.975,
          0.99
         ],
         "xaxis": "x7",
         "y": [
          0.713,
          0.776,
          0.844,
          0.876,
          0.917,
          0.93,
          0.93
         ],
         "yaxis": "y7"
        },
        {
         "hovertemplate": "Method=QTC-ST<br>ConformalPredictor=TPS<br>Dataset=ImageNet-Sketch<br>$1-\\alpha$=%{x}<br>achieved coverage=%{y}<extra></extra>",
         "legendgroup": "QTC-ST",
         "line": {
          "color": "#FFA15A",
          "dash": "solid"
         },
         "marker": {
          "symbol": "circle"
         },
         "mode": "markers+lines",
         "name": "QTC-ST",
         "orientation": "v",
         "showlegend": false,
         "type": "scatter",
         "x": [
          0.8,
          0.85,
          0.9,
          0.925,
          0.95,
          0.975,
          0.99
         ],
         "xaxis": "x8",
         "y": [
          0.402,
          0.469,
          0.54,
          0.595,
          0.63,
          0.664,
          0.664
         ],
         "yaxis": "y8"
        },
        {
         "hovertemplate": "Method=QTC-ST<br>ConformalPredictor=TPS<br>Dataset=ImageNet-R<br>$1-\\alpha$=%{x}<br>achieved coverage=%{y}<extra></extra>",
         "legendgroup": "QTC-ST",
         "line": {
          "color": "#FFA15A",
          "dash": "solid"
         },
         "marker": {
          "symbol": "circle"
         },
         "mode": "markers+lines",
         "name": "QTC-ST",
         "orientation": "v",
         "showlegend": false,
         "type": "scatter",
         "x": [
          0.8,
          0.85,
          0.9,
          0.925,
          0.95,
          0.975,
          0.99
         ],
         "xaxis": "x9",
         "y": [
          0.364,
          0.429,
          0.518,
          0.599,
          0.65,
          0.664,
          0.664
         ],
         "yaxis": "y9"
        },
        {
         "hovertemplate": "Method=QTC-ST<br>ConformalPredictor=APS<br>Dataset=ImageNetV2<br>$1-\\alpha$=%{x}<br>achieved coverage=%{y}<extra></extra>",
         "legendgroup": "QTC-ST",
         "line": {
          "color": "#FFA15A",
          "dash": "solid"
         },
         "marker": {
          "symbol": "circle"
         },
         "mode": "markers+lines",
         "name": "QTC-ST",
         "orientation": "v",
         "showlegend": false,
         "type": "scatter",
         "x": [
          0.99,
          0.975,
          0.95,
          0.925,
          0.9,
          0.85,
          0.8
         ],
         "xaxis": "x4",
         "y": [
          0.983,
          0.97,
          0.948,
          0.921,
          0.905,
          0.868,
          0.821
         ],
         "yaxis": "y4"
        },
        {
         "hovertemplate": "Method=QTC-ST<br>ConformalPredictor=APS<br>Dataset=ImageNet-Sketch<br>$1-\\alpha$=%{x}<br>achieved coverage=%{y}<extra></extra>",
         "legendgroup": "QTC-ST",
         "line": {
          "color": "#FFA15A",
          "dash": "solid"
         },
         "marker": {
          "symbol": "circle"
         },
         "mode": "markers+lines",
         "name": "QTC-ST",
         "orientation": "v",
         "showlegend": false,
         "type": "scatter",
         "x": [
          0.99,
          0.975,
          0.95,
          0.925,
          0.9,
          0.85,
          0.8
         ],
         "xaxis": "x5",
         "y": [
          0.959,
          0.944,
          0.921,
          0.897,
          0.877,
          0.836,
          0.798
         ],
         "yaxis": "y5"
        },
        {
         "hovertemplate": "Method=QTC-ST<br>ConformalPredictor=APS<br>Dataset=ImageNet-R<br>$1-\\alpha$=%{x}<br>achieved coverage=%{y}<extra></extra>",
         "legendgroup": "QTC-ST",
         "line": {
          "color": "#FFA15A",
          "dash": "solid"
         },
         "marker": {
          "symbol": "circle"
         },
         "mode": "markers+lines",
         "name": "QTC-ST",
         "orientation": "v",
         "showlegend": false,
         "type": "scatter",
         "x": [
          0.99,
          0.975,
          0.95,
          0.925,
          0.9,
          0.85,
          0.8
         ],
         "xaxis": "x6",
         "y": [
          0.941,
          0.933,
          0.889,
          0.847,
          0.816,
          0.766,
          0.722
         ],
         "yaxis": "y6"
        },
        {
         "hovertemplate": "Method=QTC-ST<br>ConformalPredictor=RAPS<br>Dataset=ImageNetV2<br>$1-\\alpha$=%{x}<br>achieved coverage=%{y}<extra></extra>",
         "legendgroup": "QTC-ST",
         "line": {
          "color": "#FFA15A",
          "dash": "solid"
         },
         "marker": {
          "symbol": "circle"
         },
         "mode": "markers+lines",
         "name": "QTC-ST",
         "orientation": "v",
         "showlegend": false,
         "type": "scatter",
         "x": [
          0.99,
          0.975,
          0.95,
          0.925,
          0.9,
          0.85,
          0.8
         ],
         "xaxis": "x",
         "y": [
          0.984,
          0.96,
          0.933,
          0.912,
          0.896,
          0.886,
          0.883
         ],
         "yaxis": "y"
        },
        {
         "hovertemplate": "Method=QTC-ST<br>ConformalPredictor=RAPS<br>Dataset=ImageNet-Sketch<br>$1-\\alpha$=%{x}<br>achieved coverage=%{y}<extra></extra>",
         "legendgroup": "QTC-ST",
         "line": {
          "color": "#FFA15A",
          "dash": "solid"
         },
         "marker": {
          "symbol": "circle"
         },
         "mode": "markers+lines",
         "name": "QTC-ST",
         "orientation": "v",
         "showlegend": false,
         "type": "scatter",
         "x": [
          0.99,
          0.975,
          0.95,
          0.925,
          0.9,
          0.85,
          0.8
         ],
         "xaxis": "x2",
         "y": [
          0.882,
          0.805,
          0.742,
          0.709,
          0.691,
          0.673,
          0.668
         ],
         "yaxis": "y2"
        },
        {
         "hovertemplate": "Method=QTC-ST<br>ConformalPredictor=RAPS<br>Dataset=ImageNet-R<br>$1-\\alpha$=%{x}<br>achieved coverage=%{y}<extra></extra>",
         "legendgroup": "QTC-ST",
         "line": {
          "color": "#FFA15A",
          "dash": "solid"
         },
         "marker": {
          "symbol": "circle"
         },
         "mode": "markers+lines",
         "name": "QTC-ST",
         "orientation": "v",
         "showlegend": false,
         "type": "scatter",
         "x": [
          0.99,
          0.975,
          0.95,
          0.925,
          0.9,
          0.85,
          0.8
         ],
         "xaxis": "x3",
         "y": [
          0.829,
          0.734,
          0.659,
          0.62,
          0.601,
          0.584,
          0.576
         ],
         "yaxis": "y3"
        },
        {
         "hovertemplate": "Method=CHR-<br>ConformalPredictor=TPS<br>Dataset=ImageNetV2<br>$1-\\alpha$=%{x}<br>achieved coverage=%{y}<extra></extra>",
         "legendgroup": "CHR-",
         "line": {
          "color": "#19d3f3",
          "dash": "solid"
         },
         "marker": {
          "symbol": "circle"
         },
         "mode": "markers+lines",
         "name": "CHR-",
         "orientation": "v",
         "showlegend": true,
         "type": "scatter",
         "x": [
          0.8,
          0.85,
          0.9,
          0.925,
          0.95,
          0.975,
          0.99
         ],
         "xaxis": "x7",
         "y": [
          0.8,
          0.843,
          0.88,
          0.882,
          0.897,
          0.898,
          0.932
         ],
         "yaxis": "y7"
        },
        {
         "hovertemplate": "Method=CHR-<br>ConformalPredictor=TPS<br>Dataset=ImageNet-Sketch<br>$1-\\alpha$=%{x}<br>achieved coverage=%{y}<extra></extra>",
         "legendgroup": "CHR-",
         "line": {
          "color": "#19d3f3",
          "dash": "solid"
         },
         "marker": {
          "symbol": "circle"
         },
         "mode": "markers+lines",
         "name": "CHR-",
         "orientation": "v",
         "showlegend": false,
         "type": "scatter",
         "x": [
          0.8,
          0.85,
          0.9,
          0.925,
          0.95,
          0.975,
          0.99
         ],
         "xaxis": "x8",
         "y": [
          0.453,
          0.504,
          0.589,
          1,
          1,
          1,
          0.976
         ],
         "yaxis": "y8"
        },
        {
         "hovertemplate": "Method=CHR-<br>ConformalPredictor=APS<br>Dataset=ImageNetV2<br>$1-\\alpha$=%{x}<br>achieved coverage=%{y}<extra></extra>",
         "legendgroup": "CHR-",
         "line": {
          "color": "#19d3f3",
          "dash": "solid"
         },
         "marker": {
          "symbol": "circle"
         },
         "mode": "markers+lines",
         "name": "CHR-",
         "orientation": "v",
         "showlegend": false,
         "type": "scatter",
         "x": [
          0.99,
          0.975,
          0.95,
          0.925,
          0.9,
          0.85,
          0.8
         ],
         "xaxis": "x4",
         "y": [
          0.974,
          0.946,
          0.916,
          0.886,
          0.865,
          0.821,
          0.756
         ],
         "yaxis": "y4"
        },
        {
         "hovertemplate": "Method=CHR-<br>ConformalPredictor=APS<br>Dataset=ImageNet-Sketch<br>$1-\\alpha$=%{x}<br>achieved coverage=%{y}<extra></extra>",
         "legendgroup": "CHR-",
         "line": {
          "color": "#19d3f3",
          "dash": "solid"
         },
         "marker": {
          "symbol": "circle"
         },
         "mode": "markers+lines",
         "name": "CHR-",
         "orientation": "v",
         "showlegend": false,
         "type": "scatter",
         "x": [
          0.99,
          0.975,
          0.95,
          0.925,
          0.9,
          0.85,
          0.8
         ],
         "xaxis": "x5",
         "y": [
          0.937,
          0.905,
          0.801,
          0.747,
          0.684,
          0.622,
          0.559
         ],
         "yaxis": "y5"
        },
        {
         "hovertemplate": "Method=CHR-<br>ConformalPredictor=APS<br>Dataset=ImageNet-R<br>$1-\\alpha$=%{x}<br>achieved coverage=%{y}<extra></extra>",
         "legendgroup": "CHR-",
         "line": {
          "color": "#19d3f3",
          "dash": "solid"
         },
         "marker": {
          "symbol": "circle"
         },
         "mode": "markers+lines",
         "name": "CHR-",
         "orientation": "v",
         "showlegend": false,
         "type": "scatter",
         "x": [
          0.99,
          0.975,
          0.95,
          0.925,
          0.9,
          0.85,
          0.8
         ],
         "xaxis": "x6",
         "y": [
          0.858,
          0.831,
          0.713,
          0.663,
          0.604,
          0.55,
          0.495
         ],
         "yaxis": "y6"
        },
        {
         "hovertemplate": "Method=CHR-<br>ConformalPredictor=RAPS<br>Dataset=ImageNetV2<br>$1-\\alpha$=%{x}<br>achieved coverage=%{y}<extra></extra>",
         "legendgroup": "CHR-",
         "line": {
          "color": "#19d3f3",
          "dash": "solid"
         },
         "marker": {
          "symbol": "circle"
         },
         "mode": "markers+lines",
         "name": "CHR-",
         "orientation": "v",
         "showlegend": false,
         "type": "scatter",
         "x": [
          0.99,
          0.975,
          0.95,
          0.925,
          0.9,
          0.85,
          0.8
         ],
         "xaxis": "x",
         "y": [
          0.988,
          0.968,
          0.943,
          0.917,
          0.878,
          0.805,
          0.745
         ],
         "yaxis": "y"
        },
        {
         "hovertemplate": "Method=CHR-<br>ConformalPredictor=RAPS<br>Dataset=ImageNet-Sketch<br>$1-\\alpha$=%{x}<br>achieved coverage=%{y}<extra></extra>",
         "legendgroup": "CHR-",
         "line": {
          "color": "#19d3f3",
          "dash": "solid"
         },
         "marker": {
          "symbol": "circle"
         },
         "mode": "markers+lines",
         "name": "CHR-",
         "orientation": "v",
         "showlegend": false,
         "type": "scatter",
         "x": [
          0.99,
          0.975,
          0.95,
          0.925,
          0.9,
          0.85,
          0.8
         ],
         "xaxis": "x2",
         "y": [
          0.947,
          0.909,
          0.817,
          0.776,
          0.739,
          0.676,
          0.638
         ],
         "yaxis": "y2"
        },
        {
         "hovertemplate": "Method=CHR-<br>ConformalPredictor=RAPS<br>Dataset=ImageNet-R<br>$1-\\alpha$=%{x}<br>achieved coverage=%{y}<extra></extra>",
         "legendgroup": "CHR-",
         "line": {
          "color": "#19d3f3",
          "dash": "solid"
         },
         "marker": {
          "symbol": "circle"
         },
         "mode": "markers+lines",
         "name": "CHR-",
         "orientation": "v",
         "showlegend": false,
         "type": "scatter",
         "x": [
          0.99,
          0.975,
          0.95,
          0.925,
          0.9,
          0.85,
          0.8
         ],
         "xaxis": "x3",
         "y": [
          0.924,
          0.878,
          0.744,
          0.703,
          0.665,
          0.594,
          0.571
         ],
         "yaxis": "y3"
        }
       ],
       "layout": {
        "annotations": [
         {
          "font": {},
          "showarrow": false,
          "text": "ImageNetV2",
          "x": 0.13666666666666666,
          "xanchor": "center",
          "xref": "paper",
          "y": 0.9999999999999998,
          "yanchor": "bottom",
          "yref": "paper"
         },
         {
          "font": {},
          "showarrow": false,
          "text": "ImageNet-Sketch",
          "x": 0.49,
          "xanchor": "center",
          "xref": "paper",
          "y": 0.9999999999999998,
          "yanchor": "bottom",
          "yref": "paper"
         },
         {
          "font": {},
          "showarrow": false,
          "text": "ImageNet-R",
          "x": 0.8433333333333333,
          "xanchor": "center",
          "xref": "paper",
          "y": 0.9999999999999998,
          "yanchor": "bottom",
          "yref": "paper"
         },
         {
          "font": {},
          "showarrow": false,
          "text": "RAPS",
          "textangle": 90,
          "x": 0.98,
          "xanchor": "left",
          "xref": "paper",
          "y": 0.15666666666666665,
          "yanchor": "middle",
          "yref": "paper"
         },
         {
          "font": {},
          "showarrow": false,
          "text": "APS",
          "textangle": 90,
          "x": 0.98,
          "xanchor": "left",
          "xref": "paper",
          "y": 0.4999999999999999,
          "yanchor": "middle",
          "yref": "paper"
         },
         {
          "font": {},
          "showarrow": false,
          "text": "TPS",
          "textangle": 90,
          "x": 0.98,
          "xanchor": "left",
          "xref": "paper",
          "y": 0.8433333333333332,
          "yanchor": "middle",
          "yref": "paper"
         }
        ],
        "height": 800,
        "legend": {
         "title": {
          "text": "Method"
         },
         "tracegroupgap": 0
        },
        "template": {
         "data": {
          "bar": [
           {
            "error_x": {
             "color": "#2a3f5f"
            },
            "error_y": {
             "color": "#2a3f5f"
            },
            "marker": {
             "line": {
              "color": "#E5ECF6",
              "width": 0.5
             },
             "pattern": {
              "fillmode": "overlay",
              "size": 10,
              "solidity": 0.2
             }
            },
            "type": "bar"
           }
          ],
          "barpolar": [
           {
            "marker": {
             "line": {
              "color": "#E5ECF6",
              "width": 0.5
             },
             "pattern": {
              "fillmode": "overlay",
              "size": 10,
              "solidity": 0.2
             }
            },
            "type": "barpolar"
           }
          ],
          "carpet": [
           {
            "aaxis": {
             "endlinecolor": "#2a3f5f",
             "gridcolor": "white",
             "linecolor": "white",
             "minorgridcolor": "white",
             "startlinecolor": "#2a3f5f"
            },
            "baxis": {
             "endlinecolor": "#2a3f5f",
             "gridcolor": "white",
             "linecolor": "white",
             "minorgridcolor": "white",
             "startlinecolor": "#2a3f5f"
            },
            "type": "carpet"
           }
          ],
          "choropleth": [
           {
            "colorbar": {
             "outlinewidth": 0,
             "ticks": ""
            },
            "type": "choropleth"
           }
          ],
          "contour": [
           {
            "colorbar": {
             "outlinewidth": 0,
             "ticks": ""
            },
            "colorscale": [
             [
              0,
              "#0d0887"
             ],
             [
              0.1111111111111111,
              "#46039f"
             ],
             [
              0.2222222222222222,
              "#7201a8"
             ],
             [
              0.3333333333333333,
              "#9c179e"
             ],
             [
              0.4444444444444444,
              "#bd3786"
             ],
             [
              0.5555555555555556,
              "#d8576b"
             ],
             [
              0.6666666666666666,
              "#ed7953"
             ],
             [
              0.7777777777777778,
              "#fb9f3a"
             ],
             [
              0.8888888888888888,
              "#fdca26"
             ],
             [
              1,
              "#f0f921"
             ]
            ],
            "type": "contour"
           }
          ],
          "contourcarpet": [
           {
            "colorbar": {
             "outlinewidth": 0,
             "ticks": ""
            },
            "type": "contourcarpet"
           }
          ],
          "heatmap": [
           {
            "colorbar": {
             "outlinewidth": 0,
             "ticks": ""
            },
            "colorscale": [
             [
              0,
              "#0d0887"
             ],
             [
              0.1111111111111111,
              "#46039f"
             ],
             [
              0.2222222222222222,
              "#7201a8"
             ],
             [
              0.3333333333333333,
              "#9c179e"
             ],
             [
              0.4444444444444444,
              "#bd3786"
             ],
             [
              0.5555555555555556,
              "#d8576b"
             ],
             [
              0.6666666666666666,
              "#ed7953"
             ],
             [
              0.7777777777777778,
              "#fb9f3a"
             ],
             [
              0.8888888888888888,
              "#fdca26"
             ],
             [
              1,
              "#f0f921"
             ]
            ],
            "type": "heatmap"
           }
          ],
          "heatmapgl": [
           {
            "colorbar": {
             "outlinewidth": 0,
             "ticks": ""
            },
            "colorscale": [
             [
              0,
              "#0d0887"
             ],
             [
              0.1111111111111111,
              "#46039f"
             ],
             [
              0.2222222222222222,
              "#7201a8"
             ],
             [
              0.3333333333333333,
              "#9c179e"
             ],
             [
              0.4444444444444444,
              "#bd3786"
             ],
             [
              0.5555555555555556,
              "#d8576b"
             ],
             [
              0.6666666666666666,
              "#ed7953"
             ],
             [
              0.7777777777777778,
              "#fb9f3a"
             ],
             [
              0.8888888888888888,
              "#fdca26"
             ],
             [
              1,
              "#f0f921"
             ]
            ],
            "type": "heatmapgl"
           }
          ],
          "histogram": [
           {
            "marker": {
             "pattern": {
              "fillmode": "overlay",
              "size": 10,
              "solidity": 0.2
             }
            },
            "type": "histogram"
           }
          ],
          "histogram2d": [
           {
            "colorbar": {
             "outlinewidth": 0,
             "ticks": ""
            },
            "colorscale": [
             [
              0,
              "#0d0887"
             ],
             [
              0.1111111111111111,
              "#46039f"
             ],
             [
              0.2222222222222222,
              "#7201a8"
             ],
             [
              0.3333333333333333,
              "#9c179e"
             ],
             [
              0.4444444444444444,
              "#bd3786"
             ],
             [
              0.5555555555555556,
              "#d8576b"
             ],
             [
              0.6666666666666666,
              "#ed7953"
             ],
             [
              0.7777777777777778,
              "#fb9f3a"
             ],
             [
              0.8888888888888888,
              "#fdca26"
             ],
             [
              1,
              "#f0f921"
             ]
            ],
            "type": "histogram2d"
           }
          ],
          "histogram2dcontour": [
           {
            "colorbar": {
             "outlinewidth": 0,
             "ticks": ""
            },
            "colorscale": [
             [
              0,
              "#0d0887"
             ],
             [
              0.1111111111111111,
              "#46039f"
             ],
             [
              0.2222222222222222,
              "#7201a8"
             ],
             [
              0.3333333333333333,
              "#9c179e"
             ],
             [
              0.4444444444444444,
              "#bd3786"
             ],
             [
              0.5555555555555556,
              "#d8576b"
             ],
             [
              0.6666666666666666,
              "#ed7953"
             ],
             [
              0.7777777777777778,
              "#fb9f3a"
             ],
             [
              0.8888888888888888,
              "#fdca26"
             ],
             [
              1,
              "#f0f921"
             ]
            ],
            "type": "histogram2dcontour"
           }
          ],
          "mesh3d": [
           {
            "colorbar": {
             "outlinewidth": 0,
             "ticks": ""
            },
            "type": "mesh3d"
           }
          ],
          "parcoords": [
           {
            "line": {
             "colorbar": {
              "outlinewidth": 0,
              "ticks": ""
             }
            },
            "type": "parcoords"
           }
          ],
          "pie": [
           {
            "automargin": true,
            "type": "pie"
           }
          ],
          "scatter": [
           {
            "fillpattern": {
             "fillmode": "overlay",
             "size": 10,
             "solidity": 0.2
            },
            "type": "scatter"
           }
          ],
          "scatter3d": [
           {
            "line": {
             "colorbar": {
              "outlinewidth": 0,
              "ticks": ""
             }
            },
            "marker": {
             "colorbar": {
              "outlinewidth": 0,
              "ticks": ""
             }
            },
            "type": "scatter3d"
           }
          ],
          "scattercarpet": [
           {
            "marker": {
             "colorbar": {
              "outlinewidth": 0,
              "ticks": ""
             }
            },
            "type": "scattercarpet"
           }
          ],
          "scattergeo": [
           {
            "marker": {
             "colorbar": {
              "outlinewidth": 0,
              "ticks": ""
             }
            },
            "type": "scattergeo"
           }
          ],
          "scattergl": [
           {
            "marker": {
             "colorbar": {
              "outlinewidth": 0,
              "ticks": ""
             }
            },
            "type": "scattergl"
           }
          ],
          "scattermapbox": [
           {
            "marker": {
             "colorbar": {
              "outlinewidth": 0,
              "ticks": ""
             }
            },
            "type": "scattermapbox"
           }
          ],
          "scatterpolar": [
           {
            "marker": {
             "colorbar": {
              "outlinewidth": 0,
              "ticks": ""
             }
            },
            "type": "scatterpolar"
           }
          ],
          "scatterpolargl": [
           {
            "marker": {
             "colorbar": {
              "outlinewidth": 0,
              "ticks": ""
             }
            },
            "type": "scatterpolargl"
           }
          ],
          "scatterternary": [
           {
            "marker": {
             "colorbar": {
              "outlinewidth": 0,
              "ticks": ""
             }
            },
            "type": "scatterternary"
           }
          ],
          "surface": [
           {
            "colorbar": {
             "outlinewidth": 0,
             "ticks": ""
            },
            "colorscale": [
             [
              0,
              "#0d0887"
             ],
             [
              0.1111111111111111,
              "#46039f"
             ],
             [
              0.2222222222222222,
              "#7201a8"
             ],
             [
              0.3333333333333333,
              "#9c179e"
             ],
             [
              0.4444444444444444,
              "#bd3786"
             ],
             [
              0.5555555555555556,
              "#d8576b"
             ],
             [
              0.6666666666666666,
              "#ed7953"
             ],
             [
              0.7777777777777778,
              "#fb9f3a"
             ],
             [
              0.8888888888888888,
              "#fdca26"
             ],
             [
              1,
              "#f0f921"
             ]
            ],
            "type": "surface"
           }
          ],
          "table": [
           {
            "cells": {
             "fill": {
              "color": "#EBF0F8"
             },
             "line": {
              "color": "white"
             }
            },
            "header": {
             "fill": {
              "color": "#C8D4E3"
             },
             "line": {
              "color": "white"
             }
            },
            "type": "table"
           }
          ]
         },
         "layout": {
          "annotationdefaults": {
           "arrowcolor": "#2a3f5f",
           "arrowhead": 0,
           "arrowwidth": 1
          },
          "autotypenumbers": "strict",
          "coloraxis": {
           "colorbar": {
            "outlinewidth": 0,
            "ticks": ""
           }
          },
          "colorscale": {
           "diverging": [
            [
             0,
             "#8e0152"
            ],
            [
             0.1,
             "#c51b7d"
            ],
            [
             0.2,
             "#de77ae"
            ],
            [
             0.3,
             "#f1b6da"
            ],
            [
             0.4,
             "#fde0ef"
            ],
            [
             0.5,
             "#f7f7f7"
            ],
            [
             0.6,
             "#e6f5d0"
            ],
            [
             0.7,
             "#b8e186"
            ],
            [
             0.8,
             "#7fbc41"
            ],
            [
             0.9,
             "#4d9221"
            ],
            [
             1,
             "#276419"
            ]
           ],
           "sequential": [
            [
             0,
             "#0d0887"
            ],
            [
             0.1111111111111111,
             "#46039f"
            ],
            [
             0.2222222222222222,
             "#7201a8"
            ],
            [
             0.3333333333333333,
             "#9c179e"
            ],
            [
             0.4444444444444444,
             "#bd3786"
            ],
            [
             0.5555555555555556,
             "#d8576b"
            ],
            [
             0.6666666666666666,
             "#ed7953"
            ],
            [
             0.7777777777777778,
             "#fb9f3a"
            ],
            [
             0.8888888888888888,
             "#fdca26"
            ],
            [
             1,
             "#f0f921"
            ]
           ],
           "sequentialminus": [
            [
             0,
             "#0d0887"
            ],
            [
             0.1111111111111111,
             "#46039f"
            ],
            [
             0.2222222222222222,
             "#7201a8"
            ],
            [
             0.3333333333333333,
             "#9c179e"
            ],
            [
             0.4444444444444444,
             "#bd3786"
            ],
            [
             0.5555555555555556,
             "#d8576b"
            ],
            [
             0.6666666666666666,
             "#ed7953"
            ],
            [
             0.7777777777777778,
             "#fb9f3a"
            ],
            [
             0.8888888888888888,
             "#fdca26"
            ],
            [
             1,
             "#f0f921"
            ]
           ]
          },
          "colorway": [
           "#636efa",
           "#EF553B",
           "#00cc96",
           "#ab63fa",
           "#FFA15A",
           "#19d3f3",
           "#FF6692",
           "#B6E880",
           "#FF97FF",
           "#FECB52"
          ],
          "font": {
           "color": "#2a3f5f"
          },
          "geo": {
           "bgcolor": "white",
           "lakecolor": "white",
           "landcolor": "#E5ECF6",
           "showlakes": true,
           "showland": true,
           "subunitcolor": "white"
          },
          "hoverlabel": {
           "align": "left"
          },
          "hovermode": "closest",
          "mapbox": {
           "style": "light"
          },
          "paper_bgcolor": "white",
          "plot_bgcolor": "#E5ECF6",
          "polar": {
           "angularaxis": {
            "gridcolor": "white",
            "linecolor": "white",
            "ticks": ""
           },
           "bgcolor": "#E5ECF6",
           "radialaxis": {
            "gridcolor": "white",
            "linecolor": "white",
            "ticks": ""
           }
          },
          "scene": {
           "xaxis": {
            "backgroundcolor": "#E5ECF6",
            "gridcolor": "white",
            "gridwidth": 2,
            "linecolor": "white",
            "showbackground": true,
            "ticks": "",
            "zerolinecolor": "white"
           },
           "yaxis": {
            "backgroundcolor": "#E5ECF6",
            "gridcolor": "white",
            "gridwidth": 2,
            "linecolor": "white",
            "showbackground": true,
            "ticks": "",
            "zerolinecolor": "white"
           },
           "zaxis": {
            "backgroundcolor": "#E5ECF6",
            "gridcolor": "white",
            "gridwidth": 2,
            "linecolor": "white",
            "showbackground": true,
            "ticks": "",
            "zerolinecolor": "white"
           }
          },
          "shapedefaults": {
           "line": {
            "color": "#2a3f5f"
           }
          },
          "ternary": {
           "aaxis": {
            "gridcolor": "white",
            "linecolor": "white",
            "ticks": ""
           },
           "baxis": {
            "gridcolor": "white",
            "linecolor": "white",
            "ticks": ""
           },
           "bgcolor": "#E5ECF6",
           "caxis": {
            "gridcolor": "white",
            "linecolor": "white",
            "ticks": ""
           }
          },
          "title": {
           "x": 0.05
          },
          "xaxis": {
           "automargin": true,
           "gridcolor": "white",
           "linecolor": "white",
           "ticks": "",
           "title": {
            "standoff": 15
           },
           "zerolinecolor": "white",
           "zerolinewidth": 2
          },
          "yaxis": {
           "automargin": true,
           "gridcolor": "white",
           "linecolor": "white",
           "ticks": "",
           "title": {
            "standoff": 15
           },
           "zerolinecolor": "white",
           "zerolinewidth": 2
          }
         }
        },
        "title": {
         "text": "APS-RAPS coverage under distribution shift w/ and w/o recalibration"
        },
        "xaxis": {
         "anchor": "y",
         "domain": [
          0,
          0.2733333333333333
         ],
         "title": {
          "text": "$1-\\alpha$"
         }
        },
        "xaxis2": {
         "anchor": "y2",
         "domain": [
          0.35333333333333333,
          0.6266666666666667
         ],
         "matches": "x",
         "title": {
          "text": "$1-\\alpha$"
         }
        },
        "xaxis3": {
         "anchor": "y3",
         "domain": [
          0.7066666666666667,
          0.98
         ],
         "matches": "x",
         "title": {
          "text": "$1-\\alpha$"
         }
        },
        "xaxis4": {
         "anchor": "y4",
         "domain": [
          0,
          0.2733333333333333
         ],
         "matches": "x",
         "showticklabels": false
        },
        "xaxis5": {
         "anchor": "y5",
         "domain": [
          0.35333333333333333,
          0.6266666666666667
         ],
         "matches": "x",
         "showticklabels": false
        },
        "xaxis6": {
         "anchor": "y6",
         "domain": [
          0.7066666666666667,
          0.98
         ],
         "matches": "x",
         "showticklabels": false
        },
        "xaxis7": {
         "anchor": "y7",
         "domain": [
          0,
          0.2733333333333333
         ],
         "matches": "x",
         "showticklabels": false
        },
        "xaxis8": {
         "anchor": "y8",
         "domain": [
          0.35333333333333333,
          0.6266666666666667
         ],
         "matches": "x",
         "showticklabels": false
        },
        "xaxis9": {
         "anchor": "y9",
         "domain": [
          0.7066666666666667,
          0.98
         ],
         "matches": "x",
         "showticklabels": false
        },
        "yaxis": {
         "anchor": "x",
         "domain": [
          0,
          0.3133333333333333
         ],
         "showticklabels": true,
         "title": {
          "text": "achieved coverage"
         }
        },
        "yaxis2": {
         "anchor": "x2",
         "domain": [
          0,
          0.3133333333333333
         ],
         "showticklabels": true
        },
        "yaxis3": {
         "anchor": "x3",
         "domain": [
          0,
          0.3133333333333333
         ],
         "showticklabels": true
        },
        "yaxis4": {
         "anchor": "x4",
         "domain": [
          0.34333333333333327,
          0.6566666666666665
         ],
         "showticklabels": true,
         "title": {
          "text": "achieved coverage"
         }
        },
        "yaxis5": {
         "anchor": "x5",
         "domain": [
          0.34333333333333327,
          0.6566666666666665
         ],
         "showticklabels": true
        },
        "yaxis6": {
         "anchor": "x6",
         "domain": [
          0.34333333333333327,
          0.6566666666666665
         ],
         "showticklabels": true
        },
        "yaxis7": {
         "anchor": "x7",
         "domain": [
          0.6866666666666665,
          0.9999999999999998
         ],
         "showticklabels": true,
         "title": {
          "text": "achieved coverage"
         }
        },
        "yaxis8": {
         "anchor": "x8",
         "domain": [
          0.6866666666666665,
          0.9999999999999998
         ],
         "showticklabels": true
        },
        "yaxis9": {
         "anchor": "x9",
         "domain": [
          0.6866666666666665,
          0.9999999999999998
         ],
         "showticklabels": true
        }
       }
      },
      "text/html": [
       "<div>                            <div id=\"030ffd69-f4e5-45ed-9302-3f83a9168d15\" class=\"plotly-graph-div\" style=\"height:800px; width:100%;\"></div>            <script type=\"text/javascript\">                require([\"plotly\"], function(Plotly) {                    window.PLOTLYENV=window.PLOTLYENV || {};                                    if (document.getElementById(\"030ffd69-f4e5-45ed-9302-3f83a9168d15\")) {                    Plotly.newPlot(                        \"030ffd69-f4e5-45ed-9302-3f83a9168d15\",                        [{\"hovertemplate\":\"Method=$y=x$<br>ConformalPredictor=TPS<br>Dataset=ImageNetV2<br>$1-\\\\alpha$=%{x}<br>achieved coverage=%{y}<extra></extra>\",\"legendgroup\":\"$y=x$\",\"line\":{\"color\":\"#636efa\",\"dash\":\"solid\"},\"marker\":{\"symbol\":\"circle\"},\"mode\":\"markers+lines\",\"name\":\"$y=x$\",\"orientation\":\"v\",\"showlegend\":true,\"x\":[0.8,0.85,0.9,0.925,0.95,0.975,0.99],\"xaxis\":\"x7\",\"y\":[0.8,0.85,0.9,0.925,0.95,0.975,0.99],\"yaxis\":\"y7\",\"type\":\"scatter\"},{\"hovertemplate\":\"Method=$y=x$<br>ConformalPredictor=TPS<br>Dataset=ImageNet-Sketch<br>$1-\\\\alpha$=%{x}<br>achieved coverage=%{y}<extra></extra>\",\"legendgroup\":\"$y=x$\",\"line\":{\"color\":\"#636efa\",\"dash\":\"solid\"},\"marker\":{\"symbol\":\"circle\"},\"mode\":\"markers+lines\",\"name\":\"$y=x$\",\"orientation\":\"v\",\"showlegend\":false,\"x\":[0.8,0.85,0.9,0.925,0.95,0.975,0.99],\"xaxis\":\"x8\",\"y\":[0.8,0.85,0.9,0.925,0.95,0.975,0.99],\"yaxis\":\"y8\",\"type\":\"scatter\"},{\"hovertemplate\":\"Method=$y=x$<br>ConformalPredictor=TPS<br>Dataset=ImageNet-R<br>$1-\\\\alpha$=%{x}<br>achieved coverage=%{y}<extra></extra>\",\"legendgroup\":\"$y=x$\",\"line\":{\"color\":\"#636efa\",\"dash\":\"solid\"},\"marker\":{\"symbol\":\"circle\"},\"mode\":\"markers+lines\",\"name\":\"$y=x$\",\"orientation\":\"v\",\"showlegend\":false,\"x\":[0.8,0.85,0.9,0.925,0.95,0.975,0.99],\"xaxis\":\"x9\",\"y\":[0.8,0.85,0.9,0.925,0.95,0.975,0.99],\"yaxis\":\"y9\",\"type\":\"scatter\"},{\"hovertemplate\":\"Method=$y=x$<br>ConformalPredictor=APS<br>Dataset=ImageNetV2<br>$1-\\\\alpha$=%{x}<br>achieved coverage=%{y}<extra></extra>\",\"legendgroup\":\"$y=x$\",\"line\":{\"color\":\"#636efa\",\"dash\":\"solid\"},\"marker\":{\"symbol\":\"circle\"},\"mode\":\"markers+lines\",\"name\":\"$y=x$\",\"orientation\":\"v\",\"showlegend\":false,\"x\":[0.8,0.85,0.9,0.925,0.95,0.975,0.99],\"xaxis\":\"x4\",\"y\":[0.8,0.85,0.9,0.925,0.95,0.975,0.99],\"yaxis\":\"y4\",\"type\":\"scatter\"},{\"hovertemplate\":\"Method=$y=x$<br>ConformalPredictor=APS<br>Dataset=ImageNet-Sketch<br>$1-\\\\alpha$=%{x}<br>achieved coverage=%{y}<extra></extra>\",\"legendgroup\":\"$y=x$\",\"line\":{\"color\":\"#636efa\",\"dash\":\"solid\"},\"marker\":{\"symbol\":\"circle\"},\"mode\":\"markers+lines\",\"name\":\"$y=x$\",\"orientation\":\"v\",\"showlegend\":false,\"x\":[0.8,0.85,0.9,0.925,0.95,0.975,0.99],\"xaxis\":\"x5\",\"y\":[0.8,0.85,0.9,0.925,0.95,0.975,0.99],\"yaxis\":\"y5\",\"type\":\"scatter\"},{\"hovertemplate\":\"Method=$y=x$<br>ConformalPredictor=APS<br>Dataset=ImageNet-R<br>$1-\\\\alpha$=%{x}<br>achieved coverage=%{y}<extra></extra>\",\"legendgroup\":\"$y=x$\",\"line\":{\"color\":\"#636efa\",\"dash\":\"solid\"},\"marker\":{\"symbol\":\"circle\"},\"mode\":\"markers+lines\",\"name\":\"$y=x$\",\"orientation\":\"v\",\"showlegend\":false,\"x\":[0.8,0.85,0.9,0.925,0.95,0.975,0.99],\"xaxis\":\"x6\",\"y\":[0.8,0.85,0.9,0.925,0.95,0.975,0.99],\"yaxis\":\"y6\",\"type\":\"scatter\"},{\"hovertemplate\":\"Method=$y=x$<br>ConformalPredictor=RAPS<br>Dataset=ImageNetV2<br>$1-\\\\alpha$=%{x}<br>achieved coverage=%{y}<extra></extra>\",\"legendgroup\":\"$y=x$\",\"line\":{\"color\":\"#636efa\",\"dash\":\"solid\"},\"marker\":{\"symbol\":\"circle\"},\"mode\":\"markers+lines\",\"name\":\"$y=x$\",\"orientation\":\"v\",\"showlegend\":false,\"x\":[0.8,0.85,0.9,0.925,0.95,0.975,0.99],\"xaxis\":\"x\",\"y\":[0.8,0.85,0.9,0.925,0.95,0.975,0.99],\"yaxis\":\"y\",\"type\":\"scatter\"},{\"hovertemplate\":\"Method=$y=x$<br>ConformalPredictor=RAPS<br>Dataset=ImageNet-Sketch<br>$1-\\\\alpha$=%{x}<br>achieved coverage=%{y}<extra></extra>\",\"legendgroup\":\"$y=x$\",\"line\":{\"color\":\"#636efa\",\"dash\":\"solid\"},\"marker\":{\"symbol\":\"circle\"},\"mode\":\"markers+lines\",\"name\":\"$y=x$\",\"orientation\":\"v\",\"showlegend\":false,\"x\":[0.8,0.85,0.9,0.925,0.95,0.975,0.99],\"xaxis\":\"x2\",\"y\":[0.8,0.85,0.9,0.925,0.95,0.975,0.99],\"yaxis\":\"y2\",\"type\":\"scatter\"},{\"hovertemplate\":\"Method=$y=x$<br>ConformalPredictor=RAPS<br>Dataset=ImageNet-R<br>$1-\\\\alpha$=%{x}<br>achieved coverage=%{y}<extra></extra>\",\"legendgroup\":\"$y=x$\",\"line\":{\"color\":\"#636efa\",\"dash\":\"solid\"},\"marker\":{\"symbol\":\"circle\"},\"mode\":\"markers+lines\",\"name\":\"$y=x$\",\"orientation\":\"v\",\"showlegend\":false,\"x\":[0.8,0.85,0.9,0.925,0.95,0.975,0.99],\"xaxis\":\"x3\",\"y\":[0.8,0.85,0.9,0.925,0.95,0.975,0.99],\"yaxis\":\"y3\",\"type\":\"scatter\"},{\"hovertemplate\":\"Method=original<br>ConformalPredictor=TPS<br>Dataset=ImageNetV2<br>$1-\\\\alpha$=%{x}<br>achieved coverage=%{y}<extra></extra>\",\"legendgroup\":\"original\",\"line\":{\"color\":\"#EF553B\",\"dash\":\"solid\"},\"marker\":{\"symbol\":\"circle\"},\"mode\":\"markers+lines\",\"name\":\"original\",\"orientation\":\"v\",\"showlegend\":true,\"x\":[0.8,0.85,0.9,0.925,0.95,0.975,0.99],\"xaxis\":\"x7\",\"y\":[0.676,0.742,0.812,0.853,0.898,0.943,0.976],\"yaxis\":\"y7\",\"type\":\"scatter\"},{\"hovertemplate\":\"Method=original<br>ConformalPredictor=TPS<br>Dataset=ImageNet-Sketch<br>$1-\\\\alpha$=%{x}<br>achieved coverage=%{y}<extra></extra>\",\"legendgroup\":\"original\",\"line\":{\"color\":\"#EF553B\",\"dash\":\"solid\"},\"marker\":{\"symbol\":\"circle\"},\"mode\":\"markers+lines\",\"name\":\"original\",\"orientation\":\"v\",\"showlegend\":false,\"x\":[0.8,0.85,0.9,0.925,0.95,0.975,0.99],\"xaxis\":\"x8\",\"y\":[0.252,0.307,0.38,0.434,0.508,0.64,0.797],\"yaxis\":\"y8\",\"type\":\"scatter\"},{\"hovertemplate\":\"Method=original<br>ConformalPredictor=TPS<br>Dataset=ImageNet-R<br>$1-\\\\alpha$=%{x}<br>achieved coverage=%{y}<extra></extra>\",\"legendgroup\":\"original\",\"line\":{\"color\":\"#EF553B\",\"dash\":\"solid\"},\"marker\":{\"symbol\":\"circle\"},\"mode\":\"markers+lines\",\"name\":\"original\",\"orientation\":\"v\",\"showlegend\":false,\"x\":[0.8,0.85,0.9,0.925,0.95,0.975,0.99],\"xaxis\":\"x9\",\"y\":[0.241,0.287,0.343,0.388,0.451,0.56,0.705],\"yaxis\":\"y9\",\"type\":\"scatter\"},{\"hovertemplate\":\"Method=original<br>ConformalPredictor=APS<br>Dataset=ImageNetV2<br>$1-\\\\alpha$=%{x}<br>achieved coverage=%{y}<extra></extra>\",\"legendgroup\":\"original\",\"line\":{\"color\":\"#EF553B\",\"dash\":\"solid\"},\"marker\":{\"symbol\":\"circle\"},\"mode\":\"markers+lines\",\"name\":\"original\",\"orientation\":\"v\",\"showlegend\":false,\"x\":[0.8,0.85,0.9,0.925,0.95,0.975,0.99],\"xaxis\":\"x4\",\"y\":[0.755,0.814,0.863,0.894,0.927,0.961,0.985],\"yaxis\":\"y4\",\"type\":\"scatter\"},{\"hovertemplate\":\"Method=original<br>ConformalPredictor=APS<br>Dataset=ImageNet-Sketch<br>$1-\\\\alpha$=%{x}<br>achieved coverage=%{y}<extra></extra>\",\"legendgroup\":\"original\",\"line\":{\"color\":\"#EF553B\",\"dash\":\"solid\"},\"marker\":{\"symbol\":\"circle\"},\"mode\":\"markers+lines\",\"name\":\"original\",\"orientation\":\"v\",\"showlegend\":false,\"x\":[0.8,0.85,0.9,0.925,0.95,0.975,0.99],\"xaxis\":\"x5\",\"y\":[0.496,0.559,0.638,0.69,0.759,0.852,0.94],\"yaxis\":\"y5\",\"type\":\"scatter\"},{\"hovertemplate\":\"Method=original<br>ConformalPredictor=APS<br>Dataset=ImageNet-R<br>$1-\\\\alpha$=%{x}<br>achieved coverage=%{y}<extra></extra>\",\"legendgroup\":\"original\",\"line\":{\"color\":\"#EF553B\",\"dash\":\"solid\"},\"marker\":{\"symbol\":\"circle\"},\"mode\":\"markers+lines\",\"name\":\"original\",\"orientation\":\"v\",\"showlegend\":false,\"x\":[0.8,0.85,0.9,0.925,0.95,0.975,0.99],\"xaxis\":\"x6\",\"y\":[0.443,0.494,0.564,0.611,0.672,0.771,0.875],\"yaxis\":\"y6\",\"type\":\"scatter\"},{\"hovertemplate\":\"Method=original<br>ConformalPredictor=RAPS<br>Dataset=ImageNetV2<br>$1-\\\\alpha$=%{x}<br>achieved coverage=%{y}<extra></extra>\",\"legendgroup\":\"original\",\"line\":{\"color\":\"#EF553B\",\"dash\":\"solid\"},\"marker\":{\"symbol\":\"circle\"},\"mode\":\"markers+lines\",\"name\":\"original\",\"orientation\":\"v\",\"showlegend\":false,\"x\":[0.8,0.85,0.9,0.925,0.95,0.975,0.99],\"xaxis\":\"x\",\"y\":[0.705,0.75,0.803,0.844,0.884,0.932,0.966],\"yaxis\":\"y\",\"type\":\"scatter\"},{\"hovertemplate\":\"Method=original<br>ConformalPredictor=RAPS<br>Dataset=ImageNet-Sketch<br>$1-\\\\alpha$=%{x}<br>achieved coverage=%{y}<extra></extra>\",\"legendgroup\":\"original\",\"line\":{\"color\":\"#EF553B\",\"dash\":\"solid\"},\"marker\":{\"symbol\":\"circle\"},\"mode\":\"markers+lines\",\"name\":\"original\",\"orientation\":\"v\",\"showlegend\":false,\"x\":[0.8,0.85,0.9,0.925,0.95,0.975,0.99],\"xaxis\":\"x2\",\"y\":[0.326,0.343,0.379,0.414,0.465,0.539,0.641],\"yaxis\":\"y2\",\"type\":\"scatter\"},{\"hovertemplate\":\"Method=original<br>ConformalPredictor=RAPS<br>Dataset=ImageNet-R<br>$1-\\\\alpha$=%{x}<br>achieved coverage=%{y}<extra></extra>\",\"legendgroup\":\"original\",\"line\":{\"color\":\"#EF553B\",\"dash\":\"solid\"},\"marker\":{\"symbol\":\"circle\"},\"mode\":\"markers+lines\",\"name\":\"original\",\"orientation\":\"v\",\"showlegend\":false,\"x\":[0.8,0.85,0.9,0.925,0.95,0.975,0.99],\"xaxis\":\"x3\",\"y\":[0.306,0.32,0.346,0.369,0.408,0.473,0.568],\"yaxis\":\"y3\",\"type\":\"scatter\"},{\"hovertemplate\":\"Method=QTC<br>ConformalPredictor=TPS<br>Dataset=ImageNetV2<br>$1-\\\\alpha$=%{x}<br>achieved coverage=%{y}<extra></extra>\",\"legendgroup\":\"QTC\",\"line\":{\"color\":\"#00cc96\",\"dash\":\"solid\"},\"marker\":{\"symbol\":\"circle\"},\"mode\":\"markers+lines\",\"name\":\"QTC\",\"orientation\":\"v\",\"showlegend\":true,\"x\":[0.8,0.85,0.9,0.925,0.95,0.975,0.99],\"xaxis\":\"x7\",\"y\":[0.782,0.838,0.894,0.92,0.944,0.971,0.991],\"yaxis\":\"y7\",\"type\":\"scatter\"},{\"hovertemplate\":\"Method=QTC<br>ConformalPredictor=TPS<br>Dataset=ImageNet-Sketch<br>$1-\\\\alpha$=%{x}<br>achieved coverage=%{y}<extra></extra>\",\"legendgroup\":\"QTC\",\"line\":{\"color\":\"#00cc96\",\"dash\":\"solid\"},\"marker\":{\"symbol\":\"circle\"},\"mode\":\"markers+lines\",\"name\":\"QTC\",\"orientation\":\"v\",\"showlegend\":false,\"x\":[0.8,0.85,0.9,0.925,0.95,0.975,0.99],\"xaxis\":\"x8\",\"y\":[0.678,0.749,0.844,0.895,0.954,0.99,0.999],\"yaxis\":\"y8\",\"type\":\"scatter\"},{\"hovertemplate\":\"Method=QTC<br>ConformalPredictor=TPS<br>Dataset=ImageNet-R<br>$1-\\\\alpha$=%{x}<br>achieved coverage=%{y}<extra></extra>\",\"legendgroup\":\"QTC\",\"line\":{\"color\":\"#00cc96\",\"dash\":\"solid\"},\"marker\":{\"symbol\":\"circle\"},\"mode\":\"markers+lines\",\"name\":\"QTC\",\"orientation\":\"v\",\"showlegend\":false,\"x\":[0.8,0.85,0.9,0.925,0.95,0.975,0.99],\"xaxis\":\"x9\",\"y\":[0.585,0.645,0.729,0.789,0.848,0.935,0.987],\"yaxis\":\"y9\",\"type\":\"scatter\"},{\"hovertemplate\":\"Method=QTC<br>ConformalPredictor=APS<br>Dataset=ImageNetV2<br>$1-\\\\alpha$=%{x}<br>achieved coverage=%{y}<extra></extra>\",\"legendgroup\":\"QTC\",\"line\":{\"color\":\"#00cc96\",\"dash\":\"solid\"},\"marker\":{\"symbol\":\"circle\"},\"mode\":\"markers+lines\",\"name\":\"QTC\",\"orientation\":\"v\",\"showlegend\":false,\"x\":[0.8,0.85,0.9,0.925,0.95,0.975,0.99],\"xaxis\":\"x4\",\"y\":[0.843,0.883,0.922,0.943,0.963,0.98,0.994],\"yaxis\":\"y4\",\"type\":\"scatter\"},{\"hovertemplate\":\"Method=QTC<br>ConformalPredictor=APS<br>Dataset=ImageNet-Sketch<br>$1-\\\\alpha$=%{x}<br>achieved coverage=%{y}<extra></extra>\",\"legendgroup\":\"QTC\",\"line\":{\"color\":\"#00cc96\",\"dash\":\"solid\"},\"marker\":{\"symbol\":\"circle\"},\"mode\":\"markers+lines\",\"name\":\"QTC\",\"orientation\":\"v\",\"showlegend\":false,\"x\":[0.8,0.85,0.9,0.925,0.95,0.975,0.99],\"xaxis\":\"x5\",\"y\":[0.884,0.919,0.957,0.974,0.986,0.995,1.0],\"yaxis\":\"y5\",\"type\":\"scatter\"},{\"hovertemplate\":\"Method=QTC<br>ConformalPredictor=APS<br>Dataset=ImageNet-R<br>$1-\\\\alpha$=%{x}<br>achieved coverage=%{y}<extra></extra>\",\"legendgroup\":\"QTC\",\"line\":{\"color\":\"#00cc96\",\"dash\":\"solid\"},\"marker\":{\"symbol\":\"circle\"},\"mode\":\"markers+lines\",\"name\":\"QTC\",\"orientation\":\"v\",\"showlegend\":false,\"x\":[0.8,0.85,0.9,0.925,0.95,0.975,0.99],\"xaxis\":\"x6\",\"y\":[0.791,0.837,0.888,0.919,0.947,0.971,0.991],\"yaxis\":\"y6\",\"type\":\"scatter\"},{\"hovertemplate\":\"Method=QTC<br>ConformalPredictor=RAPS<br>Dataset=ImageNetV2<br>$1-\\\\alpha$=%{x}<br>achieved coverage=%{y}<extra></extra>\",\"legendgroup\":\"QTC\",\"line\":{\"color\":\"#00cc96\",\"dash\":\"solid\"},\"marker\":{\"symbol\":\"circle\"},\"mode\":\"markers+lines\",\"name\":\"QTC\",\"orientation\":\"v\",\"showlegend\":false,\"x\":[0.8,0.85,0.9,0.925,0.95,0.975,0.99],\"xaxis\":\"x\",\"y\":[0.779,0.828,0.88,0.905,0.933,0.961,0.985],\"yaxis\":\"y\",\"type\":\"scatter\"},{\"hovertemplate\":\"Method=QTC<br>ConformalPredictor=RAPS<br>Dataset=ImageNet-Sketch<br>$1-\\\\alpha$=%{x}<br>achieved coverage=%{y}<extra></extra>\",\"legendgroup\":\"QTC\",\"line\":{\"color\":\"#00cc96\",\"dash\":\"solid\"},\"marker\":{\"symbol\":\"circle\"},\"mode\":\"markers+lines\",\"name\":\"QTC\",\"orientation\":\"v\",\"showlegend\":false,\"x\":[0.8,0.85,0.9,0.925,0.95,0.975,0.99],\"xaxis\":\"x2\",\"y\":[0.563,0.609,0.672,0.71,0.761,0.839,0.927],\"yaxis\":\"y2\",\"type\":\"scatter\"},{\"hovertemplate\":\"Method=QTC<br>ConformalPredictor=RAPS<br>Dataset=ImageNet-R<br>$1-\\\\alpha$=%{x}<br>achieved coverage=%{y}<extra></extra>\",\"legendgroup\":\"QTC\",\"line\":{\"color\":\"#00cc96\",\"dash\":\"solid\"},\"marker\":{\"symbol\":\"circle\"},\"mode\":\"markers+lines\",\"name\":\"QTC\",\"orientation\":\"v\",\"showlegend\":false,\"x\":[0.8,0.85,0.9,0.925,0.95,0.975,0.99],\"xaxis\":\"x3\",\"y\":[0.489,0.528,0.582,0.623,0.665,0.741,0.819],\"yaxis\":\"y3\",\"type\":\"scatter\"},{\"hovertemplate\":\"Method=QTC-SC<br>ConformalPredictor=TPS<br>Dataset=ImageNetV2<br>$1-\\\\alpha$=%{x}<br>achieved coverage=%{y}<extra></extra>\",\"legendgroup\":\"QTC-SC\",\"line\":{\"color\":\"#ab63fa\",\"dash\":\"solid\"},\"marker\":{\"symbol\":\"circle\"},\"mode\":\"markers+lines\",\"name\":\"QTC-SC\",\"orientation\":\"v\",\"showlegend\":true,\"x\":[0.8,0.85,0.9,0.925,0.95,0.975,0.99],\"xaxis\":\"x7\",\"y\":[0.768,0.823,0.883,0.909,0.935,0.965,0.985],\"yaxis\":\"y7\",\"type\":\"scatter\"},{\"hovertemplate\":\"Method=QTC-SC<br>ConformalPredictor=TPS<br>Dataset=ImageNet-Sketch<br>$1-\\\\alpha$=%{x}<br>achieved coverage=%{y}<extra></extra>\",\"legendgroup\":\"QTC-SC\",\"line\":{\"color\":\"#ab63fa\",\"dash\":\"solid\"},\"marker\":{\"symbol\":\"circle\"},\"mode\":\"markers+lines\",\"name\":\"QTC-SC\",\"orientation\":\"v\",\"showlegend\":false,\"x\":[0.8,0.85,0.9,0.925,0.95,0.975,0.99],\"xaxis\":\"x8\",\"y\":[0.655,0.712,0.799,0.848,0.895,0.953,0.983],\"yaxis\":\"y8\",\"type\":\"scatter\"},{\"hovertemplate\":\"Method=QTC-SC<br>ConformalPredictor=TPS<br>Dataset=ImageNet-R<br>$1-\\\\alpha$=%{x}<br>achieved coverage=%{y}<extra></extra>\",\"legendgroup\":\"QTC-SC\",\"line\":{\"color\":\"#ab63fa\",\"dash\":\"solid\"},\"marker\":{\"symbol\":\"circle\"},\"mode\":\"markers+lines\",\"name\":\"QTC-SC\",\"orientation\":\"v\",\"showlegend\":false,\"x\":[0.8,0.85,0.9,0.925,0.95,0.975,0.99],\"xaxis\":\"x9\",\"y\":[0.586,0.646,0.746,0.802,0.872,0.965,0.99],\"yaxis\":\"y9\",\"type\":\"scatter\"},{\"hovertemplate\":\"Method=QTC-SC<br>ConformalPredictor=APS<br>Dataset=ImageNetV2<br>$1-\\\\alpha$=%{x}<br>achieved coverage=%{y}<extra></extra>\",\"legendgroup\":\"QTC-SC\",\"line\":{\"color\":\"#ab63fa\",\"dash\":\"solid\"},\"marker\":{\"symbol\":\"circle\"},\"mode\":\"markers+lines\",\"name\":\"QTC-SC\",\"orientation\":\"v\",\"showlegend\":false,\"x\":[0.8,0.85,0.9,0.925,0.95,0.975,0.99],\"xaxis\":\"x4\",\"y\":[0.83,0.874,0.914,0.934,0.956,0.977,0.99],\"yaxis\":\"y4\",\"type\":\"scatter\"},{\"hovertemplate\":\"Method=QTC-SC<br>ConformalPredictor=APS<br>Dataset=ImageNet-Sketch<br>$1-\\\\alpha$=%{x}<br>achieved coverage=%{y}<extra></extra>\",\"legendgroup\":\"QTC-SC\",\"line\":{\"color\":\"#ab63fa\",\"dash\":\"solid\"},\"marker\":{\"symbol\":\"circle\"},\"mode\":\"markers+lines\",\"name\":\"QTC-SC\",\"orientation\":\"v\",\"showlegend\":false,\"x\":[0.8,0.85,0.9,0.925,0.95,0.975,0.99],\"xaxis\":\"x5\",\"y\":[0.866,0.902,0.94,0.959,0.975,0.986,0.992],\"yaxis\":\"y5\",\"type\":\"scatter\"},{\"hovertemplate\":\"Method=QTC-SC<br>ConformalPredictor=APS<br>Dataset=ImageNet-R<br>$1-\\\\alpha$=%{x}<br>achieved coverage=%{y}<extra></extra>\",\"legendgroup\":\"QTC-SC\",\"line\":{\"color\":\"#ab63fa\",\"dash\":\"solid\"},\"marker\":{\"symbol\":\"circle\"},\"mode\":\"markers+lines\",\"name\":\"QTC-SC\",\"orientation\":\"v\",\"showlegend\":false,\"x\":[0.8,0.85,0.9,0.925,0.95,0.975,0.99],\"xaxis\":\"x6\",\"y\":[0.792,0.839,0.898,0.927,0.953,0.981,0.992],\"yaxis\":\"y6\",\"type\":\"scatter\"},{\"hovertemplate\":\"Method=QTC-SC<br>ConformalPredictor=RAPS<br>Dataset=ImageNetV2<br>$1-\\\\alpha$=%{x}<br>achieved coverage=%{y}<extra></extra>\",\"legendgroup\":\"QTC-SC\",\"line\":{\"color\":\"#ab63fa\",\"dash\":\"solid\"},\"marker\":{\"symbol\":\"circle\"},\"mode\":\"markers+lines\",\"name\":\"QTC-SC\",\"orientation\":\"v\",\"showlegend\":false,\"x\":[0.8,0.85,0.9,0.925,0.95,0.975,0.99],\"xaxis\":\"x\",\"y\":[0.768,0.813,0.87,0.894,0.923,0.955,0.98],\"yaxis\":\"y\",\"type\":\"scatter\"},{\"hovertemplate\":\"Method=QTC-SC<br>ConformalPredictor=RAPS<br>Dataset=ImageNet-Sketch<br>$1-\\\\alpha$=%{x}<br>achieved coverage=%{y}<extra></extra>\",\"legendgroup\":\"QTC-SC\",\"line\":{\"color\":\"#ab63fa\",\"dash\":\"solid\"},\"marker\":{\"symbol\":\"circle\"},\"mode\":\"markers+lines\",\"name\":\"QTC-SC\",\"orientation\":\"v\",\"showlegend\":false,\"x\":[0.8,0.85,0.9,0.925,0.95,0.975,0.99],\"xaxis\":\"x2\",\"y\":[0.548,0.588,0.642,0.674,0.71,0.759,0.819],\"yaxis\":\"y2\",\"type\":\"scatter\"},{\"hovertemplate\":\"Method=QTC-SC<br>ConformalPredictor=RAPS<br>Dataset=ImageNet-R<br>$1-\\\\alpha$=%{x}<br>achieved coverage=%{y}<extra></extra>\",\"legendgroup\":\"QTC-SC\",\"line\":{\"color\":\"#ab63fa\",\"dash\":\"solid\"},\"marker\":{\"symbol\":\"circle\"},\"mode\":\"markers+lines\",\"name\":\"QTC-SC\",\"orientation\":\"v\",\"showlegend\":false,\"x\":[0.8,0.85,0.9,0.925,0.95,0.975,0.99],\"xaxis\":\"x3\",\"y\":[0.49,0.529,0.591,0.633,0.68,0.776,0.847],\"yaxis\":\"y3\",\"type\":\"scatter\"},{\"hovertemplate\":\"Method=QTC-ST<br>ConformalPredictor=TPS<br>Dataset=ImageNetV2<br>$1-\\\\alpha$=%{x}<br>achieved coverage=%{y}<extra></extra>\",\"legendgroup\":\"QTC-ST\",\"line\":{\"color\":\"#FFA15A\",\"dash\":\"solid\"},\"marker\":{\"symbol\":\"circle\"},\"mode\":\"markers+lines\",\"name\":\"QTC-ST\",\"orientation\":\"v\",\"showlegend\":true,\"x\":[0.8,0.85,0.9,0.925,0.95,0.975,0.99],\"xaxis\":\"x7\",\"y\":[0.713,0.776,0.844,0.876,0.917,0.93,0.93],\"yaxis\":\"y7\",\"type\":\"scatter\"},{\"hovertemplate\":\"Method=QTC-ST<br>ConformalPredictor=TPS<br>Dataset=ImageNet-Sketch<br>$1-\\\\alpha$=%{x}<br>achieved coverage=%{y}<extra></extra>\",\"legendgroup\":\"QTC-ST\",\"line\":{\"color\":\"#FFA15A\",\"dash\":\"solid\"},\"marker\":{\"symbol\":\"circle\"},\"mode\":\"markers+lines\",\"name\":\"QTC-ST\",\"orientation\":\"v\",\"showlegend\":false,\"x\":[0.8,0.85,0.9,0.925,0.95,0.975,0.99],\"xaxis\":\"x8\",\"y\":[0.402,0.469,0.54,0.595,0.63,0.664,0.664],\"yaxis\":\"y8\",\"type\":\"scatter\"},{\"hovertemplate\":\"Method=QTC-ST<br>ConformalPredictor=TPS<br>Dataset=ImageNet-R<br>$1-\\\\alpha$=%{x}<br>achieved coverage=%{y}<extra></extra>\",\"legendgroup\":\"QTC-ST\",\"line\":{\"color\":\"#FFA15A\",\"dash\":\"solid\"},\"marker\":{\"symbol\":\"circle\"},\"mode\":\"markers+lines\",\"name\":\"QTC-ST\",\"orientation\":\"v\",\"showlegend\":false,\"x\":[0.8,0.85,0.9,0.925,0.95,0.975,0.99],\"xaxis\":\"x9\",\"y\":[0.364,0.429,0.518,0.599,0.65,0.664,0.664],\"yaxis\":\"y9\",\"type\":\"scatter\"},{\"hovertemplate\":\"Method=QTC-ST<br>ConformalPredictor=APS<br>Dataset=ImageNetV2<br>$1-\\\\alpha$=%{x}<br>achieved coverage=%{y}<extra></extra>\",\"legendgroup\":\"QTC-ST\",\"line\":{\"color\":\"#FFA15A\",\"dash\":\"solid\"},\"marker\":{\"symbol\":\"circle\"},\"mode\":\"markers+lines\",\"name\":\"QTC-ST\",\"orientation\":\"v\",\"showlegend\":false,\"x\":[0.99,0.975,0.95,0.925,0.9,0.85,0.8],\"xaxis\":\"x4\",\"y\":[0.983,0.97,0.948,0.921,0.905,0.868,0.821],\"yaxis\":\"y4\",\"type\":\"scatter\"},{\"hovertemplate\":\"Method=QTC-ST<br>ConformalPredictor=APS<br>Dataset=ImageNet-Sketch<br>$1-\\\\alpha$=%{x}<br>achieved coverage=%{y}<extra></extra>\",\"legendgroup\":\"QTC-ST\",\"line\":{\"color\":\"#FFA15A\",\"dash\":\"solid\"},\"marker\":{\"symbol\":\"circle\"},\"mode\":\"markers+lines\",\"name\":\"QTC-ST\",\"orientation\":\"v\",\"showlegend\":false,\"x\":[0.99,0.975,0.95,0.925,0.9,0.85,0.8],\"xaxis\":\"x5\",\"y\":[0.959,0.944,0.921,0.897,0.877,0.836,0.798],\"yaxis\":\"y5\",\"type\":\"scatter\"},{\"hovertemplate\":\"Method=QTC-ST<br>ConformalPredictor=APS<br>Dataset=ImageNet-R<br>$1-\\\\alpha$=%{x}<br>achieved coverage=%{y}<extra></extra>\",\"legendgroup\":\"QTC-ST\",\"line\":{\"color\":\"#FFA15A\",\"dash\":\"solid\"},\"marker\":{\"symbol\":\"circle\"},\"mode\":\"markers+lines\",\"name\":\"QTC-ST\",\"orientation\":\"v\",\"showlegend\":false,\"x\":[0.99,0.975,0.95,0.925,0.9,0.85,0.8],\"xaxis\":\"x6\",\"y\":[0.941,0.933,0.889,0.847,0.816,0.766,0.722],\"yaxis\":\"y6\",\"type\":\"scatter\"},{\"hovertemplate\":\"Method=QTC-ST<br>ConformalPredictor=RAPS<br>Dataset=ImageNetV2<br>$1-\\\\alpha$=%{x}<br>achieved coverage=%{y}<extra></extra>\",\"legendgroup\":\"QTC-ST\",\"line\":{\"color\":\"#FFA15A\",\"dash\":\"solid\"},\"marker\":{\"symbol\":\"circle\"},\"mode\":\"markers+lines\",\"name\":\"QTC-ST\",\"orientation\":\"v\",\"showlegend\":false,\"x\":[0.99,0.975,0.95,0.925,0.9,0.85,0.8],\"xaxis\":\"x\",\"y\":[0.984,0.96,0.933,0.912,0.896,0.886,0.883],\"yaxis\":\"y\",\"type\":\"scatter\"},{\"hovertemplate\":\"Method=QTC-ST<br>ConformalPredictor=RAPS<br>Dataset=ImageNet-Sketch<br>$1-\\\\alpha$=%{x}<br>achieved coverage=%{y}<extra></extra>\",\"legendgroup\":\"QTC-ST\",\"line\":{\"color\":\"#FFA15A\",\"dash\":\"solid\"},\"marker\":{\"symbol\":\"circle\"},\"mode\":\"markers+lines\",\"name\":\"QTC-ST\",\"orientation\":\"v\",\"showlegend\":false,\"x\":[0.99,0.975,0.95,0.925,0.9,0.85,0.8],\"xaxis\":\"x2\",\"y\":[0.882,0.805,0.742,0.709,0.691,0.673,0.668],\"yaxis\":\"y2\",\"type\":\"scatter\"},{\"hovertemplate\":\"Method=QTC-ST<br>ConformalPredictor=RAPS<br>Dataset=ImageNet-R<br>$1-\\\\alpha$=%{x}<br>achieved coverage=%{y}<extra></extra>\",\"legendgroup\":\"QTC-ST\",\"line\":{\"color\":\"#FFA15A\",\"dash\":\"solid\"},\"marker\":{\"symbol\":\"circle\"},\"mode\":\"markers+lines\",\"name\":\"QTC-ST\",\"orientation\":\"v\",\"showlegend\":false,\"x\":[0.99,0.975,0.95,0.925,0.9,0.85,0.8],\"xaxis\":\"x3\",\"y\":[0.829,0.734,0.659,0.62,0.601,0.584,0.576],\"yaxis\":\"y3\",\"type\":\"scatter\"},{\"hovertemplate\":\"Method=CHR-<br>ConformalPredictor=TPS<br>Dataset=ImageNetV2<br>$1-\\\\alpha$=%{x}<br>achieved coverage=%{y}<extra></extra>\",\"legendgroup\":\"CHR-\",\"line\":{\"color\":\"#19d3f3\",\"dash\":\"solid\"},\"marker\":{\"symbol\":\"circle\"},\"mode\":\"markers+lines\",\"name\":\"CHR-\",\"orientation\":\"v\",\"showlegend\":true,\"x\":[0.8,0.85,0.9,0.925,0.95,0.975,0.99],\"xaxis\":\"x7\",\"y\":[0.8,0.843,0.88,0.882,0.897,0.898,0.932],\"yaxis\":\"y7\",\"type\":\"scatter\"},{\"hovertemplate\":\"Method=CHR-<br>ConformalPredictor=TPS<br>Dataset=ImageNet-Sketch<br>$1-\\\\alpha$=%{x}<br>achieved coverage=%{y}<extra></extra>\",\"legendgroup\":\"CHR-\",\"line\":{\"color\":\"#19d3f3\",\"dash\":\"solid\"},\"marker\":{\"symbol\":\"circle\"},\"mode\":\"markers+lines\",\"name\":\"CHR-\",\"orientation\":\"v\",\"showlegend\":false,\"x\":[0.8,0.85,0.9,0.925,0.95,0.975,0.99],\"xaxis\":\"x8\",\"y\":[0.453,0.504,0.589,1.0,1.0,1.0,0.976],\"yaxis\":\"y8\",\"type\":\"scatter\"},{\"hovertemplate\":\"Method=CHR-<br>ConformalPredictor=APS<br>Dataset=ImageNetV2<br>$1-\\\\alpha$=%{x}<br>achieved coverage=%{y}<extra></extra>\",\"legendgroup\":\"CHR-\",\"line\":{\"color\":\"#19d3f3\",\"dash\":\"solid\"},\"marker\":{\"symbol\":\"circle\"},\"mode\":\"markers+lines\",\"name\":\"CHR-\",\"orientation\":\"v\",\"showlegend\":false,\"x\":[0.99,0.975,0.95,0.925,0.9,0.85,0.8],\"xaxis\":\"x4\",\"y\":[0.974,0.946,0.916,0.886,0.865,0.821,0.756],\"yaxis\":\"y4\",\"type\":\"scatter\"},{\"hovertemplate\":\"Method=CHR-<br>ConformalPredictor=APS<br>Dataset=ImageNet-Sketch<br>$1-\\\\alpha$=%{x}<br>achieved coverage=%{y}<extra></extra>\",\"legendgroup\":\"CHR-\",\"line\":{\"color\":\"#19d3f3\",\"dash\":\"solid\"},\"marker\":{\"symbol\":\"circle\"},\"mode\":\"markers+lines\",\"name\":\"CHR-\",\"orientation\":\"v\",\"showlegend\":false,\"x\":[0.99,0.975,0.95,0.925,0.9,0.85,0.8],\"xaxis\":\"x5\",\"y\":[0.937,0.905,0.801,0.747,0.684,0.622,0.559],\"yaxis\":\"y5\",\"type\":\"scatter\"},{\"hovertemplate\":\"Method=CHR-<br>ConformalPredictor=APS<br>Dataset=ImageNet-R<br>$1-\\\\alpha$=%{x}<br>achieved coverage=%{y}<extra></extra>\",\"legendgroup\":\"CHR-\",\"line\":{\"color\":\"#19d3f3\",\"dash\":\"solid\"},\"marker\":{\"symbol\":\"circle\"},\"mode\":\"markers+lines\",\"name\":\"CHR-\",\"orientation\":\"v\",\"showlegend\":false,\"x\":[0.99,0.975,0.95,0.925,0.9,0.85,0.8],\"xaxis\":\"x6\",\"y\":[0.858,0.831,0.713,0.663,0.604,0.55,0.495],\"yaxis\":\"y6\",\"type\":\"scatter\"},{\"hovertemplate\":\"Method=CHR-<br>ConformalPredictor=RAPS<br>Dataset=ImageNetV2<br>$1-\\\\alpha$=%{x}<br>achieved coverage=%{y}<extra></extra>\",\"legendgroup\":\"CHR-\",\"line\":{\"color\":\"#19d3f3\",\"dash\":\"solid\"},\"marker\":{\"symbol\":\"circle\"},\"mode\":\"markers+lines\",\"name\":\"CHR-\",\"orientation\":\"v\",\"showlegend\":false,\"x\":[0.99,0.975,0.95,0.925,0.9,0.85,0.8],\"xaxis\":\"x\",\"y\":[0.988,0.968,0.943,0.917,0.878,0.805,0.745],\"yaxis\":\"y\",\"type\":\"scatter\"},{\"hovertemplate\":\"Method=CHR-<br>ConformalPredictor=RAPS<br>Dataset=ImageNet-Sketch<br>$1-\\\\alpha$=%{x}<br>achieved coverage=%{y}<extra></extra>\",\"legendgroup\":\"CHR-\",\"line\":{\"color\":\"#19d3f3\",\"dash\":\"solid\"},\"marker\":{\"symbol\":\"circle\"},\"mode\":\"markers+lines\",\"name\":\"CHR-\",\"orientation\":\"v\",\"showlegend\":false,\"x\":[0.99,0.975,0.95,0.925,0.9,0.85,0.8],\"xaxis\":\"x2\",\"y\":[0.947,0.909,0.817,0.776,0.739,0.676,0.638],\"yaxis\":\"y2\",\"type\":\"scatter\"},{\"hovertemplate\":\"Method=CHR-<br>ConformalPredictor=RAPS<br>Dataset=ImageNet-R<br>$1-\\\\alpha$=%{x}<br>achieved coverage=%{y}<extra></extra>\",\"legendgroup\":\"CHR-\",\"line\":{\"color\":\"#19d3f3\",\"dash\":\"solid\"},\"marker\":{\"symbol\":\"circle\"},\"mode\":\"markers+lines\",\"name\":\"CHR-\",\"orientation\":\"v\",\"showlegend\":false,\"x\":[0.99,0.975,0.95,0.925,0.9,0.85,0.8],\"xaxis\":\"x3\",\"y\":[0.924,0.878,0.744,0.703,0.665,0.594,0.571],\"yaxis\":\"y3\",\"type\":\"scatter\"}],                        {\"template\":{\"data\":{\"histogram2dcontour\":[{\"type\":\"histogram2dcontour\",\"colorbar\":{\"outlinewidth\":0,\"ticks\":\"\"},\"colorscale\":[[0.0,\"#0d0887\"],[0.1111111111111111,\"#46039f\"],[0.2222222222222222,\"#7201a8\"],[0.3333333333333333,\"#9c179e\"],[0.4444444444444444,\"#bd3786\"],[0.5555555555555556,\"#d8576b\"],[0.6666666666666666,\"#ed7953\"],[0.7777777777777778,\"#fb9f3a\"],[0.8888888888888888,\"#fdca26\"],[1.0,\"#f0f921\"]]}],\"choropleth\":[{\"type\":\"choropleth\",\"colorbar\":{\"outlinewidth\":0,\"ticks\":\"\"}}],\"histogram2d\":[{\"type\":\"histogram2d\",\"colorbar\":{\"outlinewidth\":0,\"ticks\":\"\"},\"colorscale\":[[0.0,\"#0d0887\"],[0.1111111111111111,\"#46039f\"],[0.2222222222222222,\"#7201a8\"],[0.3333333333333333,\"#9c179e\"],[0.4444444444444444,\"#bd3786\"],[0.5555555555555556,\"#d8576b\"],[0.6666666666666666,\"#ed7953\"],[0.7777777777777778,\"#fb9f3a\"],[0.8888888888888888,\"#fdca26\"],[1.0,\"#f0f921\"]]}],\"heatmap\":[{\"type\":\"heatmap\",\"colorbar\":{\"outlinewidth\":0,\"ticks\":\"\"},\"colorscale\":[[0.0,\"#0d0887\"],[0.1111111111111111,\"#46039f\"],[0.2222222222222222,\"#7201a8\"],[0.3333333333333333,\"#9c179e\"],[0.4444444444444444,\"#bd3786\"],[0.5555555555555556,\"#d8576b\"],[0.6666666666666666,\"#ed7953\"],[0.7777777777777778,\"#fb9f3a\"],[0.8888888888888888,\"#fdca26\"],[1.0,\"#f0f921\"]]}],\"heatmapgl\":[{\"type\":\"heatmapgl\",\"colorbar\":{\"outlinewidth\":0,\"ticks\":\"\"},\"colorscale\":[[0.0,\"#0d0887\"],[0.1111111111111111,\"#46039f\"],[0.2222222222222222,\"#7201a8\"],[0.3333333333333333,\"#9c179e\"],[0.4444444444444444,\"#bd3786\"],[0.5555555555555556,\"#d8576b\"],[0.6666666666666666,\"#ed7953\"],[0.7777777777777778,\"#fb9f3a\"],[0.8888888888888888,\"#fdca26\"],[1.0,\"#f0f921\"]]}],\"contourcarpet\":[{\"type\":\"contourcarpet\",\"colorbar\":{\"outlinewidth\":0,\"ticks\":\"\"}}],\"contour\":[{\"type\":\"contour\",\"colorbar\":{\"outlinewidth\":0,\"ticks\":\"\"},\"colorscale\":[[0.0,\"#0d0887\"],[0.1111111111111111,\"#46039f\"],[0.2222222222222222,\"#7201a8\"],[0.3333333333333333,\"#9c179e\"],[0.4444444444444444,\"#bd3786\"],[0.5555555555555556,\"#d8576b\"],[0.6666666666666666,\"#ed7953\"],[0.7777777777777778,\"#fb9f3a\"],[0.8888888888888888,\"#fdca26\"],[1.0,\"#f0f921\"]]}],\"surface\":[{\"type\":\"surface\",\"colorbar\":{\"outlinewidth\":0,\"ticks\":\"\"},\"colorscale\":[[0.0,\"#0d0887\"],[0.1111111111111111,\"#46039f\"],[0.2222222222222222,\"#7201a8\"],[0.3333333333333333,\"#9c179e\"],[0.4444444444444444,\"#bd3786\"],[0.5555555555555556,\"#d8576b\"],[0.6666666666666666,\"#ed7953\"],[0.7777777777777778,\"#fb9f3a\"],[0.8888888888888888,\"#fdca26\"],[1.0,\"#f0f921\"]]}],\"mesh3d\":[{\"type\":\"mesh3d\",\"colorbar\":{\"outlinewidth\":0,\"ticks\":\"\"}}],\"scatter\":[{\"fillpattern\":{\"fillmode\":\"overlay\",\"size\":10,\"solidity\":0.2},\"type\":\"scatter\"}],\"parcoords\":[{\"type\":\"parcoords\",\"line\":{\"colorbar\":{\"outlinewidth\":0,\"ticks\":\"\"}}}],\"scatterpolargl\":[{\"type\":\"scatterpolargl\",\"marker\":{\"colorbar\":{\"outlinewidth\":0,\"ticks\":\"\"}}}],\"bar\":[{\"error_x\":{\"color\":\"#2a3f5f\"},\"error_y\":{\"color\":\"#2a3f5f\"},\"marker\":{\"line\":{\"color\":\"#E5ECF6\",\"width\":0.5},\"pattern\":{\"fillmode\":\"overlay\",\"size\":10,\"solidity\":0.2}},\"type\":\"bar\"}],\"scattergeo\":[{\"type\":\"scattergeo\",\"marker\":{\"colorbar\":{\"outlinewidth\":0,\"ticks\":\"\"}}}],\"scatterpolar\":[{\"type\":\"scatterpolar\",\"marker\":{\"colorbar\":{\"outlinewidth\":0,\"ticks\":\"\"}}}],\"histogram\":[{\"marker\":{\"pattern\":{\"fillmode\":\"overlay\",\"size\":10,\"solidity\":0.2}},\"type\":\"histogram\"}],\"scattergl\":[{\"type\":\"scattergl\",\"marker\":{\"colorbar\":{\"outlinewidth\":0,\"ticks\":\"\"}}}],\"scatter3d\":[{\"type\":\"scatter3d\",\"line\":{\"colorbar\":{\"outlinewidth\":0,\"ticks\":\"\"}},\"marker\":{\"colorbar\":{\"outlinewidth\":0,\"ticks\":\"\"}}}],\"scattermapbox\":[{\"type\":\"scattermapbox\",\"marker\":{\"colorbar\":{\"outlinewidth\":0,\"ticks\":\"\"}}}],\"scatterternary\":[{\"type\":\"scatterternary\",\"marker\":{\"colorbar\":{\"outlinewidth\":0,\"ticks\":\"\"}}}],\"scattercarpet\":[{\"type\":\"scattercarpet\",\"marker\":{\"colorbar\":{\"outlinewidth\":0,\"ticks\":\"\"}}}],\"carpet\":[{\"aaxis\":{\"endlinecolor\":\"#2a3f5f\",\"gridcolor\":\"white\",\"linecolor\":\"white\",\"minorgridcolor\":\"white\",\"startlinecolor\":\"#2a3f5f\"},\"baxis\":{\"endlinecolor\":\"#2a3f5f\",\"gridcolor\":\"white\",\"linecolor\":\"white\",\"minorgridcolor\":\"white\",\"startlinecolor\":\"#2a3f5f\"},\"type\":\"carpet\"}],\"table\":[{\"cells\":{\"fill\":{\"color\":\"#EBF0F8\"},\"line\":{\"color\":\"white\"}},\"header\":{\"fill\":{\"color\":\"#C8D4E3\"},\"line\":{\"color\":\"white\"}},\"type\":\"table\"}],\"barpolar\":[{\"marker\":{\"line\":{\"color\":\"#E5ECF6\",\"width\":0.5},\"pattern\":{\"fillmode\":\"overlay\",\"size\":10,\"solidity\":0.2}},\"type\":\"barpolar\"}],\"pie\":[{\"automargin\":true,\"type\":\"pie\"}]},\"layout\":{\"autotypenumbers\":\"strict\",\"colorway\":[\"#636efa\",\"#EF553B\",\"#00cc96\",\"#ab63fa\",\"#FFA15A\",\"#19d3f3\",\"#FF6692\",\"#B6E880\",\"#FF97FF\",\"#FECB52\"],\"font\":{\"color\":\"#2a3f5f\"},\"hovermode\":\"closest\",\"hoverlabel\":{\"align\":\"left\"},\"paper_bgcolor\":\"white\",\"plot_bgcolor\":\"#E5ECF6\",\"polar\":{\"bgcolor\":\"#E5ECF6\",\"angularaxis\":{\"gridcolor\":\"white\",\"linecolor\":\"white\",\"ticks\":\"\"},\"radialaxis\":{\"gridcolor\":\"white\",\"linecolor\":\"white\",\"ticks\":\"\"}},\"ternary\":{\"bgcolor\":\"#E5ECF6\",\"aaxis\":{\"gridcolor\":\"white\",\"linecolor\":\"white\",\"ticks\":\"\"},\"baxis\":{\"gridcolor\":\"white\",\"linecolor\":\"white\",\"ticks\":\"\"},\"caxis\":{\"gridcolor\":\"white\",\"linecolor\":\"white\",\"ticks\":\"\"}},\"coloraxis\":{\"colorbar\":{\"outlinewidth\":0,\"ticks\":\"\"}},\"colorscale\":{\"sequential\":[[0.0,\"#0d0887\"],[0.1111111111111111,\"#46039f\"],[0.2222222222222222,\"#7201a8\"],[0.3333333333333333,\"#9c179e\"],[0.4444444444444444,\"#bd3786\"],[0.5555555555555556,\"#d8576b\"],[0.6666666666666666,\"#ed7953\"],[0.7777777777777778,\"#fb9f3a\"],[0.8888888888888888,\"#fdca26\"],[1.0,\"#f0f921\"]],\"sequentialminus\":[[0.0,\"#0d0887\"],[0.1111111111111111,\"#46039f\"],[0.2222222222222222,\"#7201a8\"],[0.3333333333333333,\"#9c179e\"],[0.4444444444444444,\"#bd3786\"],[0.5555555555555556,\"#d8576b\"],[0.6666666666666666,\"#ed7953\"],[0.7777777777777778,\"#fb9f3a\"],[0.8888888888888888,\"#fdca26\"],[1.0,\"#f0f921\"]],\"diverging\":[[0,\"#8e0152\"],[0.1,\"#c51b7d\"],[0.2,\"#de77ae\"],[0.3,\"#f1b6da\"],[0.4,\"#fde0ef\"],[0.5,\"#f7f7f7\"],[0.6,\"#e6f5d0\"],[0.7,\"#b8e186\"],[0.8,\"#7fbc41\"],[0.9,\"#4d9221\"],[1,\"#276419\"]]},\"xaxis\":{\"gridcolor\":\"white\",\"linecolor\":\"white\",\"ticks\":\"\",\"title\":{\"standoff\":15},\"zerolinecolor\":\"white\",\"automargin\":true,\"zerolinewidth\":2},\"yaxis\":{\"gridcolor\":\"white\",\"linecolor\":\"white\",\"ticks\":\"\",\"title\":{\"standoff\":15},\"zerolinecolor\":\"white\",\"automargin\":true,\"zerolinewidth\":2},\"scene\":{\"xaxis\":{\"backgroundcolor\":\"#E5ECF6\",\"gridcolor\":\"white\",\"linecolor\":\"white\",\"showbackground\":true,\"ticks\":\"\",\"zerolinecolor\":\"white\",\"gridwidth\":2},\"yaxis\":{\"backgroundcolor\":\"#E5ECF6\",\"gridcolor\":\"white\",\"linecolor\":\"white\",\"showbackground\":true,\"ticks\":\"\",\"zerolinecolor\":\"white\",\"gridwidth\":2},\"zaxis\":{\"backgroundcolor\":\"#E5ECF6\",\"gridcolor\":\"white\",\"linecolor\":\"white\",\"showbackground\":true,\"ticks\":\"\",\"zerolinecolor\":\"white\",\"gridwidth\":2}},\"shapedefaults\":{\"line\":{\"color\":\"#2a3f5f\"}},\"annotationdefaults\":{\"arrowcolor\":\"#2a3f5f\",\"arrowhead\":0,\"arrowwidth\":1},\"geo\":{\"bgcolor\":\"white\",\"landcolor\":\"#E5ECF6\",\"subunitcolor\":\"white\",\"showland\":true,\"showlakes\":true,\"lakecolor\":\"white\"},\"title\":{\"x\":0.05},\"mapbox\":{\"style\":\"light\"}}},\"xaxis\":{\"anchor\":\"y\",\"domain\":[0.0,0.2733333333333333],\"title\":{\"text\":\"$1-\\\\alpha$\"}},\"yaxis\":{\"anchor\":\"x\",\"domain\":[0.0,0.3133333333333333],\"title\":{\"text\":\"achieved coverage\"},\"showticklabels\":true},\"xaxis2\":{\"anchor\":\"y2\",\"domain\":[0.35333333333333333,0.6266666666666667],\"matches\":\"x\",\"title\":{\"text\":\"$1-\\\\alpha$\"}},\"yaxis2\":{\"anchor\":\"x2\",\"domain\":[0.0,0.3133333333333333],\"showticklabels\":true},\"xaxis3\":{\"anchor\":\"y3\",\"domain\":[0.7066666666666667,0.98],\"matches\":\"x\",\"title\":{\"text\":\"$1-\\\\alpha$\"}},\"yaxis3\":{\"anchor\":\"x3\",\"domain\":[0.0,0.3133333333333333],\"showticklabels\":true},\"xaxis4\":{\"anchor\":\"y4\",\"domain\":[0.0,0.2733333333333333],\"matches\":\"x\",\"showticklabels\":false},\"yaxis4\":{\"anchor\":\"x4\",\"domain\":[0.34333333333333327,0.6566666666666665],\"title\":{\"text\":\"achieved coverage\"},\"showticklabels\":true},\"xaxis5\":{\"anchor\":\"y5\",\"domain\":[0.35333333333333333,0.6266666666666667],\"matches\":\"x\",\"showticklabels\":false},\"yaxis5\":{\"anchor\":\"x5\",\"domain\":[0.34333333333333327,0.6566666666666665],\"showticklabels\":true},\"xaxis6\":{\"anchor\":\"y6\",\"domain\":[0.7066666666666667,0.98],\"matches\":\"x\",\"showticklabels\":false},\"yaxis6\":{\"anchor\":\"x6\",\"domain\":[0.34333333333333327,0.6566666666666665],\"showticklabels\":true},\"xaxis7\":{\"anchor\":\"y7\",\"domain\":[0.0,0.2733333333333333],\"matches\":\"x\",\"showticklabels\":false},\"yaxis7\":{\"anchor\":\"x7\",\"domain\":[0.6866666666666665,0.9999999999999998],\"title\":{\"text\":\"achieved coverage\"},\"showticklabels\":true},\"xaxis8\":{\"anchor\":\"y8\",\"domain\":[0.35333333333333333,0.6266666666666667],\"matches\":\"x\",\"showticklabels\":false},\"yaxis8\":{\"anchor\":\"x8\",\"domain\":[0.6866666666666665,0.9999999999999998],\"showticklabels\":true},\"xaxis9\":{\"anchor\":\"y9\",\"domain\":[0.7066666666666667,0.98],\"matches\":\"x\",\"showticklabels\":false},\"yaxis9\":{\"anchor\":\"x9\",\"domain\":[0.6866666666666665,0.9999999999999998],\"showticklabels\":true},\"annotations\":[{\"font\":{},\"showarrow\":false,\"text\":\"ImageNetV2\",\"x\":0.13666666666666666,\"xanchor\":\"center\",\"xref\":\"paper\",\"y\":0.9999999999999998,\"yanchor\":\"bottom\",\"yref\":\"paper\"},{\"font\":{},\"showarrow\":false,\"text\":\"ImageNet-Sketch\",\"x\":0.49,\"xanchor\":\"center\",\"xref\":\"paper\",\"y\":0.9999999999999998,\"yanchor\":\"bottom\",\"yref\":\"paper\"},{\"font\":{},\"showarrow\":false,\"text\":\"ImageNet-R\",\"x\":0.8433333333333333,\"xanchor\":\"center\",\"xref\":\"paper\",\"y\":0.9999999999999998,\"yanchor\":\"bottom\",\"yref\":\"paper\"},{\"font\":{},\"showarrow\":false,\"text\":\"RAPS\",\"textangle\":90,\"x\":0.98,\"xanchor\":\"left\",\"xref\":\"paper\",\"y\":0.15666666666666665,\"yanchor\":\"middle\",\"yref\":\"paper\"},{\"font\":{},\"showarrow\":false,\"text\":\"APS\",\"textangle\":90,\"x\":0.98,\"xanchor\":\"left\",\"xref\":\"paper\",\"y\":0.4999999999999999,\"yanchor\":\"middle\",\"yref\":\"paper\"},{\"font\":{},\"showarrow\":false,\"text\":\"TPS\",\"textangle\":90,\"x\":0.98,\"xanchor\":\"left\",\"xref\":\"paper\",\"y\":0.8433333333333332,\"yanchor\":\"middle\",\"yref\":\"paper\"}],\"legend\":{\"title\":{\"text\":\"Method\"},\"tracegroupgap\":0},\"title\":{\"text\":\"APS-RAPS coverage under distribution shift w/ and w/o recalibration\"},\"height\":800},                        {\"responsive\": true}                    ).then(function(){\n",
       "                            \n",
       "var gd = document.getElementById('030ffd69-f4e5-45ed-9302-3f83a9168d15');\n",
       "var x = new MutationObserver(function (mutations, observer) {{\n",
       "        var display = window.getComputedStyle(gd).display;\n",
       "        if (!display || display === 'none') {{\n",
       "            console.log([gd, 'removed!']);\n",
       "            Plotly.purge(gd);\n",
       "            observer.disconnect();\n",
       "        }}\n",
       "}});\n",
       "\n",
       "// Listen for the removal of the full notebook cells\n",
       "var notebookContainer = gd.closest('#notebook-container');\n",
       "if (notebookContainer) {{\n",
       "    x.observe(notebookContainer, {childList: true});\n",
       "}}\n",
       "\n",
       "// Listen for the clearing of the current output cell\n",
       "var outputEl = gd.closest('.output');\n",
       "if (outputEl) {{\n",
       "    x.observe(outputEl, {childList: true});\n",
       "}}\n",
       "\n",
       "                        })                };                });            </script>        </div>"
      ]
     },
     "metadata": {},
     "output_type": "display_data"
    }
   ],
   "source": [
    "rcp_lines_df = rcp_lines_df.query(\"Method in ['$y=x$', 'original', 'QTC', 'QTC-SC', 'QTC-ST', 'CHR-']\")\n",
    "\n",
    "# unstable setting\n",
    "rcp_lines_df = rcp_lines_df.query(\"(ConformalPredictor != 'TPS' | Dataset != 'ImageNet-R') | Method != 'CHR-'\")\n",
    "\n",
    "rcp_lines_df = rcp_lines_df.query(\"((raps_kreg == @kreg) & (raps_lambda == @lamda)) | ConformalPredictor == 'APS' | ConformalPredictor == 'TPS'\")\n",
    "\n",
    "fig = px.line(\n",
    "    rcp_lines_df,\n",
    "    x='1_alpha', y='predicted_coverage', color='Method', markers=True, facet_col='Dataset', facet_col_spacing=0.08,\n",
    "    facet_row='ConformalPredictor',\n",
    "    category_orders={\n",
    "        \"Method\": ['$y=x$', 'original', 'QTC', 'QTC-SC', 'QTC-ST', 'CHR-'],\n",
    "        \"ConformalPredictor\": [\"TPS\", \"APS\", \"RAPS\"],\n",
    "        \"Dataset\": [\"ImageNetV2\", \"ImageNet-Sketch\", \"ImageNet-R\"]\n",
    "    },\n",
    "    title=\"TPS, APS, and RAPS coverage under distribution shift w/ and w/o recalibration\",\n",
    "    labels = {\n",
    "        '1_alpha': r'$1-\\alpha$',\n",
    "        'predicted_coverage': 'achieved coverage'\n",
    "    }\n",
    ")\n",
    "\n",
    "fig.for_each_annotation(lambda a: a.update(text=a.text.split(\"=\")[-1]))\n",
    "\n",
    "fig.update_yaxes(matches=None, showticklabels=True)\n",
    "\n",
    "fig.update_layout(height=800)\n",
    "\n",
    "fig.show()"
   ]
  },
  {
   "cell_type": "markdown",
   "metadata": {},
   "source": [
    "## QTC vs. Covariate shift based methods\n",
    "This section contains the results for the experiments carried out on the distribution shifts of the [DomainNet dataset](https://paperswithcode.com/dataset/domainnet)."
   ]
  },
  {
   "cell_type": "markdown",
   "metadata": {},
   "source": [
    "### Figure 4"
   ]
  },
  {
   "cell_type": "code",
   "execution_count": 49,
   "metadata": {},
   "outputs": [],
   "source": [
    "dom_info_df = pd.concat(\n",
    "    [\n",
    "        pd.read_csv(\"../experiments/cache/domainnet_all2info.csv\"),\n",
    "        pd.read_csv(\"../experiments/cache/domainnet_real2info.csv\"),\n",
    "    ], ignore_index=True,\n",
    ")\n",
    "\n",
    "dom_info_df['1_alpha'] = 1.0 - dom_info_df['alpha']\n",
    "\n",
    "yx_sub_df = dom_info_df[dom_info_df['Method'] == 'QTC'].copy().drop(columns=['predicted_size', 'calibrated_tau', 'predicted_beta', 'predicted_tau'])\n",
    "yx_sub_df['Method'] = r\"$y=x$\"\n",
    "yx_sub_df['predicted_coverage'] = yx_sub_df['1_alpha']\n",
    "\n",
    "orig_sub_df = dom_info_df[dom_info_df['Method'] == 'QTC-SC'].copy().drop(columns=['predicted_size', 'calibrated_tau', 'predicted_beta', 'predicted_tau'])\n",
    "orig_sub_df['Method'] = 'original'\n",
    "orig_sub_df['predicted_coverage'] = orig_sub_df['original_coverage']\n",
    "\n",
    "dom_info_df = pd.concat([yx_sub_df, orig_sub_df, dom_info_df], ignore_index=True)"
   ]
  },
  {
   "cell_type": "markdown",
   "metadata": {},
   "source": [
    "#### Figure 4 (top row)"
   ]
  },
  {
   "cell_type": "code",
   "execution_count": 52,
   "metadata": {},
   "outputs": [
    {
     "data": {
      "application/vnd.plotly.v1+json": {
       "config": {
        "plotlyServerURL": "https://plot.ly"
       },
       "data": [
        {
         "hovertemplate": "Method=$y=x$<br>source_data=DomainNetAll<br>$1-\\alpha$=%{x}<br>achieved coverage=%{y}<extra></extra>",
         "legendgroup": "$y=x$",
         "line": {
          "color": "#636efa",
          "dash": "solid"
         },
         "marker": {
          "symbol": "circle"
         },
         "mode": "markers+lines",
         "name": "$y=x$",
         "orientation": "v",
         "showlegend": true,
         "type": "scatter",
         "x": [
          0.99,
          0.975,
          0.95,
          0.925,
          0.9,
          0.85,
          0.8
         ],
         "xaxis": "x",
         "y": [
          0.99,
          0.975,
          0.95,
          0.925,
          0.9,
          0.85,
          0.8
         ],
         "yaxis": "y"
        },
        {
         "hovertemplate": "Method=$y=x$<br>source_data=DomainNetReal<br>$1-\\alpha$=%{x}<br>achieved coverage=%{y}<extra></extra>",
         "legendgroup": "$y=x$",
         "line": {
          "color": "#636efa",
          "dash": "solid"
         },
         "marker": {
          "symbol": "circle"
         },
         "mode": "markers+lines",
         "name": "$y=x$",
         "orientation": "v",
         "showlegend": false,
         "type": "scatter",
         "x": [
          0.99,
          0.975,
          0.95,
          0.925,
          0.9,
          0.85,
          0.8
         ],
         "xaxis": "x2",
         "y": [
          0.99,
          0.975,
          0.95,
          0.925,
          0.9,
          0.85,
          0.8
         ],
         "yaxis": "y2"
        },
        {
         "hovertemplate": "Method=original<br>source_data=DomainNetAll<br>$1-\\alpha$=%{x}<br>achieved coverage=%{y}<extra></extra>",
         "legendgroup": "original",
         "line": {
          "color": "#EF553B",
          "dash": "solid"
         },
         "marker": {
          "symbol": "circle"
         },
         "mode": "markers+lines",
         "name": "original",
         "orientation": "v",
         "showlegend": true,
         "type": "scatter",
         "x": [
          0.99,
          0.975,
          0.95,
          0.925,
          0.9,
          0.85,
          0.8
         ],
         "xaxis": "x",
         "y": [
          0.952,
          0.872,
          0.766,
          0.692,
          0.623,
          0.523,
          0.457
         ],
         "yaxis": "y"
        },
        {
         "hovertemplate": "Method=original<br>source_data=DomainNetReal<br>$1-\\alpha$=%{x}<br>achieved coverage=%{y}<extra></extra>",
         "legendgroup": "original",
         "line": {
          "color": "#EF553B",
          "dash": "solid"
         },
         "marker": {
          "symbol": "circle"
         },
         "mode": "markers+lines",
         "name": "original",
         "orientation": "v",
         "showlegend": false,
         "type": "scatter",
         "x": [
          0.99,
          0.975,
          0.95,
          0.925,
          0.9,
          0.85,
          0.8
         ],
         "xaxis": "x2",
         "y": [
          0.917,
          0.781,
          0.673,
          0.59,
          0.528,
          0.453,
          0.393
         ],
         "yaxis": "y2"
        },
        {
         "hovertemplate": "Method=QTC<br>source_data=DomainNetAll<br>$1-\\alpha$=%{x}<br>achieved coverage=%{y}<extra></extra>",
         "legendgroup": "QTC",
         "line": {
          "color": "#00cc96",
          "dash": "solid"
         },
         "marker": {
          "symbol": "circle"
         },
         "mode": "markers+lines",
         "name": "QTC",
         "orientation": "v",
         "showlegend": true,
         "type": "scatter",
         "x": [
          0.99,
          0.975,
          0.95,
          0.925,
          0.9,
          0.85,
          0.8
         ],
         "xaxis": "x",
         "y": [
          0.984,
          0.935,
          0.875,
          0.827,
          0.776,
          0.697,
          0.618
         ],
         "yaxis": "y"
        },
        {
         "hovertemplate": "Method=QTC<br>source_data=DomainNetReal<br>$1-\\alpha$=%{x}<br>achieved coverage=%{y}<extra></extra>",
         "legendgroup": "QTC",
         "line": {
          "color": "#00cc96",
          "dash": "solid"
         },
         "marker": {
          "symbol": "circle"
         },
         "mode": "markers+lines",
         "name": "QTC",
         "orientation": "v",
         "showlegend": false,
         "type": "scatter",
         "x": [
          0.99,
          0.975,
          0.95,
          0.925,
          0.9,
          0.85,
          0.8
         ],
         "xaxis": "x2",
         "y": [
          0.987,
          0.921,
          0.839,
          0.772,
          0.727,
          0.642,
          0.575
         ],
         "yaxis": "y2"
        },
        {
         "hovertemplate": "Method=QTC-SC<br>source_data=DomainNetAll<br>$1-\\alpha$=%{x}<br>achieved coverage=%{y}<extra></extra>",
         "legendgroup": "QTC-SC",
         "line": {
          "color": "#ab63fa",
          "dash": "solid"
         },
         "marker": {
          "symbol": "circle"
         },
         "mode": "markers+lines",
         "name": "QTC-SC",
         "orientation": "v",
         "showlegend": true,
         "type": "scatter",
         "x": [
          0.99,
          0.975,
          0.95,
          0.925,
          0.9,
          0.85,
          0.8
         ],
         "xaxis": "x",
         "y": [
          0.827,
          0.727,
          0.62,
          0.533,
          0.488,
          0.391,
          0.329
         ],
         "yaxis": "y"
        },
        {
         "hovertemplate": "Method=QTC-SC<br>source_data=DomainNetReal<br>$1-\\alpha$=%{x}<br>achieved coverage=%{y}<extra></extra>",
         "legendgroup": "QTC-SC",
         "line": {
          "color": "#ab63fa",
          "dash": "solid"
         },
         "marker": {
          "symbol": "circle"
         },
         "mode": "markers+lines",
         "name": "QTC-SC",
         "orientation": "v",
         "showlegend": false,
         "type": "scatter",
         "x": [
          0.99,
          0.975,
          0.95,
          0.925,
          0.9,
          0.85,
          0.8
         ],
         "xaxis": "x2",
         "y": [
          0.645,
          0.539,
          0.45,
          0.393,
          0.351,
          0.29,
          0.246
         ],
         "yaxis": "y2"
        },
        {
         "hovertemplate": "Method=QTC-ST<br>source_data=DomainNetAll<br>$1-\\alpha$=%{x}<br>achieved coverage=%{y}<extra></extra>",
         "legendgroup": "QTC-ST",
         "line": {
          "color": "#FFA15A",
          "dash": "solid"
         },
         "marker": {
          "symbol": "circle"
         },
         "mode": "markers+lines",
         "name": "QTC-ST",
         "orientation": "v",
         "showlegend": true,
         "type": "scatter",
         "x": [
          0.99,
          0.975,
          0.95,
          0.925,
          0.9,
          0.85,
          0.8
         ],
         "xaxis": "x",
         "y": [
          0.539,
          0.539,
          0.539,
          0.539,
          0.539,
          0.539,
          0.511
         ],
         "yaxis": "y"
        },
        {
         "hovertemplate": "Method=QTC-ST<br>source_data=DomainNetReal<br>$1-\\alpha$=%{x}<br>achieved coverage=%{y}<extra></extra>",
         "legendgroup": "QTC-ST",
         "line": {
          "color": "#FFA15A",
          "dash": "solid"
         },
         "marker": {
          "symbol": "circle"
         },
         "mode": "markers+lines",
         "name": "QTC-ST",
         "orientation": "v",
         "showlegend": false,
         "type": "scatter",
         "x": [
          0.99,
          0.975,
          0.95,
          0.925,
          0.9,
          0.85,
          0.8
         ],
         "xaxis": "x2",
         "y": [
          0.539,
          0.539,
          0.539,
          0.539,
          0.539,
          0.539,
          0.493
         ],
         "yaxis": "y2"
        },
        {
         "hovertemplate": "Method=PS-W<br>source_data=DomainNetAll<br>$1-\\alpha$=%{x}<br>achieved coverage=%{y}<extra></extra>",
         "legendgroup": "PS-W",
         "line": {
          "color": "#19d3f3",
          "dash": "solid"
         },
         "marker": {
          "symbol": "circle"
         },
         "mode": "markers+lines",
         "name": "PS-W",
         "orientation": "v",
         "showlegend": true,
         "type": "scatter",
         "x": [
          0.99,
          0.975,
          0.95,
          0.925,
          0.9,
          0.85,
          0.8
         ],
         "xaxis": "x",
         "y": [
          1,
          1,
          1,
          1,
          0.94,
          0.898,
          0.852
         ],
         "yaxis": "y"
        },
        {
         "hovertemplate": "Method=PS-W<br>source_data=DomainNetReal<br>$1-\\alpha$=%{x}<br>achieved coverage=%{y}<extra></extra>",
         "legendgroup": "PS-W",
         "line": {
          "color": "#19d3f3",
          "dash": "solid"
         },
         "marker": {
          "symbol": "circle"
         },
         "mode": "markers+lines",
         "name": "PS-W",
         "orientation": "v",
         "showlegend": false,
         "type": "scatter",
         "x": [
          0.99,
          0.975,
          0.95,
          0.925,
          0.9,
          0.85,
          0.8
         ],
         "xaxis": "x2",
         "y": [
          1,
          1,
          1,
          1,
          1,
          0.901,
          0.824
         ],
         "yaxis": "y2"
        },
        {
         "hovertemplate": "Method=WSCI<br>source_data=DomainNetAll<br>$1-\\alpha$=%{x}<br>achieved coverage=%{y}<extra></extra>",
         "legendgroup": "WSCI",
         "line": {
          "color": "#FF6692",
          "dash": "solid"
         },
         "marker": {
          "symbol": "circle"
         },
         "mode": "markers+lines",
         "name": "WSCI",
         "orientation": "v",
         "showlegend": true,
         "type": "scatter",
         "x": [
          0.99,
          0.975,
          0.95,
          0.925,
          0.9,
          0.85,
          0.8
         ],
         "xaxis": "x",
         "y": [
          0.995,
          0.978,
          0.947,
          0.92,
          0.887,
          0.815,
          0.754
         ],
         "yaxis": "y"
        },
        {
         "hovertemplate": "Method=WSCI<br>source_data=DomainNetReal<br>$1-\\alpha$=%{x}<br>achieved coverage=%{y}<extra></extra>",
         "legendgroup": "WSCI",
         "line": {
          "color": "#FF6692",
          "dash": "solid"
         },
         "marker": {
          "symbol": "circle"
         },
         "mode": "markers+lines",
         "name": "WSCI",
         "orientation": "v",
         "showlegend": false,
         "type": "scatter",
         "x": [
          0.99,
          0.975,
          0.95,
          0.925,
          0.9,
          0.85,
          0.8
         ],
         "xaxis": "x2",
         "y": [
          0.998,
          0.933,
          0.818,
          0.732,
          0.672,
          0.57,
          0.5
         ],
         "yaxis": "y2"
        }
       ],
       "layout": {
        "annotations": [
         {
          "font": {},
          "showarrow": false,
          "text": "DomainNetAll",
          "x": 0.23,
          "xanchor": "center",
          "xref": "paper",
          "y": 1,
          "yanchor": "bottom",
          "yref": "paper"
         },
         {
          "font": {},
          "showarrow": false,
          "text": "DomainNetReal",
          "x": 0.77,
          "xanchor": "center",
          "xref": "paper",
          "y": 1,
          "yanchor": "bottom",
          "yref": "paper"
         }
        ],
        "height": 800,
        "legend": {
         "title": {
          "text": "Method"
         },
         "tracegroupgap": 0
        },
        "template": {
         "data": {
          "bar": [
           {
            "error_x": {
             "color": "#2a3f5f"
            },
            "error_y": {
             "color": "#2a3f5f"
            },
            "marker": {
             "line": {
              "color": "#E5ECF6",
              "width": 0.5
             },
             "pattern": {
              "fillmode": "overlay",
              "size": 10,
              "solidity": 0.2
             }
            },
            "type": "bar"
           }
          ],
          "barpolar": [
           {
            "marker": {
             "line": {
              "color": "#E5ECF6",
              "width": 0.5
             },
             "pattern": {
              "fillmode": "overlay",
              "size": 10,
              "solidity": 0.2
             }
            },
            "type": "barpolar"
           }
          ],
          "carpet": [
           {
            "aaxis": {
             "endlinecolor": "#2a3f5f",
             "gridcolor": "white",
             "linecolor": "white",
             "minorgridcolor": "white",
             "startlinecolor": "#2a3f5f"
            },
            "baxis": {
             "endlinecolor": "#2a3f5f",
             "gridcolor": "white",
             "linecolor": "white",
             "minorgridcolor": "white",
             "startlinecolor": "#2a3f5f"
            },
            "type": "carpet"
           }
          ],
          "choropleth": [
           {
            "colorbar": {
             "outlinewidth": 0,
             "ticks": ""
            },
            "type": "choropleth"
           }
          ],
          "contour": [
           {
            "colorbar": {
             "outlinewidth": 0,
             "ticks": ""
            },
            "colorscale": [
             [
              0,
              "#0d0887"
             ],
             [
              0.1111111111111111,
              "#46039f"
             ],
             [
              0.2222222222222222,
              "#7201a8"
             ],
             [
              0.3333333333333333,
              "#9c179e"
             ],
             [
              0.4444444444444444,
              "#bd3786"
             ],
             [
              0.5555555555555556,
              "#d8576b"
             ],
             [
              0.6666666666666666,
              "#ed7953"
             ],
             [
              0.7777777777777778,
              "#fb9f3a"
             ],
             [
              0.8888888888888888,
              "#fdca26"
             ],
             [
              1,
              "#f0f921"
             ]
            ],
            "type": "contour"
           }
          ],
          "contourcarpet": [
           {
            "colorbar": {
             "outlinewidth": 0,
             "ticks": ""
            },
            "type": "contourcarpet"
           }
          ],
          "heatmap": [
           {
            "colorbar": {
             "outlinewidth": 0,
             "ticks": ""
            },
            "colorscale": [
             [
              0,
              "#0d0887"
             ],
             [
              0.1111111111111111,
              "#46039f"
             ],
             [
              0.2222222222222222,
              "#7201a8"
             ],
             [
              0.3333333333333333,
              "#9c179e"
             ],
             [
              0.4444444444444444,
              "#bd3786"
             ],
             [
              0.5555555555555556,
              "#d8576b"
             ],
             [
              0.6666666666666666,
              "#ed7953"
             ],
             [
              0.7777777777777778,
              "#fb9f3a"
             ],
             [
              0.8888888888888888,
              "#fdca26"
             ],
             [
              1,
              "#f0f921"
             ]
            ],
            "type": "heatmap"
           }
          ],
          "heatmapgl": [
           {
            "colorbar": {
             "outlinewidth": 0,
             "ticks": ""
            },
            "colorscale": [
             [
              0,
              "#0d0887"
             ],
             [
              0.1111111111111111,
              "#46039f"
             ],
             [
              0.2222222222222222,
              "#7201a8"
             ],
             [
              0.3333333333333333,
              "#9c179e"
             ],
             [
              0.4444444444444444,
              "#bd3786"
             ],
             [
              0.5555555555555556,
              "#d8576b"
             ],
             [
              0.6666666666666666,
              "#ed7953"
             ],
             [
              0.7777777777777778,
              "#fb9f3a"
             ],
             [
              0.8888888888888888,
              "#fdca26"
             ],
             [
              1,
              "#f0f921"
             ]
            ],
            "type": "heatmapgl"
           }
          ],
          "histogram": [
           {
            "marker": {
             "pattern": {
              "fillmode": "overlay",
              "size": 10,
              "solidity": 0.2
             }
            },
            "type": "histogram"
           }
          ],
          "histogram2d": [
           {
            "colorbar": {
             "outlinewidth": 0,
             "ticks": ""
            },
            "colorscale": [
             [
              0,
              "#0d0887"
             ],
             [
              0.1111111111111111,
              "#46039f"
             ],
             [
              0.2222222222222222,
              "#7201a8"
             ],
             [
              0.3333333333333333,
              "#9c179e"
             ],
             [
              0.4444444444444444,
              "#bd3786"
             ],
             [
              0.5555555555555556,
              "#d8576b"
             ],
             [
              0.6666666666666666,
              "#ed7953"
             ],
             [
              0.7777777777777778,
              "#fb9f3a"
             ],
             [
              0.8888888888888888,
              "#fdca26"
             ],
             [
              1,
              "#f0f921"
             ]
            ],
            "type": "histogram2d"
           }
          ],
          "histogram2dcontour": [
           {
            "colorbar": {
             "outlinewidth": 0,
             "ticks": ""
            },
            "colorscale": [
             [
              0,
              "#0d0887"
             ],
             [
              0.1111111111111111,
              "#46039f"
             ],
             [
              0.2222222222222222,
              "#7201a8"
             ],
             [
              0.3333333333333333,
              "#9c179e"
             ],
             [
              0.4444444444444444,
              "#bd3786"
             ],
             [
              0.5555555555555556,
              "#d8576b"
             ],
             [
              0.6666666666666666,
              "#ed7953"
             ],
             [
              0.7777777777777778,
              "#fb9f3a"
             ],
             [
              0.8888888888888888,
              "#fdca26"
             ],
             [
              1,
              "#f0f921"
             ]
            ],
            "type": "histogram2dcontour"
           }
          ],
          "mesh3d": [
           {
            "colorbar": {
             "outlinewidth": 0,
             "ticks": ""
            },
            "type": "mesh3d"
           }
          ],
          "parcoords": [
           {
            "line": {
             "colorbar": {
              "outlinewidth": 0,
              "ticks": ""
             }
            },
            "type": "parcoords"
           }
          ],
          "pie": [
           {
            "automargin": true,
            "type": "pie"
           }
          ],
          "scatter": [
           {
            "fillpattern": {
             "fillmode": "overlay",
             "size": 10,
             "solidity": 0.2
            },
            "type": "scatter"
           }
          ],
          "scatter3d": [
           {
            "line": {
             "colorbar": {
              "outlinewidth": 0,
              "ticks": ""
             }
            },
            "marker": {
             "colorbar": {
              "outlinewidth": 0,
              "ticks": ""
             }
            },
            "type": "scatter3d"
           }
          ],
          "scattercarpet": [
           {
            "marker": {
             "colorbar": {
              "outlinewidth": 0,
              "ticks": ""
             }
            },
            "type": "scattercarpet"
           }
          ],
          "scattergeo": [
           {
            "marker": {
             "colorbar": {
              "outlinewidth": 0,
              "ticks": ""
             }
            },
            "type": "scattergeo"
           }
          ],
          "scattergl": [
           {
            "marker": {
             "colorbar": {
              "outlinewidth": 0,
              "ticks": ""
             }
            },
            "type": "scattergl"
           }
          ],
          "scattermapbox": [
           {
            "marker": {
             "colorbar": {
              "outlinewidth": 0,
              "ticks": ""
             }
            },
            "type": "scattermapbox"
           }
          ],
          "scatterpolar": [
           {
            "marker": {
             "colorbar": {
              "outlinewidth": 0,
              "ticks": ""
             }
            },
            "type": "scatterpolar"
           }
          ],
          "scatterpolargl": [
           {
            "marker": {
             "colorbar": {
              "outlinewidth": 0,
              "ticks": ""
             }
            },
            "type": "scatterpolargl"
           }
          ],
          "scatterternary": [
           {
            "marker": {
             "colorbar": {
              "outlinewidth": 0,
              "ticks": ""
             }
            },
            "type": "scatterternary"
           }
          ],
          "surface": [
           {
            "colorbar": {
             "outlinewidth": 0,
             "ticks": ""
            },
            "colorscale": [
             [
              0,
              "#0d0887"
             ],
             [
              0.1111111111111111,
              "#46039f"
             ],
             [
              0.2222222222222222,
              "#7201a8"
             ],
             [
              0.3333333333333333,
              "#9c179e"
             ],
             [
              0.4444444444444444,
              "#bd3786"
             ],
             [
              0.5555555555555556,
              "#d8576b"
             ],
             [
              0.6666666666666666,
              "#ed7953"
             ],
             [
              0.7777777777777778,
              "#fb9f3a"
             ],
             [
              0.8888888888888888,
              "#fdca26"
             ],
             [
              1,
              "#f0f921"
             ]
            ],
            "type": "surface"
           }
          ],
          "table": [
           {
            "cells": {
             "fill": {
              "color": "#EBF0F8"
             },
             "line": {
              "color": "white"
             }
            },
            "header": {
             "fill": {
              "color": "#C8D4E3"
             },
             "line": {
              "color": "white"
             }
            },
            "type": "table"
           }
          ]
         },
         "layout": {
          "annotationdefaults": {
           "arrowcolor": "#2a3f5f",
           "arrowhead": 0,
           "arrowwidth": 1
          },
          "autotypenumbers": "strict",
          "coloraxis": {
           "colorbar": {
            "outlinewidth": 0,
            "ticks": ""
           }
          },
          "colorscale": {
           "diverging": [
            [
             0,
             "#8e0152"
            ],
            [
             0.1,
             "#c51b7d"
            ],
            [
             0.2,
             "#de77ae"
            ],
            [
             0.3,
             "#f1b6da"
            ],
            [
             0.4,
             "#fde0ef"
            ],
            [
             0.5,
             "#f7f7f7"
            ],
            [
             0.6,
             "#e6f5d0"
            ],
            [
             0.7,
             "#b8e186"
            ],
            [
             0.8,
             "#7fbc41"
            ],
            [
             0.9,
             "#4d9221"
            ],
            [
             1,
             "#276419"
            ]
           ],
           "sequential": [
            [
             0,
             "#0d0887"
            ],
            [
             0.1111111111111111,
             "#46039f"
            ],
            [
             0.2222222222222222,
             "#7201a8"
            ],
            [
             0.3333333333333333,
             "#9c179e"
            ],
            [
             0.4444444444444444,
             "#bd3786"
            ],
            [
             0.5555555555555556,
             "#d8576b"
            ],
            [
             0.6666666666666666,
             "#ed7953"
            ],
            [
             0.7777777777777778,
             "#fb9f3a"
            ],
            [
             0.8888888888888888,
             "#fdca26"
            ],
            [
             1,
             "#f0f921"
            ]
           ],
           "sequentialminus": [
            [
             0,
             "#0d0887"
            ],
            [
             0.1111111111111111,
             "#46039f"
            ],
            [
             0.2222222222222222,
             "#7201a8"
            ],
            [
             0.3333333333333333,
             "#9c179e"
            ],
            [
             0.4444444444444444,
             "#bd3786"
            ],
            [
             0.5555555555555556,
             "#d8576b"
            ],
            [
             0.6666666666666666,
             "#ed7953"
            ],
            [
             0.7777777777777778,
             "#fb9f3a"
            ],
            [
             0.8888888888888888,
             "#fdca26"
            ],
            [
             1,
             "#f0f921"
            ]
           ]
          },
          "colorway": [
           "#636efa",
           "#EF553B",
           "#00cc96",
           "#ab63fa",
           "#FFA15A",
           "#19d3f3",
           "#FF6692",
           "#B6E880",
           "#FF97FF",
           "#FECB52"
          ],
          "font": {
           "color": "#2a3f5f"
          },
          "geo": {
           "bgcolor": "white",
           "lakecolor": "white",
           "landcolor": "#E5ECF6",
           "showlakes": true,
           "showland": true,
           "subunitcolor": "white"
          },
          "hoverlabel": {
           "align": "left"
          },
          "hovermode": "closest",
          "mapbox": {
           "style": "light"
          },
          "paper_bgcolor": "white",
          "plot_bgcolor": "#E5ECF6",
          "polar": {
           "angularaxis": {
            "gridcolor": "white",
            "linecolor": "white",
            "ticks": ""
           },
           "bgcolor": "#E5ECF6",
           "radialaxis": {
            "gridcolor": "white",
            "linecolor": "white",
            "ticks": ""
           }
          },
          "scene": {
           "xaxis": {
            "backgroundcolor": "#E5ECF6",
            "gridcolor": "white",
            "gridwidth": 2,
            "linecolor": "white",
            "showbackground": true,
            "ticks": "",
            "zerolinecolor": "white"
           },
           "yaxis": {
            "backgroundcolor": "#E5ECF6",
            "gridcolor": "white",
            "gridwidth": 2,
            "linecolor": "white",
            "showbackground": true,
            "ticks": "",
            "zerolinecolor": "white"
           },
           "zaxis": {
            "backgroundcolor": "#E5ECF6",
            "gridcolor": "white",
            "gridwidth": 2,
            "linecolor": "white",
            "showbackground": true,
            "ticks": "",
            "zerolinecolor": "white"
           }
          },
          "shapedefaults": {
           "line": {
            "color": "#2a3f5f"
           }
          },
          "ternary": {
           "aaxis": {
            "gridcolor": "white",
            "linecolor": "white",
            "ticks": ""
           },
           "baxis": {
            "gridcolor": "white",
            "linecolor": "white",
            "ticks": ""
           },
           "bgcolor": "#E5ECF6",
           "caxis": {
            "gridcolor": "white",
            "linecolor": "white",
            "ticks": ""
           }
          },
          "title": {
           "x": 0.05
          },
          "xaxis": {
           "automargin": true,
           "gridcolor": "white",
           "linecolor": "white",
           "ticks": "",
           "title": {
            "standoff": 15
           },
           "zerolinecolor": "white",
           "zerolinewidth": 2
          },
          "yaxis": {
           "automargin": true,
           "gridcolor": "white",
           "linecolor": "white",
           "ticks": "",
           "title": {
            "standoff": 15
           },
           "zerolinecolor": "white",
           "zerolinewidth": 2
          }
         }
        },
        "title": {
         "text": "APS-RAPS coverage under distribution shift w/ and w/o recalibration"
        },
        "xaxis": {
         "anchor": "y",
         "domain": [
          0,
          0.46
         ],
         "title": {
          "text": "$1-\\alpha$"
         }
        },
        "xaxis2": {
         "anchor": "y2",
         "domain": [
          0.54,
          1
         ],
         "matches": "x",
         "title": {
          "text": "$1-\\alpha$"
         }
        },
        "yaxis": {
         "anchor": "x",
         "domain": [
          0,
          1
         ],
         "showticklabels": true,
         "title": {
          "text": "achieved coverage"
         }
        },
        "yaxis2": {
         "anchor": "x2",
         "domain": [
          0,
          1
         ],
         "showticklabels": true
        }
       }
      },
      "text/html": [
       "<div>                            <div id=\"45d7a096-1861-4973-85d6-7772e3b26f7e\" class=\"plotly-graph-div\" style=\"height:800px; width:100%;\"></div>            <script type=\"text/javascript\">                require([\"plotly\"], function(Plotly) {                    window.PLOTLYENV=window.PLOTLYENV || {};                                    if (document.getElementById(\"45d7a096-1861-4973-85d6-7772e3b26f7e\")) {                    Plotly.newPlot(                        \"45d7a096-1861-4973-85d6-7772e3b26f7e\",                        [{\"hovertemplate\":\"Method=$y=x$<br>source_data=DomainNetAll<br>$1-\\\\alpha$=%{x}<br>achieved coverage=%{y}<extra></extra>\",\"legendgroup\":\"$y=x$\",\"line\":{\"color\":\"#636efa\",\"dash\":\"solid\"},\"marker\":{\"symbol\":\"circle\"},\"mode\":\"markers+lines\",\"name\":\"$y=x$\",\"orientation\":\"v\",\"showlegend\":true,\"x\":[0.99,0.975,0.95,0.925,0.9,0.85,0.8],\"xaxis\":\"x\",\"y\":[0.99,0.975,0.95,0.925,0.9,0.85,0.8],\"yaxis\":\"y\",\"type\":\"scatter\"},{\"hovertemplate\":\"Method=$y=x$<br>source_data=DomainNetReal<br>$1-\\\\alpha$=%{x}<br>achieved coverage=%{y}<extra></extra>\",\"legendgroup\":\"$y=x$\",\"line\":{\"color\":\"#636efa\",\"dash\":\"solid\"},\"marker\":{\"symbol\":\"circle\"},\"mode\":\"markers+lines\",\"name\":\"$y=x$\",\"orientation\":\"v\",\"showlegend\":false,\"x\":[0.99,0.975,0.95,0.925,0.9,0.85,0.8],\"xaxis\":\"x2\",\"y\":[0.99,0.975,0.95,0.925,0.9,0.85,0.8],\"yaxis\":\"y2\",\"type\":\"scatter\"},{\"hovertemplate\":\"Method=original<br>source_data=DomainNetAll<br>$1-\\\\alpha$=%{x}<br>achieved coverage=%{y}<extra></extra>\",\"legendgroup\":\"original\",\"line\":{\"color\":\"#EF553B\",\"dash\":\"solid\"},\"marker\":{\"symbol\":\"circle\"},\"mode\":\"markers+lines\",\"name\":\"original\",\"orientation\":\"v\",\"showlegend\":true,\"x\":[0.99,0.975,0.95,0.925,0.9,0.85,0.8],\"xaxis\":\"x\",\"y\":[0.952,0.872,0.766,0.692,0.623,0.523,0.457],\"yaxis\":\"y\",\"type\":\"scatter\"},{\"hovertemplate\":\"Method=original<br>source_data=DomainNetReal<br>$1-\\\\alpha$=%{x}<br>achieved coverage=%{y}<extra></extra>\",\"legendgroup\":\"original\",\"line\":{\"color\":\"#EF553B\",\"dash\":\"solid\"},\"marker\":{\"symbol\":\"circle\"},\"mode\":\"markers+lines\",\"name\":\"original\",\"orientation\":\"v\",\"showlegend\":false,\"x\":[0.99,0.975,0.95,0.925,0.9,0.85,0.8],\"xaxis\":\"x2\",\"y\":[0.917,0.781,0.673,0.59,0.528,0.453,0.393],\"yaxis\":\"y2\",\"type\":\"scatter\"},{\"hovertemplate\":\"Method=QTC<br>source_data=DomainNetAll<br>$1-\\\\alpha$=%{x}<br>achieved coverage=%{y}<extra></extra>\",\"legendgroup\":\"QTC\",\"line\":{\"color\":\"#00cc96\",\"dash\":\"solid\"},\"marker\":{\"symbol\":\"circle\"},\"mode\":\"markers+lines\",\"name\":\"QTC\",\"orientation\":\"v\",\"showlegend\":true,\"x\":[0.99,0.975,0.95,0.925,0.9,0.85,0.8],\"xaxis\":\"x\",\"y\":[0.984,0.935,0.875,0.827,0.776,0.697,0.618],\"yaxis\":\"y\",\"type\":\"scatter\"},{\"hovertemplate\":\"Method=QTC<br>source_data=DomainNetReal<br>$1-\\\\alpha$=%{x}<br>achieved coverage=%{y}<extra></extra>\",\"legendgroup\":\"QTC\",\"line\":{\"color\":\"#00cc96\",\"dash\":\"solid\"},\"marker\":{\"symbol\":\"circle\"},\"mode\":\"markers+lines\",\"name\":\"QTC\",\"orientation\":\"v\",\"showlegend\":false,\"x\":[0.99,0.975,0.95,0.925,0.9,0.85,0.8],\"xaxis\":\"x2\",\"y\":[0.987,0.921,0.839,0.772,0.727,0.642,0.575],\"yaxis\":\"y2\",\"type\":\"scatter\"},{\"hovertemplate\":\"Method=QTC-SC<br>source_data=DomainNetAll<br>$1-\\\\alpha$=%{x}<br>achieved coverage=%{y}<extra></extra>\",\"legendgroup\":\"QTC-SC\",\"line\":{\"color\":\"#ab63fa\",\"dash\":\"solid\"},\"marker\":{\"symbol\":\"circle\"},\"mode\":\"markers+lines\",\"name\":\"QTC-SC\",\"orientation\":\"v\",\"showlegend\":true,\"x\":[0.99,0.975,0.95,0.925,0.9,0.85,0.8],\"xaxis\":\"x\",\"y\":[0.827,0.727,0.62,0.533,0.488,0.391,0.329],\"yaxis\":\"y\",\"type\":\"scatter\"},{\"hovertemplate\":\"Method=QTC-SC<br>source_data=DomainNetReal<br>$1-\\\\alpha$=%{x}<br>achieved coverage=%{y}<extra></extra>\",\"legendgroup\":\"QTC-SC\",\"line\":{\"color\":\"#ab63fa\",\"dash\":\"solid\"},\"marker\":{\"symbol\":\"circle\"},\"mode\":\"markers+lines\",\"name\":\"QTC-SC\",\"orientation\":\"v\",\"showlegend\":false,\"x\":[0.99,0.975,0.95,0.925,0.9,0.85,0.8],\"xaxis\":\"x2\",\"y\":[0.645,0.539,0.45,0.393,0.351,0.29,0.246],\"yaxis\":\"y2\",\"type\":\"scatter\"},{\"hovertemplate\":\"Method=QTC-ST<br>source_data=DomainNetAll<br>$1-\\\\alpha$=%{x}<br>achieved coverage=%{y}<extra></extra>\",\"legendgroup\":\"QTC-ST\",\"line\":{\"color\":\"#FFA15A\",\"dash\":\"solid\"},\"marker\":{\"symbol\":\"circle\"},\"mode\":\"markers+lines\",\"name\":\"QTC-ST\",\"orientation\":\"v\",\"showlegend\":true,\"x\":[0.99,0.975,0.95,0.925,0.9,0.85,0.8],\"xaxis\":\"x\",\"y\":[0.539,0.539,0.539,0.539,0.539,0.539,0.511],\"yaxis\":\"y\",\"type\":\"scatter\"},{\"hovertemplate\":\"Method=QTC-ST<br>source_data=DomainNetReal<br>$1-\\\\alpha$=%{x}<br>achieved coverage=%{y}<extra></extra>\",\"legendgroup\":\"QTC-ST\",\"line\":{\"color\":\"#FFA15A\",\"dash\":\"solid\"},\"marker\":{\"symbol\":\"circle\"},\"mode\":\"markers+lines\",\"name\":\"QTC-ST\",\"orientation\":\"v\",\"showlegend\":false,\"x\":[0.99,0.975,0.95,0.925,0.9,0.85,0.8],\"xaxis\":\"x2\",\"y\":[0.539,0.539,0.539,0.539,0.539,0.539,0.493],\"yaxis\":\"y2\",\"type\":\"scatter\"},{\"hovertemplate\":\"Method=PS-W<br>source_data=DomainNetAll<br>$1-\\\\alpha$=%{x}<br>achieved coverage=%{y}<extra></extra>\",\"legendgroup\":\"PS-W\",\"line\":{\"color\":\"#19d3f3\",\"dash\":\"solid\"},\"marker\":{\"symbol\":\"circle\"},\"mode\":\"markers+lines\",\"name\":\"PS-W\",\"orientation\":\"v\",\"showlegend\":true,\"x\":[0.99,0.975,0.95,0.925,0.9,0.85,0.8],\"xaxis\":\"x\",\"y\":[1.0,1.0,1.0,1.0,0.94,0.898,0.852],\"yaxis\":\"y\",\"type\":\"scatter\"},{\"hovertemplate\":\"Method=PS-W<br>source_data=DomainNetReal<br>$1-\\\\alpha$=%{x}<br>achieved coverage=%{y}<extra></extra>\",\"legendgroup\":\"PS-W\",\"line\":{\"color\":\"#19d3f3\",\"dash\":\"solid\"},\"marker\":{\"symbol\":\"circle\"},\"mode\":\"markers+lines\",\"name\":\"PS-W\",\"orientation\":\"v\",\"showlegend\":false,\"x\":[0.99,0.975,0.95,0.925,0.9,0.85,0.8],\"xaxis\":\"x2\",\"y\":[1.0,1.0,1.0,1.0,1.0,0.901,0.824],\"yaxis\":\"y2\",\"type\":\"scatter\"},{\"hovertemplate\":\"Method=WSCI<br>source_data=DomainNetAll<br>$1-\\\\alpha$=%{x}<br>achieved coverage=%{y}<extra></extra>\",\"legendgroup\":\"WSCI\",\"line\":{\"color\":\"#FF6692\",\"dash\":\"solid\"},\"marker\":{\"symbol\":\"circle\"},\"mode\":\"markers+lines\",\"name\":\"WSCI\",\"orientation\":\"v\",\"showlegend\":true,\"x\":[0.99,0.975,0.95,0.925,0.9,0.85,0.8],\"xaxis\":\"x\",\"y\":[0.995,0.978,0.947,0.92,0.887,0.815,0.754],\"yaxis\":\"y\",\"type\":\"scatter\"},{\"hovertemplate\":\"Method=WSCI<br>source_data=DomainNetReal<br>$1-\\\\alpha$=%{x}<br>achieved coverage=%{y}<extra></extra>\",\"legendgroup\":\"WSCI\",\"line\":{\"color\":\"#FF6692\",\"dash\":\"solid\"},\"marker\":{\"symbol\":\"circle\"},\"mode\":\"markers+lines\",\"name\":\"WSCI\",\"orientation\":\"v\",\"showlegend\":false,\"x\":[0.99,0.975,0.95,0.925,0.9,0.85,0.8],\"xaxis\":\"x2\",\"y\":[0.998,0.933,0.818,0.732,0.672,0.57,0.5],\"yaxis\":\"y2\",\"type\":\"scatter\"}],                        {\"template\":{\"data\":{\"histogram2dcontour\":[{\"type\":\"histogram2dcontour\",\"colorbar\":{\"outlinewidth\":0,\"ticks\":\"\"},\"colorscale\":[[0.0,\"#0d0887\"],[0.1111111111111111,\"#46039f\"],[0.2222222222222222,\"#7201a8\"],[0.3333333333333333,\"#9c179e\"],[0.4444444444444444,\"#bd3786\"],[0.5555555555555556,\"#d8576b\"],[0.6666666666666666,\"#ed7953\"],[0.7777777777777778,\"#fb9f3a\"],[0.8888888888888888,\"#fdca26\"],[1.0,\"#f0f921\"]]}],\"choropleth\":[{\"type\":\"choropleth\",\"colorbar\":{\"outlinewidth\":0,\"ticks\":\"\"}}],\"histogram2d\":[{\"type\":\"histogram2d\",\"colorbar\":{\"outlinewidth\":0,\"ticks\":\"\"},\"colorscale\":[[0.0,\"#0d0887\"],[0.1111111111111111,\"#46039f\"],[0.2222222222222222,\"#7201a8\"],[0.3333333333333333,\"#9c179e\"],[0.4444444444444444,\"#bd3786\"],[0.5555555555555556,\"#d8576b\"],[0.6666666666666666,\"#ed7953\"],[0.7777777777777778,\"#fb9f3a\"],[0.8888888888888888,\"#fdca26\"],[1.0,\"#f0f921\"]]}],\"heatmap\":[{\"type\":\"heatmap\",\"colorbar\":{\"outlinewidth\":0,\"ticks\":\"\"},\"colorscale\":[[0.0,\"#0d0887\"],[0.1111111111111111,\"#46039f\"],[0.2222222222222222,\"#7201a8\"],[0.3333333333333333,\"#9c179e\"],[0.4444444444444444,\"#bd3786\"],[0.5555555555555556,\"#d8576b\"],[0.6666666666666666,\"#ed7953\"],[0.7777777777777778,\"#fb9f3a\"],[0.8888888888888888,\"#fdca26\"],[1.0,\"#f0f921\"]]}],\"heatmapgl\":[{\"type\":\"heatmapgl\",\"colorbar\":{\"outlinewidth\":0,\"ticks\":\"\"},\"colorscale\":[[0.0,\"#0d0887\"],[0.1111111111111111,\"#46039f\"],[0.2222222222222222,\"#7201a8\"],[0.3333333333333333,\"#9c179e\"],[0.4444444444444444,\"#bd3786\"],[0.5555555555555556,\"#d8576b\"],[0.6666666666666666,\"#ed7953\"],[0.7777777777777778,\"#fb9f3a\"],[0.8888888888888888,\"#fdca26\"],[1.0,\"#f0f921\"]]}],\"contourcarpet\":[{\"type\":\"contourcarpet\",\"colorbar\":{\"outlinewidth\":0,\"ticks\":\"\"}}],\"contour\":[{\"type\":\"contour\",\"colorbar\":{\"outlinewidth\":0,\"ticks\":\"\"},\"colorscale\":[[0.0,\"#0d0887\"],[0.1111111111111111,\"#46039f\"],[0.2222222222222222,\"#7201a8\"],[0.3333333333333333,\"#9c179e\"],[0.4444444444444444,\"#bd3786\"],[0.5555555555555556,\"#d8576b\"],[0.6666666666666666,\"#ed7953\"],[0.7777777777777778,\"#fb9f3a\"],[0.8888888888888888,\"#fdca26\"],[1.0,\"#f0f921\"]]}],\"surface\":[{\"type\":\"surface\",\"colorbar\":{\"outlinewidth\":0,\"ticks\":\"\"},\"colorscale\":[[0.0,\"#0d0887\"],[0.1111111111111111,\"#46039f\"],[0.2222222222222222,\"#7201a8\"],[0.3333333333333333,\"#9c179e\"],[0.4444444444444444,\"#bd3786\"],[0.5555555555555556,\"#d8576b\"],[0.6666666666666666,\"#ed7953\"],[0.7777777777777778,\"#fb9f3a\"],[0.8888888888888888,\"#fdca26\"],[1.0,\"#f0f921\"]]}],\"mesh3d\":[{\"type\":\"mesh3d\",\"colorbar\":{\"outlinewidth\":0,\"ticks\":\"\"}}],\"scatter\":[{\"fillpattern\":{\"fillmode\":\"overlay\",\"size\":10,\"solidity\":0.2},\"type\":\"scatter\"}],\"parcoords\":[{\"type\":\"parcoords\",\"line\":{\"colorbar\":{\"outlinewidth\":0,\"ticks\":\"\"}}}],\"scatterpolargl\":[{\"type\":\"scatterpolargl\",\"marker\":{\"colorbar\":{\"outlinewidth\":0,\"ticks\":\"\"}}}],\"bar\":[{\"error_x\":{\"color\":\"#2a3f5f\"},\"error_y\":{\"color\":\"#2a3f5f\"},\"marker\":{\"line\":{\"color\":\"#E5ECF6\",\"width\":0.5},\"pattern\":{\"fillmode\":\"overlay\",\"size\":10,\"solidity\":0.2}},\"type\":\"bar\"}],\"scattergeo\":[{\"type\":\"scattergeo\",\"marker\":{\"colorbar\":{\"outlinewidth\":0,\"ticks\":\"\"}}}],\"scatterpolar\":[{\"type\":\"scatterpolar\",\"marker\":{\"colorbar\":{\"outlinewidth\":0,\"ticks\":\"\"}}}],\"histogram\":[{\"marker\":{\"pattern\":{\"fillmode\":\"overlay\",\"size\":10,\"solidity\":0.2}},\"type\":\"histogram\"}],\"scattergl\":[{\"type\":\"scattergl\",\"marker\":{\"colorbar\":{\"outlinewidth\":0,\"ticks\":\"\"}}}],\"scatter3d\":[{\"type\":\"scatter3d\",\"line\":{\"colorbar\":{\"outlinewidth\":0,\"ticks\":\"\"}},\"marker\":{\"colorbar\":{\"outlinewidth\":0,\"ticks\":\"\"}}}],\"scattermapbox\":[{\"type\":\"scattermapbox\",\"marker\":{\"colorbar\":{\"outlinewidth\":0,\"ticks\":\"\"}}}],\"scatterternary\":[{\"type\":\"scatterternary\",\"marker\":{\"colorbar\":{\"outlinewidth\":0,\"ticks\":\"\"}}}],\"scattercarpet\":[{\"type\":\"scattercarpet\",\"marker\":{\"colorbar\":{\"outlinewidth\":0,\"ticks\":\"\"}}}],\"carpet\":[{\"aaxis\":{\"endlinecolor\":\"#2a3f5f\",\"gridcolor\":\"white\",\"linecolor\":\"white\",\"minorgridcolor\":\"white\",\"startlinecolor\":\"#2a3f5f\"},\"baxis\":{\"endlinecolor\":\"#2a3f5f\",\"gridcolor\":\"white\",\"linecolor\":\"white\",\"minorgridcolor\":\"white\",\"startlinecolor\":\"#2a3f5f\"},\"type\":\"carpet\"}],\"table\":[{\"cells\":{\"fill\":{\"color\":\"#EBF0F8\"},\"line\":{\"color\":\"white\"}},\"header\":{\"fill\":{\"color\":\"#C8D4E3\"},\"line\":{\"color\":\"white\"}},\"type\":\"table\"}],\"barpolar\":[{\"marker\":{\"line\":{\"color\":\"#E5ECF6\",\"width\":0.5},\"pattern\":{\"fillmode\":\"overlay\",\"size\":10,\"solidity\":0.2}},\"type\":\"barpolar\"}],\"pie\":[{\"automargin\":true,\"type\":\"pie\"}]},\"layout\":{\"autotypenumbers\":\"strict\",\"colorway\":[\"#636efa\",\"#EF553B\",\"#00cc96\",\"#ab63fa\",\"#FFA15A\",\"#19d3f3\",\"#FF6692\",\"#B6E880\",\"#FF97FF\",\"#FECB52\"],\"font\":{\"color\":\"#2a3f5f\"},\"hovermode\":\"closest\",\"hoverlabel\":{\"align\":\"left\"},\"paper_bgcolor\":\"white\",\"plot_bgcolor\":\"#E5ECF6\",\"polar\":{\"bgcolor\":\"#E5ECF6\",\"angularaxis\":{\"gridcolor\":\"white\",\"linecolor\":\"white\",\"ticks\":\"\"},\"radialaxis\":{\"gridcolor\":\"white\",\"linecolor\":\"white\",\"ticks\":\"\"}},\"ternary\":{\"bgcolor\":\"#E5ECF6\",\"aaxis\":{\"gridcolor\":\"white\",\"linecolor\":\"white\",\"ticks\":\"\"},\"baxis\":{\"gridcolor\":\"white\",\"linecolor\":\"white\",\"ticks\":\"\"},\"caxis\":{\"gridcolor\":\"white\",\"linecolor\":\"white\",\"ticks\":\"\"}},\"coloraxis\":{\"colorbar\":{\"outlinewidth\":0,\"ticks\":\"\"}},\"colorscale\":{\"sequential\":[[0.0,\"#0d0887\"],[0.1111111111111111,\"#46039f\"],[0.2222222222222222,\"#7201a8\"],[0.3333333333333333,\"#9c179e\"],[0.4444444444444444,\"#bd3786\"],[0.5555555555555556,\"#d8576b\"],[0.6666666666666666,\"#ed7953\"],[0.7777777777777778,\"#fb9f3a\"],[0.8888888888888888,\"#fdca26\"],[1.0,\"#f0f921\"]],\"sequentialminus\":[[0.0,\"#0d0887\"],[0.1111111111111111,\"#46039f\"],[0.2222222222222222,\"#7201a8\"],[0.3333333333333333,\"#9c179e\"],[0.4444444444444444,\"#bd3786\"],[0.5555555555555556,\"#d8576b\"],[0.6666666666666666,\"#ed7953\"],[0.7777777777777778,\"#fb9f3a\"],[0.8888888888888888,\"#fdca26\"],[1.0,\"#f0f921\"]],\"diverging\":[[0,\"#8e0152\"],[0.1,\"#c51b7d\"],[0.2,\"#de77ae\"],[0.3,\"#f1b6da\"],[0.4,\"#fde0ef\"],[0.5,\"#f7f7f7\"],[0.6,\"#e6f5d0\"],[0.7,\"#b8e186\"],[0.8,\"#7fbc41\"],[0.9,\"#4d9221\"],[1,\"#276419\"]]},\"xaxis\":{\"gridcolor\":\"white\",\"linecolor\":\"white\",\"ticks\":\"\",\"title\":{\"standoff\":15},\"zerolinecolor\":\"white\",\"automargin\":true,\"zerolinewidth\":2},\"yaxis\":{\"gridcolor\":\"white\",\"linecolor\":\"white\",\"ticks\":\"\",\"title\":{\"standoff\":15},\"zerolinecolor\":\"white\",\"automargin\":true,\"zerolinewidth\":2},\"scene\":{\"xaxis\":{\"backgroundcolor\":\"#E5ECF6\",\"gridcolor\":\"white\",\"linecolor\":\"white\",\"showbackground\":true,\"ticks\":\"\",\"zerolinecolor\":\"white\",\"gridwidth\":2},\"yaxis\":{\"backgroundcolor\":\"#E5ECF6\",\"gridcolor\":\"white\",\"linecolor\":\"white\",\"showbackground\":true,\"ticks\":\"\",\"zerolinecolor\":\"white\",\"gridwidth\":2},\"zaxis\":{\"backgroundcolor\":\"#E5ECF6\",\"gridcolor\":\"white\",\"linecolor\":\"white\",\"showbackground\":true,\"ticks\":\"\",\"zerolinecolor\":\"white\",\"gridwidth\":2}},\"shapedefaults\":{\"line\":{\"color\":\"#2a3f5f\"}},\"annotationdefaults\":{\"arrowcolor\":\"#2a3f5f\",\"arrowhead\":0,\"arrowwidth\":1},\"geo\":{\"bgcolor\":\"white\",\"landcolor\":\"#E5ECF6\",\"subunitcolor\":\"white\",\"showland\":true,\"showlakes\":true,\"lakecolor\":\"white\"},\"title\":{\"x\":0.05},\"mapbox\":{\"style\":\"light\"}}},\"xaxis\":{\"anchor\":\"y\",\"domain\":[0.0,0.46],\"title\":{\"text\":\"$1-\\\\alpha$\"}},\"yaxis\":{\"anchor\":\"x\",\"domain\":[0.0,1.0],\"title\":{\"text\":\"achieved coverage\"},\"showticklabels\":true},\"xaxis2\":{\"anchor\":\"y2\",\"domain\":[0.54,1.0],\"matches\":\"x\",\"title\":{\"text\":\"$1-\\\\alpha$\"}},\"yaxis2\":{\"anchor\":\"x2\",\"domain\":[0.0,1.0],\"showticklabels\":true},\"annotations\":[{\"font\":{},\"showarrow\":false,\"text\":\"DomainNetAll\",\"x\":0.23,\"xanchor\":\"center\",\"xref\":\"paper\",\"y\":1.0,\"yanchor\":\"bottom\",\"yref\":\"paper\"},{\"font\":{},\"showarrow\":false,\"text\":\"DomainNetReal\",\"x\":0.77,\"xanchor\":\"center\",\"xref\":\"paper\",\"y\":1.0,\"yanchor\":\"bottom\",\"yref\":\"paper\"}],\"legend\":{\"title\":{\"text\":\"Method\"},\"tracegroupgap\":0},\"title\":{\"text\":\"APS-RAPS coverage under distribution shift w/ and w/o recalibration\"},\"height\":800},                        {\"responsive\": true}                    ).then(function(){\n",
       "                            \n",
       "var gd = document.getElementById('45d7a096-1861-4973-85d6-7772e3b26f7e');\n",
       "var x = new MutationObserver(function (mutations, observer) {{\n",
       "        var display = window.getComputedStyle(gd).display;\n",
       "        if (!display || display === 'none') {{\n",
       "            console.log([gd, 'removed!']);\n",
       "            Plotly.purge(gd);\n",
       "            observer.disconnect();\n",
       "        }}\n",
       "}});\n",
       "\n",
       "// Listen for the removal of the full notebook cells\n",
       "var notebookContainer = gd.closest('#notebook-container');\n",
       "if (notebookContainer) {{\n",
       "    x.observe(notebookContainer, {childList: true});\n",
       "}}\n",
       "\n",
       "// Listen for the clearing of the current output cell\n",
       "var outputEl = gd.closest('.output');\n",
       "if (outputEl) {{\n",
       "    x.observe(outputEl, {childList: true});\n",
       "}}\n",
       "\n",
       "                        })                };                });            </script>        </div>"
      ]
     },
     "metadata": {},
     "output_type": "display_data"
    }
   ],
   "source": [
    "dom_info_df = dom_info_df.query(\"Method not in ['PS-C', 'PS-M', 'PS-R']\")\n",
    "\n",
    "fig = px.line(\n",
    "    dom_info_df,\n",
    "    x='1_alpha', y='predicted_coverage', color='Method', markers=True, facet_col='source_data', facet_col_spacing=0.08,\n",
    "    category_orders={\n",
    "        \"Method\": ['$y=x$', 'original', 'QTC', 'QTC-SC', 'QTC-ST', 'PS-W', 'WSCI'],\n",
    "        \"source_data\": [\"DomainNetAll\", \"DomainNetReal\"],\n",
    "    },\n",
    "    title=\"QTC comparison to covariate shift based methods on DomainNet\",\n",
    "    labels = {\n",
    "        '1_alpha': r'$1-\\alpha$',\n",
    "        'predicted_coverage': 'achieved coverage',\n",
    "    }\n",
    ")\n",
    "\n",
    "fig.for_each_annotation(lambda a: a.update(text=a.text.split(\"=\")[-1]))\n",
    "\n",
    "fig.update_yaxes(matches=None, showticklabels=True)\n",
    "\n",
    "fig.update_layout(height=800)\n",
    "\n",
    "fig.show()"
   ]
  },
  {
   "cell_type": "markdown",
   "metadata": {},
   "source": [
    "#### Figure 4 (bottom row)"
   ]
  },
  {
   "cell_type": "code",
   "execution_count": 57,
   "metadata": {},
   "outputs": [
    {
     "data": {
      "application/vnd.plotly.v1+json": {
       "config": {
        "plotlyServerURL": "https://plot.ly"
       },
       "data": [
        {
         "hovertemplate": "Method=QTC<br>source_data=DomainNetAll<br>$1-\\alpha$=%{x}<br>avg. set size=%{y}<extra></extra>",
         "legendgroup": "QTC",
         "line": {
          "color": "#00cc96",
          "dash": "solid"
         },
         "marker": {
          "symbol": "circle"
         },
         "mode": "markers+lines",
         "name": "QTC",
         "orientation": "v",
         "showlegend": true,
         "type": "scatter",
         "x": [
          0.99,
          0.975,
          0.95,
          0.925,
          0.9,
          0.85,
          0.8
         ],
         "xaxis": "x",
         "y": [
          301.773,
          226.397,
          160.666,
          124.375,
          93.219,
          54.663,
          30.968
         ],
         "yaxis": "y"
        },
        {
         "hovertemplate": "Method=QTC<br>source_data=DomainNetReal<br>$1-\\alpha$=%{x}<br>avg. set size=%{y}<extra></extra>",
         "legendgroup": "QTC",
         "line": {
          "color": "#00cc96",
          "dash": "solid"
         },
         "marker": {
          "symbol": "circle"
         },
         "mode": "markers+lines",
         "name": "QTC",
         "orientation": "v",
         "showlegend": false,
         "type": "scatter",
         "x": [
          0.99,
          0.975,
          0.95,
          0.925,
          0.9,
          0.85,
          0.8
         ],
         "xaxis": "x2",
         "y": [
          306.572,
          207.375,
          133.507,
          90.378,
          66.765,
          37.163,
          21.889
         ],
         "yaxis": "y2"
        },
        {
         "hovertemplate": "Method=QTC-SC<br>source_data=DomainNetAll<br>$1-\\alpha$=%{x}<br>avg. set size=%{y}<extra></extra>",
         "legendgroup": "QTC-SC",
         "line": {
          "color": "#ab63fa",
          "dash": "solid"
         },
         "marker": {
          "symbol": "circle"
         },
         "mode": "markers+lines",
         "name": "QTC-SC",
         "orientation": "v",
         "showlegend": true,
         "type": "scatter",
         "x": [
          0.99,
          0.975,
          0.95,
          0.925,
          0.9,
          0.85,
          0.8
         ],
         "xaxis": "x",
         "y": [
          124.951,
          67.065,
          31.498,
          15.086,
          9.144,
          3.038,
          1.46
         ],
         "yaxis": "y"
        },
        {
         "hovertemplate": "Method=QTC-SC<br>source_data=DomainNetReal<br>$1-\\alpha$=%{x}<br>avg. set size=%{y}<extra></extra>",
         "legendgroup": "QTC-SC",
         "line": {
          "color": "#ab63fa",
          "dash": "solid"
         },
         "marker": {
          "symbol": "circle"
         },
         "mode": "markers+lines",
         "name": "QTC-SC",
         "orientation": "v",
         "showlegend": false,
         "type": "scatter",
         "x": [
          0.99,
          0.975,
          0.95,
          0.925,
          0.9,
          0.85,
          0.8
         ],
         "xaxis": "x2",
         "y": [
          38.127,
          15.743,
          6.103,
          3.103,
          1.905,
          0.859,
          0.503
         ],
         "yaxis": "y2"
        },
        {
         "hovertemplate": "Method=QTC-ST<br>source_data=DomainNetAll<br>$1-\\alpha$=%{x}<br>avg. set size=%{y}<extra></extra>",
         "legendgroup": "QTC-ST",
         "line": {
          "color": "#FFA15A",
          "dash": "solid"
         },
         "marker": {
          "symbol": "circle"
         },
         "mode": "markers+lines",
         "name": "QTC-ST",
         "orientation": "v",
         "showlegend": true,
         "type": "scatter",
         "x": [
          0.99,
          0.975,
          0.95,
          0.925,
          0.9,
          0.85,
          0.8
         ],
         "xaxis": "x",
         "y": [
          15.95,
          15.95,
          15.95,
          15.95,
          15.95,
          15.95,
          12.105
         ],
         "yaxis": "y"
        },
        {
         "hovertemplate": "Method=QTC-ST<br>source_data=DomainNetReal<br>$1-\\alpha$=%{x}<br>avg. set size=%{y}<extra></extra>",
         "legendgroup": "QTC-ST",
         "line": {
          "color": "#FFA15A",
          "dash": "solid"
         },
         "marker": {
          "symbol": "circle"
         },
         "mode": "markers+lines",
         "name": "QTC-ST",
         "orientation": "v",
         "showlegend": false,
         "type": "scatter",
         "x": [
          0.99,
          0.975,
          0.95,
          0.925,
          0.9,
          0.85,
          0.8
         ],
         "xaxis": "x2",
         "y": [
          15.95,
          15.95,
          15.95,
          15.95,
          15.95,
          15.95,
          9.68
         ],
         "yaxis": "y2"
        },
        {
         "hovertemplate": "Method=PS-W<br>source_data=DomainNetAll<br>$1-\\alpha$=%{x}<br>avg. set size=%{y}<extra></extra>",
         "legendgroup": "PS-W",
         "line": {
          "color": "#19d3f3",
          "dash": "solid"
         },
         "marker": {
          "symbol": "circle"
         },
         "mode": "markers+lines",
         "name": "PS-W",
         "orientation": "v",
         "showlegend": true,
         "type": "scatter",
         "x": [
          0.99,
          0.975,
          0.95,
          0.925,
          0.9,
          0.85,
          0.8
         ],
         "xaxis": "x",
         "y": [
          345,
          345,
          345,
          345,
          232.358,
          182.493,
          142.478
         ],
         "yaxis": "y"
        },
        {
         "hovertemplate": "Method=PS-W<br>source_data=DomainNetReal<br>$1-\\alpha$=%{x}<br>avg. set size=%{y}<extra></extra>",
         "legendgroup": "PS-W",
         "line": {
          "color": "#19d3f3",
          "dash": "solid"
         },
         "marker": {
          "symbol": "circle"
         },
         "mode": "markers+lines",
         "name": "PS-W",
         "orientation": "v",
         "showlegend": false,
         "type": "scatter",
         "x": [
          0.99,
          0.975,
          0.95,
          0.925,
          0.9,
          0.85,
          0.8
         ],
         "xaxis": "x2",
         "y": [
          345,
          345,
          345,
          345,
          345,
          186.387,
          123.213
         ],
         "yaxis": "y2"
        },
        {
         "hovertemplate": "Method=WSCI<br>source_data=DomainNetAll<br>$1-\\alpha$=%{x}<br>avg. set size=%{y}<extra></extra>",
         "legendgroup": "WSCI",
         "line": {
          "color": "#FF6692",
          "dash": "solid"
         },
         "marker": {
          "symbol": "circle"
         },
         "mode": "markers+lines",
         "name": "WSCI",
         "orientation": "v",
         "showlegend": true,
         "type": "scatter",
         "x": [
          0.99,
          0.975,
          0.95,
          0.925,
          0.9,
          0.85,
          0.8
         ],
         "xaxis": "x",
         "y": [
          329.916,
          291.618,
          240.735,
          204.821,
          169.646,
          116.823,
          81.093
         ],
         "yaxis": "y"
        },
        {
         "hovertemplate": "Method=WSCI<br>source_data=DomainNetReal<br>$1-\\alpha$=%{x}<br>avg. set size=%{y}<extra></extra>",
         "legendgroup": "WSCI",
         "line": {
          "color": "#FF6692",
          "dash": "solid"
         },
         "marker": {
          "symbol": "circle"
         },
         "mode": "markers+lines",
         "name": "WSCI",
         "orientation": "v",
         "showlegend": false,
         "type": "scatter",
         "x": [
          0.99,
          0.975,
          0.95,
          0.925,
          0.9,
          0.85,
          0.8
         ],
         "xaxis": "x2",
         "y": [
          340.421,
          223.607,
          118.835,
          70.337,
          45.917,
          20.841,
          10.559
         ],
         "yaxis": "y2"
        }
       ],
       "layout": {
        "annotations": [
         {
          "font": {},
          "showarrow": false,
          "text": "DomainNetAll",
          "x": 0.23,
          "xanchor": "center",
          "xref": "paper",
          "y": 1,
          "yanchor": "bottom",
          "yref": "paper"
         },
         {
          "font": {},
          "showarrow": false,
          "text": "DomainNetReal",
          "x": 0.77,
          "xanchor": "center",
          "xref": "paper",
          "y": 1,
          "yanchor": "bottom",
          "yref": "paper"
         }
        ],
        "height": 800,
        "legend": {
         "title": {
          "text": "Method"
         },
         "tracegroupgap": 0
        },
        "template": {
         "data": {
          "bar": [
           {
            "error_x": {
             "color": "#2a3f5f"
            },
            "error_y": {
             "color": "#2a3f5f"
            },
            "marker": {
             "line": {
              "color": "#E5ECF6",
              "width": 0.5
             },
             "pattern": {
              "fillmode": "overlay",
              "size": 10,
              "solidity": 0.2
             }
            },
            "type": "bar"
           }
          ],
          "barpolar": [
           {
            "marker": {
             "line": {
              "color": "#E5ECF6",
              "width": 0.5
             },
             "pattern": {
              "fillmode": "overlay",
              "size": 10,
              "solidity": 0.2
             }
            },
            "type": "barpolar"
           }
          ],
          "carpet": [
           {
            "aaxis": {
             "endlinecolor": "#2a3f5f",
             "gridcolor": "white",
             "linecolor": "white",
             "minorgridcolor": "white",
             "startlinecolor": "#2a3f5f"
            },
            "baxis": {
             "endlinecolor": "#2a3f5f",
             "gridcolor": "white",
             "linecolor": "white",
             "minorgridcolor": "white",
             "startlinecolor": "#2a3f5f"
            },
            "type": "carpet"
           }
          ],
          "choropleth": [
           {
            "colorbar": {
             "outlinewidth": 0,
             "ticks": ""
            },
            "type": "choropleth"
           }
          ],
          "contour": [
           {
            "colorbar": {
             "outlinewidth": 0,
             "ticks": ""
            },
            "colorscale": [
             [
              0,
              "#0d0887"
             ],
             [
              0.1111111111111111,
              "#46039f"
             ],
             [
              0.2222222222222222,
              "#7201a8"
             ],
             [
              0.3333333333333333,
              "#9c179e"
             ],
             [
              0.4444444444444444,
              "#bd3786"
             ],
             [
              0.5555555555555556,
              "#d8576b"
             ],
             [
              0.6666666666666666,
              "#ed7953"
             ],
             [
              0.7777777777777778,
              "#fb9f3a"
             ],
             [
              0.8888888888888888,
              "#fdca26"
             ],
             [
              1,
              "#f0f921"
             ]
            ],
            "type": "contour"
           }
          ],
          "contourcarpet": [
           {
            "colorbar": {
             "outlinewidth": 0,
             "ticks": ""
            },
            "type": "contourcarpet"
           }
          ],
          "heatmap": [
           {
            "colorbar": {
             "outlinewidth": 0,
             "ticks": ""
            },
            "colorscale": [
             [
              0,
              "#0d0887"
             ],
             [
              0.1111111111111111,
              "#46039f"
             ],
             [
              0.2222222222222222,
              "#7201a8"
             ],
             [
              0.3333333333333333,
              "#9c179e"
             ],
             [
              0.4444444444444444,
              "#bd3786"
             ],
             [
              0.5555555555555556,
              "#d8576b"
             ],
             [
              0.6666666666666666,
              "#ed7953"
             ],
             [
              0.7777777777777778,
              "#fb9f3a"
             ],
             [
              0.8888888888888888,
              "#fdca26"
             ],
             [
              1,
              "#f0f921"
             ]
            ],
            "type": "heatmap"
           }
          ],
          "heatmapgl": [
           {
            "colorbar": {
             "outlinewidth": 0,
             "ticks": ""
            },
            "colorscale": [
             [
              0,
              "#0d0887"
             ],
             [
              0.1111111111111111,
              "#46039f"
             ],
             [
              0.2222222222222222,
              "#7201a8"
             ],
             [
              0.3333333333333333,
              "#9c179e"
             ],
             [
              0.4444444444444444,
              "#bd3786"
             ],
             [
              0.5555555555555556,
              "#d8576b"
             ],
             [
              0.6666666666666666,
              "#ed7953"
             ],
             [
              0.7777777777777778,
              "#fb9f3a"
             ],
             [
              0.8888888888888888,
              "#fdca26"
             ],
             [
              1,
              "#f0f921"
             ]
            ],
            "type": "heatmapgl"
           }
          ],
          "histogram": [
           {
            "marker": {
             "pattern": {
              "fillmode": "overlay",
              "size": 10,
              "solidity": 0.2
             }
            },
            "type": "histogram"
           }
          ],
          "histogram2d": [
           {
            "colorbar": {
             "outlinewidth": 0,
             "ticks": ""
            },
            "colorscale": [
             [
              0,
              "#0d0887"
             ],
             [
              0.1111111111111111,
              "#46039f"
             ],
             [
              0.2222222222222222,
              "#7201a8"
             ],
             [
              0.3333333333333333,
              "#9c179e"
             ],
             [
              0.4444444444444444,
              "#bd3786"
             ],
             [
              0.5555555555555556,
              "#d8576b"
             ],
             [
              0.6666666666666666,
              "#ed7953"
             ],
             [
              0.7777777777777778,
              "#fb9f3a"
             ],
             [
              0.8888888888888888,
              "#fdca26"
             ],
             [
              1,
              "#f0f921"
             ]
            ],
            "type": "histogram2d"
           }
          ],
          "histogram2dcontour": [
           {
            "colorbar": {
             "outlinewidth": 0,
             "ticks": ""
            },
            "colorscale": [
             [
              0,
              "#0d0887"
             ],
             [
              0.1111111111111111,
              "#46039f"
             ],
             [
              0.2222222222222222,
              "#7201a8"
             ],
             [
              0.3333333333333333,
              "#9c179e"
             ],
             [
              0.4444444444444444,
              "#bd3786"
             ],
             [
              0.5555555555555556,
              "#d8576b"
             ],
             [
              0.6666666666666666,
              "#ed7953"
             ],
             [
              0.7777777777777778,
              "#fb9f3a"
             ],
             [
              0.8888888888888888,
              "#fdca26"
             ],
             [
              1,
              "#f0f921"
             ]
            ],
            "type": "histogram2dcontour"
           }
          ],
          "mesh3d": [
           {
            "colorbar": {
             "outlinewidth": 0,
             "ticks": ""
            },
            "type": "mesh3d"
           }
          ],
          "parcoords": [
           {
            "line": {
             "colorbar": {
              "outlinewidth": 0,
              "ticks": ""
             }
            },
            "type": "parcoords"
           }
          ],
          "pie": [
           {
            "automargin": true,
            "type": "pie"
           }
          ],
          "scatter": [
           {
            "fillpattern": {
             "fillmode": "overlay",
             "size": 10,
             "solidity": 0.2
            },
            "type": "scatter"
           }
          ],
          "scatter3d": [
           {
            "line": {
             "colorbar": {
              "outlinewidth": 0,
              "ticks": ""
             }
            },
            "marker": {
             "colorbar": {
              "outlinewidth": 0,
              "ticks": ""
             }
            },
            "type": "scatter3d"
           }
          ],
          "scattercarpet": [
           {
            "marker": {
             "colorbar": {
              "outlinewidth": 0,
              "ticks": ""
             }
            },
            "type": "scattercarpet"
           }
          ],
          "scattergeo": [
           {
            "marker": {
             "colorbar": {
              "outlinewidth": 0,
              "ticks": ""
             }
            },
            "type": "scattergeo"
           }
          ],
          "scattergl": [
           {
            "marker": {
             "colorbar": {
              "outlinewidth": 0,
              "ticks": ""
             }
            },
            "type": "scattergl"
           }
          ],
          "scattermapbox": [
           {
            "marker": {
             "colorbar": {
              "outlinewidth": 0,
              "ticks": ""
             }
            },
            "type": "scattermapbox"
           }
          ],
          "scatterpolar": [
           {
            "marker": {
             "colorbar": {
              "outlinewidth": 0,
              "ticks": ""
             }
            },
            "type": "scatterpolar"
           }
          ],
          "scatterpolargl": [
           {
            "marker": {
             "colorbar": {
              "outlinewidth": 0,
              "ticks": ""
             }
            },
            "type": "scatterpolargl"
           }
          ],
          "scatterternary": [
           {
            "marker": {
             "colorbar": {
              "outlinewidth": 0,
              "ticks": ""
             }
            },
            "type": "scatterternary"
           }
          ],
          "surface": [
           {
            "colorbar": {
             "outlinewidth": 0,
             "ticks": ""
            },
            "colorscale": [
             [
              0,
              "#0d0887"
             ],
             [
              0.1111111111111111,
              "#46039f"
             ],
             [
              0.2222222222222222,
              "#7201a8"
             ],
             [
              0.3333333333333333,
              "#9c179e"
             ],
             [
              0.4444444444444444,
              "#bd3786"
             ],
             [
              0.5555555555555556,
              "#d8576b"
             ],
             [
              0.6666666666666666,
              "#ed7953"
             ],
             [
              0.7777777777777778,
              "#fb9f3a"
             ],
             [
              0.8888888888888888,
              "#fdca26"
             ],
             [
              1,
              "#f0f921"
             ]
            ],
            "type": "surface"
           }
          ],
          "table": [
           {
            "cells": {
             "fill": {
              "color": "#EBF0F8"
             },
             "line": {
              "color": "white"
             }
            },
            "header": {
             "fill": {
              "color": "#C8D4E3"
             },
             "line": {
              "color": "white"
             }
            },
            "type": "table"
           }
          ]
         },
         "layout": {
          "annotationdefaults": {
           "arrowcolor": "#2a3f5f",
           "arrowhead": 0,
           "arrowwidth": 1
          },
          "autotypenumbers": "strict",
          "coloraxis": {
           "colorbar": {
            "outlinewidth": 0,
            "ticks": ""
           }
          },
          "colorscale": {
           "diverging": [
            [
             0,
             "#8e0152"
            ],
            [
             0.1,
             "#c51b7d"
            ],
            [
             0.2,
             "#de77ae"
            ],
            [
             0.3,
             "#f1b6da"
            ],
            [
             0.4,
             "#fde0ef"
            ],
            [
             0.5,
             "#f7f7f7"
            ],
            [
             0.6,
             "#e6f5d0"
            ],
            [
             0.7,
             "#b8e186"
            ],
            [
             0.8,
             "#7fbc41"
            ],
            [
             0.9,
             "#4d9221"
            ],
            [
             1,
             "#276419"
            ]
           ],
           "sequential": [
            [
             0,
             "#0d0887"
            ],
            [
             0.1111111111111111,
             "#46039f"
            ],
            [
             0.2222222222222222,
             "#7201a8"
            ],
            [
             0.3333333333333333,
             "#9c179e"
            ],
            [
             0.4444444444444444,
             "#bd3786"
            ],
            [
             0.5555555555555556,
             "#d8576b"
            ],
            [
             0.6666666666666666,
             "#ed7953"
            ],
            [
             0.7777777777777778,
             "#fb9f3a"
            ],
            [
             0.8888888888888888,
             "#fdca26"
            ],
            [
             1,
             "#f0f921"
            ]
           ],
           "sequentialminus": [
            [
             0,
             "#0d0887"
            ],
            [
             0.1111111111111111,
             "#46039f"
            ],
            [
             0.2222222222222222,
             "#7201a8"
            ],
            [
             0.3333333333333333,
             "#9c179e"
            ],
            [
             0.4444444444444444,
             "#bd3786"
            ],
            [
             0.5555555555555556,
             "#d8576b"
            ],
            [
             0.6666666666666666,
             "#ed7953"
            ],
            [
             0.7777777777777778,
             "#fb9f3a"
            ],
            [
             0.8888888888888888,
             "#fdca26"
            ],
            [
             1,
             "#f0f921"
            ]
           ]
          },
          "colorway": [
           "#636efa",
           "#EF553B",
           "#00cc96",
           "#ab63fa",
           "#FFA15A",
           "#19d3f3",
           "#FF6692",
           "#B6E880",
           "#FF97FF",
           "#FECB52"
          ],
          "font": {
           "color": "#2a3f5f"
          },
          "geo": {
           "bgcolor": "white",
           "lakecolor": "white",
           "landcolor": "#E5ECF6",
           "showlakes": true,
           "showland": true,
           "subunitcolor": "white"
          },
          "hoverlabel": {
           "align": "left"
          },
          "hovermode": "closest",
          "mapbox": {
           "style": "light"
          },
          "paper_bgcolor": "white",
          "plot_bgcolor": "#E5ECF6",
          "polar": {
           "angularaxis": {
            "gridcolor": "white",
            "linecolor": "white",
            "ticks": ""
           },
           "bgcolor": "#E5ECF6",
           "radialaxis": {
            "gridcolor": "white",
            "linecolor": "white",
            "ticks": ""
           }
          },
          "scene": {
           "xaxis": {
            "backgroundcolor": "#E5ECF6",
            "gridcolor": "white",
            "gridwidth": 2,
            "linecolor": "white",
            "showbackground": true,
            "ticks": "",
            "zerolinecolor": "white"
           },
           "yaxis": {
            "backgroundcolor": "#E5ECF6",
            "gridcolor": "white",
            "gridwidth": 2,
            "linecolor": "white",
            "showbackground": true,
            "ticks": "",
            "zerolinecolor": "white"
           },
           "zaxis": {
            "backgroundcolor": "#E5ECF6",
            "gridcolor": "white",
            "gridwidth": 2,
            "linecolor": "white",
            "showbackground": true,
            "ticks": "",
            "zerolinecolor": "white"
           }
          },
          "shapedefaults": {
           "line": {
            "color": "#2a3f5f"
           }
          },
          "ternary": {
           "aaxis": {
            "gridcolor": "white",
            "linecolor": "white",
            "ticks": ""
           },
           "baxis": {
            "gridcolor": "white",
            "linecolor": "white",
            "ticks": ""
           },
           "bgcolor": "#E5ECF6",
           "caxis": {
            "gridcolor": "white",
            "linecolor": "white",
            "ticks": ""
           }
          },
          "title": {
           "x": 0.05
          },
          "xaxis": {
           "automargin": true,
           "gridcolor": "white",
           "linecolor": "white",
           "ticks": "",
           "title": {
            "standoff": 15
           },
           "zerolinecolor": "white",
           "zerolinewidth": 2
          },
          "yaxis": {
           "automargin": true,
           "gridcolor": "white",
           "linecolor": "white",
           "ticks": "",
           "title": {
            "standoff": 15
           },
           "zerolinecolor": "white",
           "zerolinewidth": 2
          }
         }
        },
        "title": {
         "text": "QTC comparison to covariate shift based methods on DomainNet"
        },
        "xaxis": {
         "anchor": "y",
         "domain": [
          0,
          0.46
         ],
         "title": {
          "text": "$1-\\alpha$"
         }
        },
        "xaxis2": {
         "anchor": "y2",
         "domain": [
          0.54,
          1
         ],
         "matches": "x",
         "title": {
          "text": "$1-\\alpha$"
         }
        },
        "yaxis": {
         "anchor": "x",
         "domain": [
          0,
          1
         ],
         "showticklabels": true,
         "title": {
          "text": "avg. set size"
         },
         "type": "log"
        },
        "yaxis2": {
         "anchor": "x2",
         "domain": [
          0,
          1
         ],
         "showticklabels": true,
         "type": "log"
        }
       }
      },
      "text/html": [
       "<div>                            <div id=\"705dbd7e-941e-4e0c-9502-fbf75d5371cf\" class=\"plotly-graph-div\" style=\"height:800px; width:100%;\"></div>            <script type=\"text/javascript\">                require([\"plotly\"], function(Plotly) {                    window.PLOTLYENV=window.PLOTLYENV || {};                                    if (document.getElementById(\"705dbd7e-941e-4e0c-9502-fbf75d5371cf\")) {                    Plotly.newPlot(                        \"705dbd7e-941e-4e0c-9502-fbf75d5371cf\",                        [{\"hovertemplate\":\"Method=QTC<br>source_data=DomainNetAll<br>$1-\\\\alpha$=%{x}<br>avg. set size=%{y}<extra></extra>\",\"legendgroup\":\"QTC\",\"line\":{\"color\":\"#00cc96\",\"dash\":\"solid\"},\"marker\":{\"symbol\":\"circle\"},\"mode\":\"markers+lines\",\"name\":\"QTC\",\"orientation\":\"v\",\"showlegend\":true,\"x\":[0.99,0.975,0.95,0.925,0.9,0.85,0.8],\"xaxis\":\"x\",\"y\":[301.773,226.397,160.666,124.375,93.219,54.663,30.968],\"yaxis\":\"y\",\"type\":\"scatter\"},{\"hovertemplate\":\"Method=QTC<br>source_data=DomainNetReal<br>$1-\\\\alpha$=%{x}<br>avg. set size=%{y}<extra></extra>\",\"legendgroup\":\"QTC\",\"line\":{\"color\":\"#00cc96\",\"dash\":\"solid\"},\"marker\":{\"symbol\":\"circle\"},\"mode\":\"markers+lines\",\"name\":\"QTC\",\"orientation\":\"v\",\"showlegend\":false,\"x\":[0.99,0.975,0.95,0.925,0.9,0.85,0.8],\"xaxis\":\"x2\",\"y\":[306.572,207.375,133.507,90.378,66.765,37.163,21.889],\"yaxis\":\"y2\",\"type\":\"scatter\"},{\"hovertemplate\":\"Method=QTC-SC<br>source_data=DomainNetAll<br>$1-\\\\alpha$=%{x}<br>avg. set size=%{y}<extra></extra>\",\"legendgroup\":\"QTC-SC\",\"line\":{\"color\":\"#ab63fa\",\"dash\":\"solid\"},\"marker\":{\"symbol\":\"circle\"},\"mode\":\"markers+lines\",\"name\":\"QTC-SC\",\"orientation\":\"v\",\"showlegend\":true,\"x\":[0.99,0.975,0.95,0.925,0.9,0.85,0.8],\"xaxis\":\"x\",\"y\":[124.951,67.065,31.498,15.086,9.144,3.038,1.46],\"yaxis\":\"y\",\"type\":\"scatter\"},{\"hovertemplate\":\"Method=QTC-SC<br>source_data=DomainNetReal<br>$1-\\\\alpha$=%{x}<br>avg. set size=%{y}<extra></extra>\",\"legendgroup\":\"QTC-SC\",\"line\":{\"color\":\"#ab63fa\",\"dash\":\"solid\"},\"marker\":{\"symbol\":\"circle\"},\"mode\":\"markers+lines\",\"name\":\"QTC-SC\",\"orientation\":\"v\",\"showlegend\":false,\"x\":[0.99,0.975,0.95,0.925,0.9,0.85,0.8],\"xaxis\":\"x2\",\"y\":[38.127,15.743,6.103,3.103,1.905,0.859,0.503],\"yaxis\":\"y2\",\"type\":\"scatter\"},{\"hovertemplate\":\"Method=QTC-ST<br>source_data=DomainNetAll<br>$1-\\\\alpha$=%{x}<br>avg. set size=%{y}<extra></extra>\",\"legendgroup\":\"QTC-ST\",\"line\":{\"color\":\"#FFA15A\",\"dash\":\"solid\"},\"marker\":{\"symbol\":\"circle\"},\"mode\":\"markers+lines\",\"name\":\"QTC-ST\",\"orientation\":\"v\",\"showlegend\":true,\"x\":[0.99,0.975,0.95,0.925,0.9,0.85,0.8],\"xaxis\":\"x\",\"y\":[15.95,15.95,15.95,15.95,15.95,15.95,12.105],\"yaxis\":\"y\",\"type\":\"scatter\"},{\"hovertemplate\":\"Method=QTC-ST<br>source_data=DomainNetReal<br>$1-\\\\alpha$=%{x}<br>avg. set size=%{y}<extra></extra>\",\"legendgroup\":\"QTC-ST\",\"line\":{\"color\":\"#FFA15A\",\"dash\":\"solid\"},\"marker\":{\"symbol\":\"circle\"},\"mode\":\"markers+lines\",\"name\":\"QTC-ST\",\"orientation\":\"v\",\"showlegend\":false,\"x\":[0.99,0.975,0.95,0.925,0.9,0.85,0.8],\"xaxis\":\"x2\",\"y\":[15.95,15.95,15.95,15.95,15.95,15.95,9.68],\"yaxis\":\"y2\",\"type\":\"scatter\"},{\"hovertemplate\":\"Method=PS-W<br>source_data=DomainNetAll<br>$1-\\\\alpha$=%{x}<br>avg. set size=%{y}<extra></extra>\",\"legendgroup\":\"PS-W\",\"line\":{\"color\":\"#19d3f3\",\"dash\":\"solid\"},\"marker\":{\"symbol\":\"circle\"},\"mode\":\"markers+lines\",\"name\":\"PS-W\",\"orientation\":\"v\",\"showlegend\":true,\"x\":[0.99,0.975,0.95,0.925,0.9,0.85,0.8],\"xaxis\":\"x\",\"y\":[345.0,345.0,345.0,345.0,232.358,182.493,142.478],\"yaxis\":\"y\",\"type\":\"scatter\"},{\"hovertemplate\":\"Method=PS-W<br>source_data=DomainNetReal<br>$1-\\\\alpha$=%{x}<br>avg. set size=%{y}<extra></extra>\",\"legendgroup\":\"PS-W\",\"line\":{\"color\":\"#19d3f3\",\"dash\":\"solid\"},\"marker\":{\"symbol\":\"circle\"},\"mode\":\"markers+lines\",\"name\":\"PS-W\",\"orientation\":\"v\",\"showlegend\":false,\"x\":[0.99,0.975,0.95,0.925,0.9,0.85,0.8],\"xaxis\":\"x2\",\"y\":[345.0,345.0,345.0,345.0,345.0,186.387,123.213],\"yaxis\":\"y2\",\"type\":\"scatter\"},{\"hovertemplate\":\"Method=WSCI<br>source_data=DomainNetAll<br>$1-\\\\alpha$=%{x}<br>avg. set size=%{y}<extra></extra>\",\"legendgroup\":\"WSCI\",\"line\":{\"color\":\"#FF6692\",\"dash\":\"solid\"},\"marker\":{\"symbol\":\"circle\"},\"mode\":\"markers+lines\",\"name\":\"WSCI\",\"orientation\":\"v\",\"showlegend\":true,\"x\":[0.99,0.975,0.95,0.925,0.9,0.85,0.8],\"xaxis\":\"x\",\"y\":[329.916,291.618,240.735,204.821,169.646,116.823,81.093],\"yaxis\":\"y\",\"type\":\"scatter\"},{\"hovertemplate\":\"Method=WSCI<br>source_data=DomainNetReal<br>$1-\\\\alpha$=%{x}<br>avg. set size=%{y}<extra></extra>\",\"legendgroup\":\"WSCI\",\"line\":{\"color\":\"#FF6692\",\"dash\":\"solid\"},\"marker\":{\"symbol\":\"circle\"},\"mode\":\"markers+lines\",\"name\":\"WSCI\",\"orientation\":\"v\",\"showlegend\":false,\"x\":[0.99,0.975,0.95,0.925,0.9,0.85,0.8],\"xaxis\":\"x2\",\"y\":[340.421,223.607,118.835,70.337,45.917,20.841,10.559],\"yaxis\":\"y2\",\"type\":\"scatter\"}],                        {\"template\":{\"data\":{\"histogram2dcontour\":[{\"type\":\"histogram2dcontour\",\"colorbar\":{\"outlinewidth\":0,\"ticks\":\"\"},\"colorscale\":[[0.0,\"#0d0887\"],[0.1111111111111111,\"#46039f\"],[0.2222222222222222,\"#7201a8\"],[0.3333333333333333,\"#9c179e\"],[0.4444444444444444,\"#bd3786\"],[0.5555555555555556,\"#d8576b\"],[0.6666666666666666,\"#ed7953\"],[0.7777777777777778,\"#fb9f3a\"],[0.8888888888888888,\"#fdca26\"],[1.0,\"#f0f921\"]]}],\"choropleth\":[{\"type\":\"choropleth\",\"colorbar\":{\"outlinewidth\":0,\"ticks\":\"\"}}],\"histogram2d\":[{\"type\":\"histogram2d\",\"colorbar\":{\"outlinewidth\":0,\"ticks\":\"\"},\"colorscale\":[[0.0,\"#0d0887\"],[0.1111111111111111,\"#46039f\"],[0.2222222222222222,\"#7201a8\"],[0.3333333333333333,\"#9c179e\"],[0.4444444444444444,\"#bd3786\"],[0.5555555555555556,\"#d8576b\"],[0.6666666666666666,\"#ed7953\"],[0.7777777777777778,\"#fb9f3a\"],[0.8888888888888888,\"#fdca26\"],[1.0,\"#f0f921\"]]}],\"heatmap\":[{\"type\":\"heatmap\",\"colorbar\":{\"outlinewidth\":0,\"ticks\":\"\"},\"colorscale\":[[0.0,\"#0d0887\"],[0.1111111111111111,\"#46039f\"],[0.2222222222222222,\"#7201a8\"],[0.3333333333333333,\"#9c179e\"],[0.4444444444444444,\"#bd3786\"],[0.5555555555555556,\"#d8576b\"],[0.6666666666666666,\"#ed7953\"],[0.7777777777777778,\"#fb9f3a\"],[0.8888888888888888,\"#fdca26\"],[1.0,\"#f0f921\"]]}],\"heatmapgl\":[{\"type\":\"heatmapgl\",\"colorbar\":{\"outlinewidth\":0,\"ticks\":\"\"},\"colorscale\":[[0.0,\"#0d0887\"],[0.1111111111111111,\"#46039f\"],[0.2222222222222222,\"#7201a8\"],[0.3333333333333333,\"#9c179e\"],[0.4444444444444444,\"#bd3786\"],[0.5555555555555556,\"#d8576b\"],[0.6666666666666666,\"#ed7953\"],[0.7777777777777778,\"#fb9f3a\"],[0.8888888888888888,\"#fdca26\"],[1.0,\"#f0f921\"]]}],\"contourcarpet\":[{\"type\":\"contourcarpet\",\"colorbar\":{\"outlinewidth\":0,\"ticks\":\"\"}}],\"contour\":[{\"type\":\"contour\",\"colorbar\":{\"outlinewidth\":0,\"ticks\":\"\"},\"colorscale\":[[0.0,\"#0d0887\"],[0.1111111111111111,\"#46039f\"],[0.2222222222222222,\"#7201a8\"],[0.3333333333333333,\"#9c179e\"],[0.4444444444444444,\"#bd3786\"],[0.5555555555555556,\"#d8576b\"],[0.6666666666666666,\"#ed7953\"],[0.7777777777777778,\"#fb9f3a\"],[0.8888888888888888,\"#fdca26\"],[1.0,\"#f0f921\"]]}],\"surface\":[{\"type\":\"surface\",\"colorbar\":{\"outlinewidth\":0,\"ticks\":\"\"},\"colorscale\":[[0.0,\"#0d0887\"],[0.1111111111111111,\"#46039f\"],[0.2222222222222222,\"#7201a8\"],[0.3333333333333333,\"#9c179e\"],[0.4444444444444444,\"#bd3786\"],[0.5555555555555556,\"#d8576b\"],[0.6666666666666666,\"#ed7953\"],[0.7777777777777778,\"#fb9f3a\"],[0.8888888888888888,\"#fdca26\"],[1.0,\"#f0f921\"]]}],\"mesh3d\":[{\"type\":\"mesh3d\",\"colorbar\":{\"outlinewidth\":0,\"ticks\":\"\"}}],\"scatter\":[{\"fillpattern\":{\"fillmode\":\"overlay\",\"size\":10,\"solidity\":0.2},\"type\":\"scatter\"}],\"parcoords\":[{\"type\":\"parcoords\",\"line\":{\"colorbar\":{\"outlinewidth\":0,\"ticks\":\"\"}}}],\"scatterpolargl\":[{\"type\":\"scatterpolargl\",\"marker\":{\"colorbar\":{\"outlinewidth\":0,\"ticks\":\"\"}}}],\"bar\":[{\"error_x\":{\"color\":\"#2a3f5f\"},\"error_y\":{\"color\":\"#2a3f5f\"},\"marker\":{\"line\":{\"color\":\"#E5ECF6\",\"width\":0.5},\"pattern\":{\"fillmode\":\"overlay\",\"size\":10,\"solidity\":0.2}},\"type\":\"bar\"}],\"scattergeo\":[{\"type\":\"scattergeo\",\"marker\":{\"colorbar\":{\"outlinewidth\":0,\"ticks\":\"\"}}}],\"scatterpolar\":[{\"type\":\"scatterpolar\",\"marker\":{\"colorbar\":{\"outlinewidth\":0,\"ticks\":\"\"}}}],\"histogram\":[{\"marker\":{\"pattern\":{\"fillmode\":\"overlay\",\"size\":10,\"solidity\":0.2}},\"type\":\"histogram\"}],\"scattergl\":[{\"type\":\"scattergl\",\"marker\":{\"colorbar\":{\"outlinewidth\":0,\"ticks\":\"\"}}}],\"scatter3d\":[{\"type\":\"scatter3d\",\"line\":{\"colorbar\":{\"outlinewidth\":0,\"ticks\":\"\"}},\"marker\":{\"colorbar\":{\"outlinewidth\":0,\"ticks\":\"\"}}}],\"scattermapbox\":[{\"type\":\"scattermapbox\",\"marker\":{\"colorbar\":{\"outlinewidth\":0,\"ticks\":\"\"}}}],\"scatterternary\":[{\"type\":\"scatterternary\",\"marker\":{\"colorbar\":{\"outlinewidth\":0,\"ticks\":\"\"}}}],\"scattercarpet\":[{\"type\":\"scattercarpet\",\"marker\":{\"colorbar\":{\"outlinewidth\":0,\"ticks\":\"\"}}}],\"carpet\":[{\"aaxis\":{\"endlinecolor\":\"#2a3f5f\",\"gridcolor\":\"white\",\"linecolor\":\"white\",\"minorgridcolor\":\"white\",\"startlinecolor\":\"#2a3f5f\"},\"baxis\":{\"endlinecolor\":\"#2a3f5f\",\"gridcolor\":\"white\",\"linecolor\":\"white\",\"minorgridcolor\":\"white\",\"startlinecolor\":\"#2a3f5f\"},\"type\":\"carpet\"}],\"table\":[{\"cells\":{\"fill\":{\"color\":\"#EBF0F8\"},\"line\":{\"color\":\"white\"}},\"header\":{\"fill\":{\"color\":\"#C8D4E3\"},\"line\":{\"color\":\"white\"}},\"type\":\"table\"}],\"barpolar\":[{\"marker\":{\"line\":{\"color\":\"#E5ECF6\",\"width\":0.5},\"pattern\":{\"fillmode\":\"overlay\",\"size\":10,\"solidity\":0.2}},\"type\":\"barpolar\"}],\"pie\":[{\"automargin\":true,\"type\":\"pie\"}]},\"layout\":{\"autotypenumbers\":\"strict\",\"colorway\":[\"#636efa\",\"#EF553B\",\"#00cc96\",\"#ab63fa\",\"#FFA15A\",\"#19d3f3\",\"#FF6692\",\"#B6E880\",\"#FF97FF\",\"#FECB52\"],\"font\":{\"color\":\"#2a3f5f\"},\"hovermode\":\"closest\",\"hoverlabel\":{\"align\":\"left\"},\"paper_bgcolor\":\"white\",\"plot_bgcolor\":\"#E5ECF6\",\"polar\":{\"bgcolor\":\"#E5ECF6\",\"angularaxis\":{\"gridcolor\":\"white\",\"linecolor\":\"white\",\"ticks\":\"\"},\"radialaxis\":{\"gridcolor\":\"white\",\"linecolor\":\"white\",\"ticks\":\"\"}},\"ternary\":{\"bgcolor\":\"#E5ECF6\",\"aaxis\":{\"gridcolor\":\"white\",\"linecolor\":\"white\",\"ticks\":\"\"},\"baxis\":{\"gridcolor\":\"white\",\"linecolor\":\"white\",\"ticks\":\"\"},\"caxis\":{\"gridcolor\":\"white\",\"linecolor\":\"white\",\"ticks\":\"\"}},\"coloraxis\":{\"colorbar\":{\"outlinewidth\":0,\"ticks\":\"\"}},\"colorscale\":{\"sequential\":[[0.0,\"#0d0887\"],[0.1111111111111111,\"#46039f\"],[0.2222222222222222,\"#7201a8\"],[0.3333333333333333,\"#9c179e\"],[0.4444444444444444,\"#bd3786\"],[0.5555555555555556,\"#d8576b\"],[0.6666666666666666,\"#ed7953\"],[0.7777777777777778,\"#fb9f3a\"],[0.8888888888888888,\"#fdca26\"],[1.0,\"#f0f921\"]],\"sequentialminus\":[[0.0,\"#0d0887\"],[0.1111111111111111,\"#46039f\"],[0.2222222222222222,\"#7201a8\"],[0.3333333333333333,\"#9c179e\"],[0.4444444444444444,\"#bd3786\"],[0.5555555555555556,\"#d8576b\"],[0.6666666666666666,\"#ed7953\"],[0.7777777777777778,\"#fb9f3a\"],[0.8888888888888888,\"#fdca26\"],[1.0,\"#f0f921\"]],\"diverging\":[[0,\"#8e0152\"],[0.1,\"#c51b7d\"],[0.2,\"#de77ae\"],[0.3,\"#f1b6da\"],[0.4,\"#fde0ef\"],[0.5,\"#f7f7f7\"],[0.6,\"#e6f5d0\"],[0.7,\"#b8e186\"],[0.8,\"#7fbc41\"],[0.9,\"#4d9221\"],[1,\"#276419\"]]},\"xaxis\":{\"gridcolor\":\"white\",\"linecolor\":\"white\",\"ticks\":\"\",\"title\":{\"standoff\":15},\"zerolinecolor\":\"white\",\"automargin\":true,\"zerolinewidth\":2},\"yaxis\":{\"gridcolor\":\"white\",\"linecolor\":\"white\",\"ticks\":\"\",\"title\":{\"standoff\":15},\"zerolinecolor\":\"white\",\"automargin\":true,\"zerolinewidth\":2},\"scene\":{\"xaxis\":{\"backgroundcolor\":\"#E5ECF6\",\"gridcolor\":\"white\",\"linecolor\":\"white\",\"showbackground\":true,\"ticks\":\"\",\"zerolinecolor\":\"white\",\"gridwidth\":2},\"yaxis\":{\"backgroundcolor\":\"#E5ECF6\",\"gridcolor\":\"white\",\"linecolor\":\"white\",\"showbackground\":true,\"ticks\":\"\",\"zerolinecolor\":\"white\",\"gridwidth\":2},\"zaxis\":{\"backgroundcolor\":\"#E5ECF6\",\"gridcolor\":\"white\",\"linecolor\":\"white\",\"showbackground\":true,\"ticks\":\"\",\"zerolinecolor\":\"white\",\"gridwidth\":2}},\"shapedefaults\":{\"line\":{\"color\":\"#2a3f5f\"}},\"annotationdefaults\":{\"arrowcolor\":\"#2a3f5f\",\"arrowhead\":0,\"arrowwidth\":1},\"geo\":{\"bgcolor\":\"white\",\"landcolor\":\"#E5ECF6\",\"subunitcolor\":\"white\",\"showland\":true,\"showlakes\":true,\"lakecolor\":\"white\"},\"title\":{\"x\":0.05},\"mapbox\":{\"style\":\"light\"}}},\"xaxis\":{\"anchor\":\"y\",\"domain\":[0.0,0.46],\"title\":{\"text\":\"$1-\\\\alpha$\"}},\"yaxis\":{\"anchor\":\"x\",\"domain\":[0.0,1.0],\"title\":{\"text\":\"avg. set size\"},\"type\":\"log\",\"showticklabels\":true},\"xaxis2\":{\"anchor\":\"y2\",\"domain\":[0.54,1.0],\"matches\":\"x\",\"title\":{\"text\":\"$1-\\\\alpha$\"}},\"yaxis2\":{\"anchor\":\"x2\",\"domain\":[0.0,1.0],\"showticklabels\":true,\"type\":\"log\"},\"annotations\":[{\"font\":{},\"showarrow\":false,\"text\":\"DomainNetAll\",\"x\":0.23,\"xanchor\":\"center\",\"xref\":\"paper\",\"y\":1.0,\"yanchor\":\"bottom\",\"yref\":\"paper\"},{\"font\":{},\"showarrow\":false,\"text\":\"DomainNetReal\",\"x\":0.77,\"xanchor\":\"center\",\"xref\":\"paper\",\"y\":1.0,\"yanchor\":\"bottom\",\"yref\":\"paper\"}],\"legend\":{\"title\":{\"text\":\"Method\"},\"tracegroupgap\":0},\"title\":{\"text\":\"QTC comparison to covariate shift based methods on DomainNet\"},\"height\":800},                        {\"responsive\": true}                    ).then(function(){\n",
       "                            \n",
       "var gd = document.getElementById('705dbd7e-941e-4e0c-9502-fbf75d5371cf');\n",
       "var x = new MutationObserver(function (mutations, observer) {{\n",
       "        var display = window.getComputedStyle(gd).display;\n",
       "        if (!display || display === 'none') {{\n",
       "            console.log([gd, 'removed!']);\n",
       "            Plotly.purge(gd);\n",
       "            observer.disconnect();\n",
       "        }}\n",
       "}});\n",
       "\n",
       "// Listen for the removal of the full notebook cells\n",
       "var notebookContainer = gd.closest('#notebook-container');\n",
       "if (notebookContainer) {{\n",
       "    x.observe(notebookContainer, {childList: true});\n",
       "}}\n",
       "\n",
       "// Listen for the clearing of the current output cell\n",
       "var outputEl = gd.closest('.output');\n",
       "if (outputEl) {{\n",
       "    x.observe(outputEl, {childList: true});\n",
       "}}\n",
       "\n",
       "                        })                };                });            </script>        </div>"
      ]
     },
     "metadata": {},
     "output_type": "display_data"
    }
   ],
   "source": [
    "dom_info_size_df = dom_info_df.query(\"Method not in ['$y=x$', 'original', 'PS-C', 'PS-M', 'PS-R']\")\n",
    "\n",
    "fig = px.line(\n",
    "    dom_info_size_df,\n",
    "    log_y=True,\n",
    "    x='1_alpha', y='predicted_size', color='Method', markers=True,\n",
    "    facet_col='source_data', facet_col_spacing=0.08,\n",
    "    category_orders={\n",
    "        \"Method\": ['$y=x$', 'original', 'QTC', 'QTC-SC', 'QTC-ST', 'PS-W', 'WSCI'],\n",
    "        \"source_data\": [\"DomainNetAll\", \"DomainNetReal\"],\n",
    "    },\n",
    "    title=\"QTC comparison to covariate shift based methods on DomainNet\",\n",
    "    labels = {\n",
    "        '1_alpha': r'$1-\\alpha$',\n",
    "        'predicted_size': 'avg. set size',\n",
    "    }\n",
    ")\n",
    "\n",
    "fig.for_each_annotation(lambda a: a.update(text=a.text.split(\"=\")[-1]))\n",
    "\n",
    "fig.update_yaxes(matches=None, showticklabels=True)\n",
    "\n",
    "fig.update_layout(height=800)\n",
    "\n",
    "fig.show()"
   ]
  }
 ],
 "metadata": {
  "interpreter": {
   "hash": "d4d1e4263499bec80672ea0156c357c1ee493ec2b1c70f0acce89fc37c4a6abe"
  },
  "kernelspec": {
   "display_name": "Python 3.7.11 ('base')",
   "language": "python",
   "name": "python3"
  },
  "language_info": {
   "codemirror_mode": {
    "name": "ipython",
    "version": 3
   },
   "file_extension": ".py",
   "mimetype": "text/x-python",
   "name": "python",
   "nbconvert_exporter": "python",
   "pygments_lexer": "ipython3",
   "version": "3.7.11"
  },
  "orig_nbformat": 4
 },
 "nbformat": 4,
 "nbformat_minor": 2
}
